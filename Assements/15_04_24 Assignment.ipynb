{
 "cells": [
  {
   "cell_type": "markdown",
   "id": "438a72e0",
   "metadata": {},
   "source": [
    "# https://leetcode.com/problems/score-of-a-string/description/"
   ]
  },
  {
   "cell_type": "code",
   "execution_count": 1,
   "id": "d122e468",
   "metadata": {},
   "outputs": [
    {
     "name": "stdout",
     "output_type": "stream",
     "text": [
      "13\n"
     ]
    }
   ],
   "source": [
    "def scoreOfAString(s):\n",
    "    sum=0\n",
    "    n=len(s)\n",
    "    for i in range(0,n-1):\n",
    "        if i==n-1:\n",
    "            break\n",
    "        else:\n",
    "            sum+=abs(ord(s[i])-ord(s[i+1]))\n",
    "    return sum\n",
    "\n",
    "print(scoreOfAString(\"hello\"))"
   ]
  },
  {
   "cell_type": "markdown",
   "id": "6489a3dd",
   "metadata": {},
   "source": [
    "# https://leetcode.com/problems/valid-phone-numbers/description/"
   ]
  },
  {
   "cell_type": "code",
   "execution_count": 3,
   "id": "a24f0a94",
   "metadata": {},
   "outputs": [
    {
     "name": "stdout",
     "output_type": "stream",
     "text": [
      "987-123-4567\n",
      "(123) 456-7890"
     ]
    }
   ],
   "source": [
    "txt_file = open(\"file.txt\")\n",
    "for number in txt_file:\n",
    "    if len(number)>=10:\n",
    "        if number[3]==\"-\" and number[7]==\"-\" and len(number)==13:\n",
    "            print(number,end=\"\")\n",
    "        elif number[0]==\"(\" and number[4]==\")\" and number[5]==\" \" and number[9]==\"-\" and len(number)==14:\n",
    "            print(number,end=\"\")\n",
    "\n",
    "    "
   ]
  }
 ],
 "metadata": {
  "kernelspec": {
   "display_name": "Python 3 (ipykernel)",
   "language": "python",
   "name": "python3"
  },
  "language_info": {
   "codemirror_mode": {
    "name": "ipython",
    "version": 3
   },
   "file_extension": ".py",
   "mimetype": "text/x-python",
   "name": "python",
   "nbconvert_exporter": "python",
   "pygments_lexer": "ipython3",
   "version": "3.12.2"
  }
 },
 "nbformat": 4,
 "nbformat_minor": 5
}
