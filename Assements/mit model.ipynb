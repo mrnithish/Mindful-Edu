{
 "cells": [
  {
   "cell_type": "code",
   "execution_count": 21,
   "metadata": {},
   "outputs": [],
   "source": [
    "# Write a Python program that checks the strength of a password based on the following\n",
    "# criteria:\n",
    "# Test case:\n",
    "# The minimum length should be 8 characters.\n",
    "# Should contain at least one uppercase letter, one lowercase letter, one digit, and one special character.\n",
    "\n",
    "\n",
    "\n",
    "up = ['A','B','C','D','E','F','G','H','I','J','K','L','M','N','O','P','Q','R','S','T','U','V','W','X','Y','Z']\n",
    "lo =['a','b','c','d','e','f','g','h','i','j','k','l','m','n','o','p','q','r','s','t','u','v','w','x','y','z']\n",
    "di = ['1','2','3','4','5','6','7','8','9','0']\n",
    "sy =['!','@','#','$','%','^','&','*','(',')','{','}','[',']',':',';','\"',\"'\",'<','>',',','.','?','/','\\\\','+','-',\"`\",'~']\n",
    "\n"
   ]
  },
  {
   "cell_type": "code",
   "execution_count": 22,
   "metadata": {},
   "outputs": [
    {
     "name": "stdout",
     "output_type": "stream",
     "text": [
      "password : Rahul@123\n"
     ]
    }
   ],
   "source": [
    "# pd = input(\" Enter the password : \")\n",
    "pd = \"Rahul@123\"\n",
    "u,l,d,s = 0,0,0,0\n",
    "\n",
    "for i in pd:\n",
    "    if i in up:\n",
    "        u = 1\n",
    "\n",
    "    if i in lo:\n",
    "        l = 1\n",
    "\n",
    "    if i in di:\n",
    "        d = 1\n",
    "\n",
    "    if i in sy:\n",
    "        s = 1\n",
    "\n",
    "if len(pd) <= 8 :\n",
    "    print(\"minimum length should be 8 characters\")\n",
    "\n",
    "elif (u == 0 or l == 0 or d == 0 or s == 0):\n",
    "    print(\"password Should contain at least one uppercase letter, one lowercase letter, one digit, and one special character.\")\n",
    "\n",
    "else:\n",
    "    print(f'password : {pd}')"
   ]
  },
  {
   "cell_type": "code",
   "execution_count": 32,
   "metadata": {},
   "outputs": [
    {
     "name": "stdout",
     "output_type": "stream",
     "text": [
      "13 is a prime number\n"
     ]
    }
   ],
   "source": [
    "# write a Python program that checks if a given number is a prime number.\n",
    "# Test Case 1:\n",
    "# Input: 7\n",
    "# Expected Output: Prime\n",
    "# Test Case 2:\n",
    "# Input: 12\n",
    "# Expected Output: Not Prime\n",
    "\n",
    "\n",
    "\n",
    "num = int(input(\" Enter the number : \"))\n",
    "\n",
    "if num == 0:\n",
    "    print(f\"{num} is not a prime number\")\n",
    "elif num == 1:\n",
    "    print(f\"{num} is not a prime number\") \n",
    "else:\n",
    "    for i in range(2, num//2):\n",
    "        if num%i==0:\n",
    "            print(f\"{num} is not a prime number\")\n",
    "            break\n",
    "    else:\n",
    "        print(f\"{num} is a prime number\")\n",
    "\n"
   ]
  },
  {
   "cell_type": "code",
   "execution_count": 36,
   "metadata": {},
   "outputs": [
    {
     "name": "stdout",
     "output_type": "stream",
     "text": [
      "1*5=5\n",
      "2*5=10\n",
      "3*5=15\n",
      "4*5=20\n",
      "5*5=25\n",
      "6*5=30\n",
      "7*5=35\n",
      "8*5=40\n",
      "9*5=45\n",
      "10*5=50\n"
     ]
    }
   ],
   "source": [
    "# a-Write a Python program that generates the multiplication table for a given number up to a\n",
    "# specified range.\n",
    "# Test Case:\n",
    "# Input: Number = 5, Range = 3\n",
    "# Expected Output:\n",
    "# 1*5=5\n",
    "# 2*5=10\n",
    "# 3*5=15\n",
    "\n",
    "\n",
    "num = int(input(\" enter the number :\"))\n",
    "for i in range(1,11):\n",
    "    print(f'{i}*{num}={i*num}')"
   ]
  },
  {
   "cell_type": "code",
   "execution_count": 38,
   "metadata": {},
   "outputs": [
    {
     "name": "stdout",
     "output_type": "stream",
     "text": [
      "{'p': 2, 'y': 1, 't': 1, 'h': 1, 'o': 2, 'n': 2, ' ': 1, 'r': 2, 'g': 2, 'a': 1, 'm': 2, 'i': 1}\n"
     ]
    }
   ],
   "source": [
    "# Write a Python program that counts the frequency of each character in a given string.\n",
    "# Test Case 1:\n",
    "# Input: \"hello\"\n",
    "# Expected Output: {'h': 1, 'e': 1, 'l': 2, 'o': 1}\n",
    "# Test Case 2:\n",
    "# Input: \"python programming\"\n",
    "# Expected Output: {'p': 2, 'y': 1, 't': 1, 'h': 1, 'o': 1, 'n': 2, ' ': 1, 'r': 2, 'g': 2, 'a': 1, 'm': 2, 'i': 1}\n",
    "\n",
    "\n",
    "txt = input()\n",
    "di = {}\n",
    "\n",
    "for i in txt:\n",
    "    di.update({i: txt.count(i)})\n",
    "\n",
    "print(di)"
   ]
  },
  {
   "cell_type": "code",
   "execution_count": 99,
   "metadata": {},
   "outputs": [
    {
     "name": "stdout",
     "output_type": "stream",
     "text": [
      "666666\n",
      "55555\n",
      "4444\n",
      "333\n",
      "22\n",
      "1\n"
     ]
    }
   ],
   "source": [
    "# a- Inverted Pyramid of Descending Numbers\n",
    "# Description:\n",
    "# Write a Python program to generate an inverted pyramid pattern of descending numbers.\n",
    "# The pattern should start with the given number and decrease in each row until reaching 1.\n",
    "# Each row should display the same number, and the next row should have the number\n",
    "# decreased by 1.\n",
    "\n",
    "\n",
    "n = int(input(\" enter the number : \"))\n",
    "\n",
    "for i in range(n,0,-1):\n",
    "    print(str(i)*i)"
   ]
  },
  {
   "cell_type": "code",
   "execution_count": 53,
   "metadata": {},
   "outputs": [
    {
     "name": "stdout",
     "output_type": "stream",
     "text": [
      "* * * * * * * * * * * * \n",
      "*                     * \n",
      "*                     * \n",
      "*                     * \n",
      "*                     * \n",
      "*                     * \n",
      "*                     * \n",
      "*                     * \n",
      "*                     * \n",
      "*                     * \n",
      "*                     * \n",
      "* * * * * * * * * * * * \n"
     ]
    }
   ],
   "source": [
    "# Create a Python program to generate a hollow rectangle pattern using asterisks (*). The\n",
    "# rectangle should have a specified number of rows and columns, and the inner area should\n",
    "# remain hollow.\n",
    "\n",
    "n = 12\n",
    "\n",
    "for i in range(n):\n",
    "    for j in range(n):\n",
    "        if i == 0 or j == 0 or i == n-1 or j == n-1:\n",
    "            print('*', end = \" \")\n",
    "        else:\n",
    "            print(' ', end = ' ')\n",
    "    print()"
   ]
  },
  {
   "cell_type": "code",
   "execution_count": 1,
   "metadata": {},
   "outputs": [
    {
     "name": "stdout",
     "output_type": "stream",
     "text": [
      "\n",
      "1\n",
      "21\n",
      "321\n",
      "4321\n"
     ]
    }
   ],
   "source": [
    "# a- Numeric triangle\n",
    "# Create a numeric pattern in the form of a triangle using Python. Each row should display a\n",
    "# sequence of decreasing numbers, starting from a specified range. The pattern is printed\n",
    "# column-wise, where each column starts with a value based on the row number.\n",
    "\n",
    "\n",
    "num = int(input(\" enter a number : \"))\n",
    "\n",
    "for i in range(num):\n",
    "    while(i>0):\n",
    "        print(i, end ='')\n",
    "        i-=1\n",
    "    print()"
   ]
  },
  {
   "cell_type": "code",
   "execution_count": 2,
   "metadata": {},
   "outputs": [
    {
     "name": "stdout",
     "output_type": "stream",
     "text": [
      " * * * * * \n",
      "  * * * * \n",
      "   * * * \n",
      "    * * \n",
      "     * \n",
      "\n",
      " \n",
      "  \n",
      "   \n",
      "    \n",
      "     \n",
      "\n",
      " \n",
      "  \n",
      "   \n",
      "    \n",
      "     \n",
      "\n",
      " \n",
      "  \n",
      "   \n",
      "    \n",
      "     \n",
      "\n",
      " \n",
      "  \n",
      "   \n",
      "    \n",
      "     \n",
      "\n"
     ]
    }
   ],
   "source": [
    "# b- Create a Python program to generate a neat and centered inverted pyramid pattern\n",
    "# using asterisks (*). The inverted pyramid should have a specified number of rows.\n",
    "\n",
    "n = int(input(\" enter a number : \"))\n",
    "k = n\n",
    "for i in range(n):\n",
    "    for j in range(n):\n",
    "        print(\" \"*j,'* '*k)\n",
    "        k-=1\n",
    "    print()"
   ]
  },
  {
   "cell_type": "code",
   "execution_count": 88,
   "metadata": {},
   "outputs": [
    {
     "name": "stdout",
     "output_type": "stream",
     "text": [
      "***********\n",
      " *********\n",
      "  *******\n",
      "   *****\n",
      "    ***\n",
      "     *\n"
     ]
    }
   ],
   "source": [
    "\n",
    "\n",
    "# def inverted_pyramid(rows):\n",
    "#     for i in range(rows, 0, -1):\n",
    "#         # Print spaces before each '*' in the row\n",
    "#         for j in range(rows - i):\n",
    "#             print(\" \", end=\"\")\n",
    "#         # Print '*' for each column in the row\n",
    "#         for k in range(2*i - 1):\n",
    "#             print(\"*\", end=\"\")\n",
    "#         # Move to the next line for the next row\n",
    "#         print()\n",
    "\n",
    "# # Example with 4 rows\n",
    "# num_rows = 6\n",
    "# inverted_pyramid(num_rows)\n"
   ]
  },
  {
   "cell_type": "code",
   "execution_count": 89,
   "metadata": {},
   "outputs": [],
   "source": [
    "# List Operations:\n",
    "# 1- Create a list using the following values\n",
    "# ‘[1,2,3,4,5]’\n",
    "# 2- Add elements to the List:\n",
    "# Value = ‘6’\n",
    "# 3- Add elements at the start of the List:\n",
    "# Value = ‘0’\n",
    "# 4- Remove an element from the list using pop ():\n",
    "# Value = ‘3’\n",
    "# 5- Remove the last element from the list using pop ():\n",
    "# 6- Remove an element from the list using\n",
    "# remove ():\n",
    "# Value = ‘4’\n",
    "# 7- Use slice operation to get a subset of the list\n",
    "# Get a subset of the list from index 1 to 3.\n",
    "# 8- Reverse the list using loops:\n",
    "# 9- Implementing the singly linked list:\n",
    "# Implement a singly linked list and add value ‘7’ at the start\n",
    "# 10-Check if value exists:\n",
    "# Value = ‘4’\n",
    "\n",
    "\n",
    "\n",
    "\n",
    "\n"
   ]
  },
  {
   "cell_type": "code",
   "execution_count": 4,
   "metadata": {},
   "outputs": [
    {
     "name": "stdout",
     "output_type": "stream",
     "text": [
      "[1, 2, 3, 4, 5, 6]\n"
     ]
    }
   ],
   "source": [
    "li = [1,2,3,4,5]\n",
    "\n",
    "li.append(6)\n",
    "print(li)"
   ]
  },
  {
   "cell_type": "code",
   "execution_count": 104,
   "metadata": {},
   "outputs": [
    {
     "name": "stdout",
     "output_type": "stream",
     "text": [
      "[0, 1, 2, 3, 4, 5, 6]\n"
     ]
    }
   ],
   "source": [
    "li.insert(0,0)\n",
    "print(li)"
   ]
  },
  {
   "cell_type": "code",
   "execution_count": 105,
   "metadata": {},
   "outputs": [
    {
     "data": {
      "text/plain": [
       "3"
      ]
     },
     "execution_count": 105,
     "metadata": {},
     "output_type": "execute_result"
    }
   ],
   "source": [
    "li.pop(3)"
   ]
  },
  {
   "cell_type": "code",
   "execution_count": 106,
   "metadata": {},
   "outputs": [
    {
     "data": {
      "text/plain": [
       "6"
      ]
     },
     "execution_count": 106,
     "metadata": {},
     "output_type": "execute_result"
    }
   ],
   "source": [
    "li.pop()"
   ]
  },
  {
   "cell_type": "code",
   "execution_count": 107,
   "metadata": {},
   "outputs": [
    {
     "data": {
      "text/plain": [
       "[0, 1, 2, 5]"
      ]
     },
     "execution_count": 107,
     "metadata": {},
     "output_type": "execute_result"
    }
   ],
   "source": [
    "li.remove(4)\n",
    "li"
   ]
  },
  {
   "cell_type": "code",
   "execution_count": 109,
   "metadata": {},
   "outputs": [
    {
     "data": {
      "text/plain": [
       "[1, 2, 5]"
      ]
     },
     "execution_count": 109,
     "metadata": {},
     "output_type": "execute_result"
    }
   ],
   "source": [
    "li[1:4]"
   ]
  },
  {
   "cell_type": "code",
   "execution_count": 114,
   "metadata": {},
   "outputs": [
    {
     "name": "stdout",
     "output_type": "stream",
     "text": [
      "5 2 1 0 "
     ]
    }
   ],
   "source": [
    "for i in range(len(li)-1,-1,-1):\n",
    "    print(li[i], end =\" \")"
   ]
  },
  {
   "cell_type": "code",
   "execution_count": 111,
   "metadata": {},
   "outputs": [
    {
     "data": {
      "text/plain": [
       "[5, 2, 1, 0]"
      ]
     },
     "execution_count": 111,
     "metadata": {},
     "output_type": "execute_result"
    }
   ],
   "source": [
    "# li[::-1]"
   ]
  },
  {
   "cell_type": "code",
   "execution_count": 123,
   "metadata": {},
   "outputs": [
    {
     "data": {
      "text/plain": [
       "[7]"
      ]
     },
     "execution_count": 123,
     "metadata": {},
     "output_type": "execute_result"
    }
   ],
   "source": [
    "x = []\n",
    "def addend(lis,element):\n",
    "    lis.append(element)\n",
    "    return lis\n",
    "def addstart(lis,element):\n",
    "    lis.insert(0,element)\n",
    "    return lis\n",
    "def addafterelemnt(lis,element,afterelement):\n",
    "    index = lis.index(afterelement)\n",
    "    lis.insert(index,element)\n",
    "    return lis\n",
    "\n",
    "addstart(x,7)"
   ]
  },
  {
   "cell_type": "code",
   "execution_count": 125,
   "metadata": {},
   "outputs": [
    {
     "data": {
      "text/plain": [
       "False"
      ]
     },
     "execution_count": 125,
     "metadata": {},
     "output_type": "execute_result"
    }
   ],
   "source": [
    "4 in li"
   ]
  },
  {
   "cell_type": "code",
   "execution_count": null,
   "metadata": {},
   "outputs": [],
   "source": []
  }
 ],
 "metadata": {
  "kernelspec": {
   "display_name": "Python 3",
   "language": "python",
   "name": "python3"
  },
  "language_info": {
   "codemirror_mode": {
    "name": "ipython",
    "version": 3
   },
   "file_extension": ".py",
   "mimetype": "text/x-python",
   "name": "python",
   "nbconvert_exporter": "python",
   "pygments_lexer": "ipython3",
   "version": "3.12.2"
  }
 },
 "nbformat": 4,
 "nbformat_minor": 2
}
