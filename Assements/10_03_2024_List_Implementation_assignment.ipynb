{
 "cells": [
  {
   "cell_type": "markdown",
   "metadata": {},
   "source": [
    "# Assignment 4"
   ]
  },
  {
   "cell_type": "markdown",
   "metadata": {},
   "source": [
    "## List Implementation"
   ]
  },
  {
   "cell_type": "markdown",
   "metadata": {},
   "source": [
    "### Stack using a List"
   ]
  },
  {
   "cell_type": "code",
   "execution_count": 41,
   "metadata": {},
   "outputs": [
    {
     "name": "stdout",
     "output_type": "stream",
     "text": [
      "Stack Implementation:\n",
      "1.Push\n",
      "2.Pop\n",
      "3.Peek\n",
      "4.Diplay\n",
      "5.Exit\n",
      "2 is pushed in the stack\n",
      "Stack Implementation:\n",
      "1.Push\n",
      "2.Pop\n",
      "3.Peek\n",
      "4.Diplay\n",
      "5.Exit\n",
      "5 is pushed in the stack\n",
      "Stack Implementation:\n",
      "1.Push\n",
      "2.Pop\n",
      "3.Peek\n",
      "4.Diplay\n",
      "5.Exit\n",
      "5 is pushed in the stack\n",
      "Stack Implementation:\n",
      "1.Push\n",
      "2.Pop\n",
      "3.Peek\n",
      "4.Diplay\n",
      "5.Exit\n",
      "5\n",
      "Stack Implementation:\n",
      "1.Push\n",
      "2.Pop\n",
      "3.Peek\n",
      "4.Diplay\n",
      "5.Exit\n",
      "List :  [5, 5, 2]\n",
      "Stack Implementation:\n",
      "1.Push\n",
      "2.Pop\n",
      "3.Peek\n",
      "4.Diplay\n",
      "5.Exit\n",
      "5 is poped in the Stack\n",
      "Stack Implementation:\n",
      "1.Push\n",
      "2.Pop\n",
      "3.Peek\n",
      "4.Diplay\n",
      "5.Exit\n",
      "5 is poped in the Stack\n",
      "Stack Implementation:\n",
      "1.Push\n",
      "2.Pop\n",
      "3.Peek\n",
      "4.Diplay\n",
      "5.Exit\n",
      "List :  [2]\n",
      "Stack Implementation:\n",
      "1.Push\n",
      "2.Pop\n",
      "3.Peek\n",
      "4.Diplay\n",
      "5.Exit\n",
      "Exited\n"
     ]
    }
   ],
   "source": [
    "x=[]\n",
    "def pushList():\n",
    "    element=int(input(\"Enter the value: \"))\n",
    "    x.append(element)\n",
    "    print(f'{element} is pushed in the stack')\n",
    "    return x\n",
    "def popList():\n",
    "    if len(x)==0:\n",
    "        print(\"List is Empty\")\n",
    "    else:\n",
    "        ele=x.pop()\n",
    "        print(f'{ele} is poped in the Stack')\n",
    "    return x\n",
    "def display():\n",
    "    if len(x)==0:\n",
    "        print(\"List is Empty\")\n",
    "    else:\n",
    "        print(\"List : \",x[-1:-(len(x)+1):-1])\n",
    "def peek():\n",
    "    if len(x)==0:\n",
    "        print(\"List is Empty\")\n",
    "    else:\n",
    "        print(x[-1])\n",
    "while True:\n",
    "    print(\"Stack Implementation:\\n1.Push\\n2.Pop\\n3.Peek\\n4.Diplay\\n5.Exit\")\n",
    "    choice=int(input(\"Enter the Option:\"))\n",
    "    match choice:\n",
    "        case 1:\n",
    "            pushList()\n",
    "        case 2:\n",
    "            popList()\n",
    "        case 3:\n",
    "            peek()\n",
    "        case 4:\n",
    "            display()\n",
    "        case 5:\n",
    "            print('Exited')\n",
    "            exit(\"Exited\")\n",
    "            break\n",
    "        case _:\n",
    "            print(\"Invalid option\")"
   ]
  },
  {
   "cell_type": "markdown",
   "metadata": {},
   "source": [
    "### Singly Linked List"
   ]
  },
  {
   "cell_type": "code",
   "execution_count": 4,
   "metadata": {},
   "outputs": [
    {
     "name": "stdout",
     "output_type": "stream",
     "text": [
      "Singly List Implementation:\n",
      "1.Inser\n",
      "2.Display\n",
      "3.InsertPosition\n",
      "4.Exit\n",
      "2 is inserted\n",
      "Singly List Implementation:\n",
      "1.Inser\n",
      "2.Display\n",
      "3.InsertPosition\n",
      "4.Exit\n",
      "List : \n",
      "2\n",
      "Singly List Implementation:\n",
      "1.Inser\n",
      "2.Display\n",
      "3.InsertPosition\n",
      "4.Exit\n",
      "6 is inserted\n",
      "Singly List Implementation:\n",
      "1.Inser\n",
      "2.Display\n",
      "3.InsertPosition\n",
      "4.Exit\n",
      "List : \n",
      "2\n",
      "6\n",
      "Singly List Implementation:\n",
      "1.Inser\n",
      "2.Display\n",
      "3.InsertPosition\n",
      "4.Exit\n",
      "Singly List Implementation:\n",
      "1.Inser\n",
      "2.Display\n",
      "3.InsertPosition\n",
      "4.Exit\n",
      "List : \n",
      "34\n",
      "2\n",
      "6\n",
      "Singly List Implementation:\n",
      "1.Inser\n",
      "2.Display\n",
      "3.InsertPosition\n",
      "4.Exit\n",
      "Exited\n"
     ]
    }
   ],
   "source": [
    "x=[]\n",
    "def insertPostion():\n",
    "    element=int(input(\"Enter the element: \"))\n",
    "    position=int(input(\"Enter the position: \"))\n",
    "    x.insert(position,element)\n",
    "    return x\n",
    "def display():\n",
    "    print(\"List : \")\n",
    "    for i in x:\n",
    "        print(i)\n",
    "def insert():\n",
    "    element=int(input(\"Enter the element: \"))\n",
    "    x.append(element)\n",
    "    print(f'{element} is inserted')\n",
    "\n",
    "while True:\n",
    "    print(\"Singly List Implementation:\\n1.Insert\\n2.Display\\n3.InsertPosition\\n4.Exit\")\n",
    "    choice=int(input(\"Enter the Option:\"))\n",
    "    match choice:\n",
    "        case 1:\n",
    "            insert()\n",
    "        case 2:\n",
    "            display()\n",
    "        case 3:\n",
    "            insertPostion()\n",
    "        case 4:\n",
    "            print('Exited')\n",
    "            exit(\"Exited\")\n",
    "            break\n",
    "        case _:\n",
    "            print(\"Invalid option\")"
   ]
  },
  {
   "cell_type": "markdown",
   "metadata": {},
   "source": [
    "### Queue"
   ]
  },
  {
   "cell_type": "code",
   "execution_count": 18,
   "metadata": {},
   "outputs": [
    {
     "name": "stdout",
     "output_type": "stream",
     "text": [
      "deque([1, 2, 3])\n",
      "deque([])\n"
     ]
    }
   ],
   "source": [
    "import collections\n",
    "deq = collections.deque([])\n",
    "deq.append(1)\n",
    "deq.append(2)\n",
    "deq.append(3) # we can also use appendleft()\n",
    "print(deq)\n",
    "while(len(deq)>0):\n",
    "    deq.pop()\n",
    "print(deq)"
   ]
  },
  {
   "cell_type": "markdown",
   "metadata": {},
   "source": [
    "### Reverse a List"
   ]
  },
  {
   "cell_type": "code",
   "execution_count": 27,
   "metadata": {},
   "outputs": [
    {
     "name": "stdout",
     "output_type": "stream",
     "text": [
      "5  4  3  2  1  "
     ]
    }
   ],
   "source": [
    "#iterative Approach\n",
    "x=[1,2,3,4,5]\n",
    "for i in range(-1,-(len(x)+1),-1):\n",
    "    print(x[i],\" \",end=\"\")"
   ]
  },
  {
   "cell_type": "code",
   "execution_count": 40,
   "metadata": {},
   "outputs": [
    {
     "name": "stdout",
     "output_type": "stream",
     "text": [
      "Original list : [1, 2, 3, 4, 5]\n",
      "Reversed list : [5, 4, 3, 2, 1]\n"
     ]
    }
   ],
   "source": [
    "#iterative approach\n",
    "def reverse_list(x):\n",
    "    start, end = 0, len(x) - 1\n",
    "    for _ in range(len(x) // 2):\n",
    "        x[start], x[end] = x[end], x[start]\n",
    "        start += 1\n",
    "        end -= 1\n",
    "    return x\n",
    "\n",
    "x = [1, 2, 3, 4, 5]\n",
    "\n",
    "print('Original list :', x)\n",
    "print('Reversed list :', reverse_list(x))\n"
   ]
  },
  {
   "cell_type": "code",
   "execution_count": 39,
   "metadata": {},
   "outputs": [
    {
     "name": "stdout",
     "output_type": "stream",
     "text": [
      "Original list: [1, 2, 3, 4, 5]\n",
      "Reversed list : [5, 4, 3, 2, 1]\n"
     ]
    }
   ],
   "source": [
    "#Recusive Approach\n",
    "def reverse_list(x, start, end):\n",
    "    if start >= end:\n",
    "        return x\n",
    "\n",
    "    #swap\n",
    "    x[start], x[end] = x[end], x[start]\n",
    "\n",
    "    return reverse_list(x,start+1,end-1)\n",
    "\n",
    "\n",
    "x = [1,2,3,4,5]\n",
    "\n",
    "start = 0\n",
    "end = len(x)-1\n",
    "\n",
    "print('Original list:',x)\n",
    "\n",
    "print('Reversed list :',reverse_list(x,start,end))"
   ]
  },
  {
   "cell_type": "markdown",
   "metadata": {},
   "source": [
    "### Merge Sorted List"
   ]
  },
  {
   "cell_type": "code",
   "execution_count": 1,
   "metadata": {},
   "outputs": [
    {
     "name": "stdout",
     "output_type": "stream",
     "text": [
      "[False]\n",
      "[1, 1, 2, 3, 4, 5, 6]\n",
      "[False]\n",
      "List :  [1, 2, 3, 4, 5, 6]\n",
      "Duplicates : [1]\n"
     ]
    }
   ],
   "source": [
    "#merge list\n",
    "from multiprocessing.reduction import duplicate\n",
    "\n",
    "\n",
    "list1=[1,3,5]\n",
    "list2=[2,4,6,1]\n",
    "# check length\n",
    "print([len(list1) is len(list2)])\n",
    "list1.extend(list2)\n",
    "list1.sort()\n",
    "print(list1)\n",
    "# check length\n",
    "print([len(list1) is len(list2)])\n",
    "#check Duplicates\n",
    "newlist=[]\n",
    "duplist = []\n",
    "for i in list1:\n",
    "    if i not in newlist:\n",
    "        newlist.append(i)\n",
    "    else:\n",
    "        duplist.append(i)\n",
    "print(\"List : \",newlist)\n",
    "print(\"Duplicates :\",duplist)\n"
   ]
  }
 ],
 "metadata": {
  "kernelspec": {
   "display_name": "Python 3",
   "language": "python",
   "name": "python3"
  },
  "language_info": {
   "codemirror_mode": {
    "name": "ipython",
    "version": 3
   },
   "file_extension": ".py",
   "mimetype": "text/x-python",
   "name": "python",
   "nbconvert_exporter": "python",
   "pygments_lexer": "ipython3",
   "version": "3.10.11"
  }
 },
 "nbformat": 4,
 "nbformat_minor": 2
}
