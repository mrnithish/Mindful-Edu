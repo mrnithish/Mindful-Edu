{
 "cells": [
  {
   "cell_type": "markdown",
   "metadata": {},
   "source": [
    "# Assignment Day 2 \n",
    "# 1- Print a Square of stars"
   ]
  },
  {
   "cell_type": "code",
   "execution_count": 1,
   "metadata": {},
   "outputs": [
    {
     "name": "stdout",
     "output_type": "stream",
     "text": [
      "*****\n",
      "*****\n",
      "*****\n",
      "*****\n",
      "*****\n"
     ]
    }
   ],
   "source": [
    "def printsquarestars(rows):\n",
    "    for i in range(rows):\n",
    "        print('*'*rows)\n",
    "rows=int(input(\"Enter the Number of rows:\"))\n",
    "printsquarestars(rows)\n"
   ]
  },
  {
   "cell_type": "markdown",
   "metadata": {},
   "source": [
    "# 2- Print a Right Triangle Pattern of Stars"
   ]
  },
  {
   "cell_type": "code",
   "execution_count": 5,
   "metadata": {},
   "outputs": [
    {
     "name": "stdout",
     "output_type": "stream",
     "text": [
      "*\n",
      "**\n",
      "***\n",
      "****\n",
      "*****\n",
      "******\n"
     ]
    }
   ],
   "source": [
    "def printTriangleStars(rows):\n",
    "    for i in range(1,rows+1):\n",
    "        print('*'*i)\n",
    "rows=int(input(\"Enter the Number of rows:\"))\n",
    "printTriangleStars(rows)"
   ]
  },
  {
   "cell_type": "markdown",
   "metadata": {},
   "source": [
    "# 3- Print a Hollow Square Pattern of stars\n"
   ]
  },
  {
   "cell_type": "code",
   "execution_count": 8,
   "metadata": {},
   "outputs": [
    {
     "name": "stdout",
     "output_type": "stream",
     "text": [
      "*****\n",
      "*   *\n",
      "*   *\n",
      "*   *\n",
      "*****\n"
     ]
    }
   ],
   "source": [
    "def printHollowsquarestars(rows):\n",
    "    for i in range(1,rows+1):\n",
    "        for j in range(1,rows+1):\n",
    "            if i==1 or i==rows or j==1 or j==rows:\n",
    "                print(\"*\",end=\"\")\n",
    "            else:\n",
    "                print(\" \",end=\"\")\n",
    "        print()\n",
    "rows=int(input(\"Enter the Number of rows:\"))\n",
    "printHollowsquarestars(rows)"
   ]
  },
  {
   "cell_type": "markdown",
   "metadata": {},
   "source": [
    "# 4- Print a Staircase Pattern of stars"
   ]
  },
  {
   "cell_type": "code",
   "execution_count": 13,
   "metadata": {},
   "outputs": [
    {
     "name": "stdout",
     "output_type": "stream",
     "text": [
      "*\n",
      "*\n",
      "**\n",
      "**\n",
      "***\n",
      "***\n",
      "****\n",
      "****\n",
      "*****\n",
      "*****\n"
     ]
    }
   ],
   "source": [
    "def printStaircaseStars(rows):\n",
    "    for i in range(1,rows+1):\n",
    "        print('*'*i)\n",
    "        print('*'*i)\n",
    "rows=int(input(\"Enter the Number of rows:\"))\n",
    "printStaircaseStars(rows)"
   ]
  },
  {
   "cell_type": "code",
   "execution_count": 11,
   "metadata": {},
   "outputs": [
    {
     "name": "stdout",
     "output_type": "stream",
     "text": [
      "**\n",
      "**\n",
      "****\n",
      "****\n",
      "******\n",
      "******\n"
     ]
    }
   ],
   "source": [
    "def printStaircaseStars(rows):\n",
    "    for i in range(2,rows+1,2):\n",
    "        print('*'*i)\n",
    "        print('*'*i)\n",
    "rows=int(input(\"Enter the Number of rows:\"))\n",
    "printStaircaseStars(rows)"
   ]
  },
  {
   "cell_type": "markdown",
   "metadata": {},
   "source": [
    "# 5- Print a Butterfly Pattern of Stars "
   ]
  },
  {
   "cell_type": "code",
   "execution_count": 9,
   "metadata": {},
   "outputs": [
    {
     "name": "stdout",
     "output_type": "stream",
     "text": [
      "*        *\n",
      "**      **\n",
      "***    ***\n",
      "****  ****\n",
      "**********\n",
      "**********\n",
      "****  ****\n",
      "***    ***\n",
      "**      **\n",
      "*        *\n"
     ]
    }
   ],
   "source": [
    "def printButterflyStars(rows):\n",
    "    for i in range(1,rows+1):\n",
    "        print(\"*\"*i, end=\"\")\n",
    "        print(\" \"*(rows-i)*2, end=\"\")\n",
    "        print(\"*\"*i)\n",
    "    for i in range (rows,0,-1):\n",
    "        print(\"*\"*i, end=\"\")\n",
    "        print(\" \"*(rows-i)*2, end=\"\")\n",
    "        print(\"*\"*i)    \n",
    "rows=int(input(\"Enter the Number of rows:\"))\n",
    "printButterflyStars(rows)"
   ]
  }
 ],
 "metadata": {
  "kernelspec": {
   "display_name": "Python 3",
   "language": "python",
   "name": "python3"
  },
  "language_info": {
   "codemirror_mode": {
    "name": "ipython",
    "version": 3
   },
   "file_extension": ".py",
   "mimetype": "text/x-python",
   "name": "python",
   "nbconvert_exporter": "python",
   "pygments_lexer": "ipython3",
   "version": "3.10.11"
  }
 },
 "nbformat": 4,
 "nbformat_minor": 2
}
