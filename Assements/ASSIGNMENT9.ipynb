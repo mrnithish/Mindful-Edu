{
 "cells": [
  {
   "cell_type": "markdown",
   "metadata": {},
   "source": [
    "# https://leetcode.com/problems/best-time-to-buy-and-sell-stock/?envType=study-plan-v2&envId=top-interview-150\n"
   ]
  },
  {
   "cell_type": "code",
   "execution_count": 5,
   "metadata": {},
   "outputs": [
    {
     "data": {
      "text/plain": [
       "2"
      ]
     },
     "execution_count": 5,
     "metadata": {},
     "output_type": "execute_result"
    }
   ],
   "source": [
    "\n",
    "\n",
    "def maxProfit(prices):\n",
    "    minimum = 10000\n",
    "    max_pro = 0\n",
    "\n",
    "    for i in prices:\n",
    "        if i < minimum:\n",
    "            minimum = i\n",
    "        elif i - minimum >max_pro:\n",
    "            max_pro = i - minimum\n",
    "\n",
    "    return max_pro \n",
    "    \n",
    "prices = [5,1,3,2] \n",
    "maxProfit(prices)"
   ]
  },
  {
   "cell_type": "markdown",
   "metadata": {},
   "source": [
    "# https://leetcode.com/problems/longest-common-prefix/?envType=study-plan-v2&envId=top-interview-150"
   ]
  },
  {
   "cell_type": "code",
   "execution_count": 4,
   "metadata": {},
   "outputs": [
    {
     "data": {
      "text/plain": [
       "'asd'"
      ]
     },
     "execution_count": 4,
     "metadata": {},
     "output_type": "execute_result"
    }
   ],
   "source": [
    "\n",
    "def longestcommom(st):\n",
    "    n = len(st)\n",
    "    m = min(st, key=len)\n",
    "    x=''\n",
    "    for i in range(len(m)):\n",
    "        s = []\n",
    "        for j in range(n):\n",
    "            s.append(st[j][i])\n",
    "        z =list(set(s))\n",
    "        if len(z)==1 and (z[-1]==m[i]):\n",
    "                x+=m[i]\n",
    "        else:\n",
    "            break\n",
    "    return x\n",
    "st=[\"asdfg\",\"asdhffg\",\"asdfhebg\"]\n",
    "longestcommom(st)\n"
   ]
  },
  {
   "cell_type": "markdown",
   "metadata": {},
   "source": [
    "# https://leetcode.com/problems/remove-duplicates-from-sorted-array/description/?envType=study-plan-v2&envId=top-interview-"
   ]
  },
  {
   "cell_type": "code",
   "execution_count": 3,
   "metadata": {},
   "outputs": [
    {
     "data": {
      "text/plain": [
       "5"
      ]
     },
     "execution_count": 3,
     "metadata": {},
     "output_type": "execute_result"
    }
   ],
   "source": [
    "\n",
    "def removeDuplicates(nums):\n",
    "    i = 0\n",
    "    for num in nums:\n",
    "        if i<1 or num != nums[i - 1]:\n",
    "            nums[i] = num\n",
    "            i += 1\n",
    "    return i\n",
    "\n",
    "nums = [0,0,1,1,1,2,2,3,3,4]\n",
    "removeDuplicates(nums)"
   ]
  }
 ],
 "metadata": {
  "kernelspec": {
   "display_name": "Python 3",
   "language": "python",
   "name": "python3"
  },
  "language_info": {
   "codemirror_mode": {
    "name": "ipython",
    "version": 3
   },
   "file_extension": ".py",
   "mimetype": "text/x-python",
   "name": "python",
   "nbconvert_exporter": "python",
   "pygments_lexer": "ipython3",
   "version": "3.8.0"
  }
 },
 "nbformat": 4,
 "nbformat_minor": 2
}
