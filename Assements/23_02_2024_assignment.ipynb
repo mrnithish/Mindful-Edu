{
 "cells": [
  {
   "cell_type": "markdown",
   "id": "265ef112",
   "metadata": {},
   "source": [
    "## 1. Write a Python code to take inputs like integer, float and string in different variables from keyboard ?"
   ]
  },
  {
   "cell_type": "code",
   "execution_count": 2,
   "id": "06bf25f6",
   "metadata": {},
   "outputs": [
    {
     "name": "stdout",
     "output_type": "stream",
     "text": [
      "5\n",
      "4.0\n",
      "ni\n"
     ]
    }
   ],
   "source": [
    "a=int(input(\"Enter the Number :\"))\n",
    "b=float(input(\"Enter the Number :\"))\n",
    "c=input(\"Enter the String :\")\n",
    "print(a)\n",
    "print(b)\n",
    "print(c)"
   ]
  },
  {
   "cell_type": "markdown",
   "id": "1b208067",
   "metadata": {},
   "source": [
    "## 2. Write a python code to take a number input and tell if the number is divisible by 2 & 3 ?\n"
   ]
  },
  {
   "cell_type": "code",
   "execution_count": 3,
   "id": "04a776b5",
   "metadata": {},
   "outputs": [
    {
     "name": "stdout",
     "output_type": "stream",
     "text": [
      "Divisible by 2 & 3\n"
     ]
    }
   ],
   "source": [
    "a=int(input(\"Enter the Number :\"))\n",
    "if a%2==0 and a%3==0:\n",
    "    print(\"Divisible by 2 & 3\")\n",
    "else:\n",
    "    print(\"Not Divisible by 2 & 3\")"
   ]
  },
  {
   "cell_type": "markdown",
   "id": "56fec58e",
   "metadata": {},
   "source": [
    "## 3. Write a python code where you take the age of a person as input and if the age is less than 10 print Child and if age is between 10 to 25 print Student and if age is between 25 to 60 print Working professional if the age is greater than 60 then print Retired Person."
   ]
  },
  {
   "cell_type": "code",
   "execution_count": 8,
   "id": "05dd3bab",
   "metadata": {},
   "outputs": [
    {
     "name": "stdout",
     "output_type": "stream",
     "text": [
      "Retired Person\n"
     ]
    }
   ],
   "source": [
    "a=int(input(\"Enter the age :\"))\n",
    "if a<10:\n",
    "    print(\"Children\")\n",
    "elif a>=10 and a<25:\n",
    "    print(\"Student\")\n",
    "elif a>=25 and a<=60:\n",
    "    print(\"Working Professional\")\n",
    "else:\n",
    "    print(\"Retired Person\")"
   ]
  },
  {
   "cell_type": "markdown",
   "id": "9eff1df2",
   "metadata": {},
   "source": [
    "## 4. Write a python Code for a Calculator which takes 3 values as input 1st a number then a expression and then another number and gives us a result ? "
   ]
  },
  {
   "cell_type": "code",
   "execution_count": 1,
   "id": "81cb49b6",
   "metadata": {},
   "outputs": [
    {
     "name": "stdout",
     "output_type": "stream",
     "text": [
      "Invalid Expression\n"
     ]
    }
   ],
   "source": [
    "a=int(input(\"Enter the Number :\"))\n",
    "op=input(\"Enter the Experssion :\")\n",
    "b=int(input(\"Enter the Number :\"))\n",
    "match op:\n",
    "    case \"+\":\n",
    "        print(a+b)\n",
    "    case \"-\":\n",
    "        print(a+b)\n",
    "    case \"*\":\n",
    "        print(a+b)\n",
    "    case \"/\":\n",
    "        print(a+b)\n",
    "    case _:\n",
    "        print(\"Invalid Expression\")\n"
   ]
  },
  {
   "cell_type": "markdown",
   "id": "b7b8286d",
   "metadata": {},
   "source": [
    "## 5. Write a python code to take a string as an input if that string last two number are either a,A,b,B the print Successful otherwise wrong ?"
   ]
  },
  {
   "cell_type": "code",
   "execution_count": 16,
   "id": "dbc885aa",
   "metadata": {},
   "outputs": [
    {
     "name": "stdout",
     "output_type": "stream",
     "text": [
      "{'T', 'A'}\n",
      "True\n"
     ]
    }
   ],
   "source": [
    "def last2(strt):\n",
    "    s={'A','B'}\n",
    "    if len(strt.intersection(s)) > 0:\n",
    "        print(\"True\")\n",
    "    else:\n",
    "        print(\"False\")\n",
    "str=input(\"Enter the String:\")\n",
    "str_slice=str[-2:]\n",
    "x=set(str_slice.upper())\n",
    "print(x)\n",
    "last2(x)"
   ]
  }
 ],
 "metadata": {
  "kernelspec": {
   "display_name": "Python 3 (ipykernel)",
   "language": "python",
   "name": "python3"
  },
  "language_info": {
   "codemirror_mode": {
    "name": "ipython",
    "version": 3
   },
   "file_extension": ".py",
   "mimetype": "text/x-python",
   "name": "python",
   "nbconvert_exporter": "python",
   "pygments_lexer": "ipython3",
   "version": "3.10.11"
  }
 },
 "nbformat": 4,
 "nbformat_minor": 5
}
