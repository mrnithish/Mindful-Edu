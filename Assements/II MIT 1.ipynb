{
 "cells": [
  {
   "cell_type": "markdown",
   "metadata": {},
   "source": [
    "## Score of a String\n",
    "You are given a string s. The score of a string is defined as the sum of the absolute difference between the ASCII values of adjacent characters.\n",
    "\n",
    "Return the score of s\n",
    "\n",
    "Input: s = \"hello\"\n",
    "\n",
    "Output: 13"
   ]
  },
  {
   "cell_type": "code",
   "execution_count": 4,
   "metadata": {},
   "outputs": [
    {
     "name": "stdout",
     "output_type": "stream",
     "text": [
      "50\n"
     ]
    }
   ],
   "source": [
    "def scoreOfString(s):\n",
    "    n=len(s)\n",
    "    sum=0\n",
    "    for  i in range(0,n-1):\n",
    "        if i==n-1:\n",
    "            break\n",
    "        else:\n",
    "            sum+=abs(ord(s[i])-ord(s[i+1]))\n",
    "    return sum\n",
    "\n",
    "s=\"zaz\"\n",
    "print(scoreOfString(s))"
   ]
  },
  {
   "cell_type": "markdown",
   "metadata": {},
   "source": [
    "## Valid PhoneNumber\n",
    "Given a text file file.txt that contains a list of phone numbers (one per line), write a one-liner bash script to print all valid phone numbers.\n",
    "\n",
    "You may assume that a valid phone number must appear in one of the following two formats: (xxx) xxx-xxxx or xxx-xxx-xxxx. (x means a digit)\n",
    "\n",
    "You may also assume each line in the text file must not contain leading or trailing white spaces.\n",
    "\n",
    "Example:\n",
    "\n",
    "Assume that file.txt has the following content:\n",
    "\n",
    "987-123-4567\n",
    "123 456 7890\n",
    "(123) 456-7890\n",
    "Your script should output the following valid phone numbers:\n",
    "\n",
    "987-123-4567\n",
    "(123) 456-7890"
   ]
  },
  {
   "cell_type": "code",
   "execution_count": 5,
   "metadata": {},
   "outputs": [
    {
     "name": "stdout",
     "output_type": "stream",
     "text": [
      "987-123-4567\n",
      "(123) 456-7890"
     ]
    }
   ],
   "source": [
    "txt_file = open(\"file.txt\")\n",
    "for number in txt_file:\n",
    "    if len(number)>=10:\n",
    "        if number[3]==\"-\" and number[7]==\"-\" and len(number)==13:\n",
    "            print(number,end=\"\")\n",
    "        elif number[0]==\"(\" and number[4]==\")\" and number[5]==\" \" and number[9]==\"-\" and len(number)==14:\n",
    "            print(number,end=\"\")\n"
   ]
  },
  {
   "cell_type": "code",
   "execution_count": 7,
   "metadata": {},
   "outputs": [
    {
     "name": "stdout",
     "output_type": "stream",
     "text": [
      "12s-456-7890: False\n",
      "456-7890: False\n",
      "1234567890: False\n",
      "123-45-6789: False\n"
     ]
    }
   ],
   "source": [
    "import re\n",
    "\n",
    "def validate_phone_number(phone_number):\n",
    "    # Define the regex pattern for a valid phone number\n",
    "    pattern = re.compile(r'^\\d{3}-\\d{3}-\\d{4}$')\n",
    "\n",
    "    # Check if the phone number matches the pattern\n",
    "    if pattern.match(phone_number):\n",
    "        return True\n",
    "    else:\n",
    "        return False\n",
    "\n",
    "# Test the function\n",
    "phone_numbers = [\n",
    "    \"12-456-7890\",\n",
    "    \"456-7890\",\n",
    "    \"1234567890\",\n",
    "    \"123-45-6789\"\n",
    "]\n",
    "\n",
    "for number in phone_numbers:\n",
    "    print(f\"{number}: {validate_phone_number(number)}\")\n"
   ]
  },
  {
   "cell_type": "markdown",
   "metadata": {},
   "source": [
    "## Sort Colors\n",
    "Given an array nums with n objects colored red, white, or blue, sort them in-place so that objects of the same color are adjacent, with the colors in the order red, white, and blue.\n",
    "\n",
    "We will use the integers 0, 1, and 2 to represent the color red, white, and blue, respectively.\n",
    "\n",
    "You must solve this problem without using the library's sort function.\n",
    "Example 1:\n",
    "\n",
    "Input: nums = [2,0,2,1,1,0]\n",
    "Output: [0,0,1,1,2,2]\n",
    "Example 2:\n",
    "\n",
    "Input: nums = [2,0,1]\n",
    "Output: [0,1,2]"
   ]
  },
  {
   "cell_type": "code",
   "execution_count": 12,
   "metadata": {},
   "outputs": [
    {
     "name": "stdout",
     "output_type": "stream",
     "text": [
      "[0, 0, 1, 1, 2, 2]\n"
     ]
    }
   ],
   "source": [
    "def bubbleSort(a):\n",
    "    n=len(a)\n",
    "    for i in range(n-1):\n",
    "        min=i\n",
    "        for  j in range(i+1,n):\n",
    "            if a[j]<a[min]:\n",
    "                a[j],a[min]=a[min],a[j]\n",
    "    return a\n",
    "\n",
    "nums=[2,0,2,1,1,0]\n",
    "print(bubbleSort(nums))"
   ]
  },
  {
   "cell_type": "markdown",
   "metadata": {},
   "source": [
    "## Remove Element\n",
    "\n",
    "Given an integer array nums and an integer val, remove all occurrences of val in nums in-place. The order of the elements may be changed. Then return the number of elements in nums which are not equal to val.\n",
    "\n",
    "Consider the number of elements in nums which are not equal to val be k, to get accepted, you need to do the following things:\n",
    "\n",
    "Change the array nums such that the first k elements of nums contain the elements which are not equal to val. The remaining elements of nums are not important as well as the size of nums.\n",
    "Return k.\n",
    "\n",
    "Example 1:\n",
    "\n",
    "Input: nums = [3,2,2,3], val = 3\n",
    "Output: 2, nums = [2,2,_,_]\n",
    "Explanation: Your function should return k = 2, with the first two elements of nums being 2.\n",
    "It does not matter what you leave beyond the returned k (hence they are underscores).\n",
    "Example 2:\n",
    "\n",
    "Input: nums = [0,1,2,2,3,0,4,2], val = 2\n",
    "Output: 5, nums = [0,1,4,0,3,_,_,_]\n",
    "Explanation: Your function should return k = 5, with the first five elements of nums containing 0, 0, 1, 3, and 4.\n",
    "Note that the five elements can be returned in any order.\n",
    "It does not matter what you leave beyond the returned k (hence they are underscores)."
   ]
  },
  {
   "cell_type": "code",
   "execution_count": 18,
   "metadata": {},
   "outputs": [
    {
     "name": "stdout",
     "output_type": "stream",
     "text": [
      "5 [0, 1, 3, 0, 4]\n"
     ]
    }
   ],
   "source": [
    "def removeElement(nums,val):\n",
    "    j=0\n",
    "    for  i in range(len(nums)):\n",
    "        if nums[i]!=val:\n",
    "            nums[j]=nums[i]\n",
    "            j+=1\n",
    "    return j\n",
    "\n",
    "nums=[0,1,2,2,3,0,4,2]\n",
    "val=2\n",
    "result=removeElement(nums,val)\n",
    "print(result,nums[:result])"
   ]
  },
  {
   "cell_type": "markdown",
   "metadata": {},
   "source": [
    "## 1 - Find the missing and repeating number\n",
    "Given an unsorted array of size n. Array elements are in the range of 1 to n. One number from set {1, 2, …n} is missing and one number occurs twice in the array. Find these two numbers."
   ]
  },
  {
   "cell_type": "code",
   "execution_count": 26,
   "metadata": {},
   "outputs": [
    {
     "name": "stdout",
     "output_type": "stream",
     "text": [
      "2 3\n"
     ]
    }
   ],
   "source": [
    "# Input: arr[] = {3, 1, 3}\n",
    "# Output: Missing = 2, Repeating = 3\n",
    "# Explanation: In the array, 2 is missing and 3 occurs twice \n",
    "\n",
    "# Input: arr[] = {4, 3, 6, 2, 1, 1}\n",
    "# Output: Missing = 5, Repeating = 1\n",
    "\n",
    "nums=[3,1,3]\n",
    "nums.sort()\n",
    "mis,rep=0,0\n",
    "for  i in range(len(nums)-1):\n",
    "    if i==len(nums)-1:\n",
    "        break\n",
    "    if nums[i] ==nums[i+1]:\n",
    "        rep=nums[i]\n",
    "    if nums[i+1]-nums[i]!=1:\n",
    "        mis+=1\n",
    "print(mis,rep)"
   ]
  },
  {
   "cell_type": "markdown",
   "metadata": {},
   "source": [
    "## 2- Sort an array in wave form\n",
    "Given an unsorted array of integers, sort the array into a wave array. An array arr[0..n-1] is sorted in wave form if:\n",
    "arr[0] >= arr[1] <= arr[2] >= arr[3] <= arr[4] >= ….."
   ]
  },
  {
   "cell_type": "code",
   "execution_count": 29,
   "metadata": {},
   "outputs": [
    {
     "name": "stdout",
     "output_type": "stream",
     "text": [
      "[10, 5, 6, 2, 20, 3, 100, 80]\n"
     ]
    }
   ],
   "source": [
    "# Input:  arr[] = {10, 5, 6, 3, 2, 20, 100, 80}\n",
    "# Output: arr[] = {10, 5, 6, 2, 20, 3, 100, 80} \n",
    "# Explanation: \n",
    "# here you can see {10, 5, 6, 2, 20, 3, 100, 80} first element is larger than the second and the same thing is repeated again and again. large element – small element-large element -small element and so on .it can be small element-larger element – small element-large element -small element too. all you need to maintain is the up-down fashion which represents a wave. there can be multiple answers.\n",
    "\n",
    "# Input: arr[] = {20, 10, 8, 6, 4, 2}\n",
    "# Output: arr[] = {20, 8, 10, 4, 6, 2}\n",
    "def wave_arr(a):\n",
    "    n=len(a)\n",
    "    for i in range(0,n-1,2):\n",
    "        if i > 0 and a[i]<a[i-1]:\n",
    "            a[i],a[i-1]=a[i-1],a[i]\n",
    "        if i < n-1 and a[i]<a[i+1]:\n",
    "            a[i],a[i+1]=a[i+1],a[i]\n",
    "    return a\n",
    "arr=[10, 5, 6, 3, 2, 20, 100, 80]\n",
    "print(wave_arr(arr))"
   ]
  },
  {
   "cell_type": "markdown",
   "metadata": {},
   "source": [
    "## 3 - Mirror characters of a string\n",
    "Given a string and a number N, we need to mirror the characters from N-th position up to the length of the string in the alphabetical order. In mirror operation, we change ‘a’ to ‘z’, ‘b’ to ‘y’, and so on."
   ]
  },
  {
   "cell_type": "code",
   "execution_count": 4,
   "metadata": {},
   "outputs": [
    {
     "name": "stdout",
     "output_type": "stream",
     "text": [
      "['p', 'a', 'i', 'z', 'w', 'l', 'c']\n"
     ]
    }
   ],
   "source": [
    "# Input : N = 3\n",
    "#         paradox\n",
    "# Output : paizwlc\n",
    "# We mirror characters from position 3 to end.\n",
    "\n",
    "s=\"paradox\"\n",
    "N=3\n",
    "result=[]\n",
    "for i,char in enumerate(s):\n",
    "    if i>=N-1:\n",
    "        mir=chr(ord('a')+ord('z')-ord(char))\n",
    "        result.append(mir)\n",
    "    else:\n",
    "        result.append(char)\n",
    "print(str(result))"
   ]
  },
  {
   "cell_type": "markdown",
   "metadata": {},
   "source": [
    "## 4 - Minimum Swaps for Bracket Balancing\n",
    "You are given a string of 2N characters consisting of N ‘[‘ brackets and N ‘]’ brackets. A string is considered balanced if it can be represented in the form S2[S1] where S1 and S2 are balanced strings. We can make an unbalanced string balanced by swapping adjacent characters. Calculate the minimum number of swaps necessary to make a string balanced."
   ]
  },
  {
   "cell_type": "code",
   "execution_count": 11,
   "metadata": {},
   "outputs": [
    {
     "name": "stdout",
     "output_type": "stream",
     "text": [
      "2\n"
     ]
    }
   ],
   "source": [
    "# Input  : []][][\n",
    "# Output : 2\n",
    "# First swap: Position 3 and 4\n",
    "# [][]][\n",
    "# Second swap: Position 5 and 6\n",
    "# [][][]\n",
    "# Input  : [[][]]\n",
    "# Output : 0\n",
    "# The string is already balanced.\n",
    "\n",
    "def mini_swap(a):\n",
    "    n=len(a)\n",
    "    ans,count=0,0\n",
    "    for i in range(n-1):\n",
    "        if a[i]==\"[\":\n",
    "            count+=1\n",
    "        else:\n",
    "            count-=1\n",
    "        if count <0:\n",
    "            j=i+1\n",
    "            while j<n:\n",
    "                if a[j]==\"[\":\n",
    "                    break\n",
    "                j+=1\n",
    "            ans+=j-i\n",
    "    return ans\n",
    "li=\"[]][][\"\n",
    "print(mini_swap(list(li)))"
   ]
  },
  {
   "cell_type": "markdown",
   "metadata": {},
   "source": [
    "3- Count subarrays with equal number of 1’s and 0’s\n",
    "Given an array arr[] of size n containing 0 and 1 only. The problem is to count the subarrays having an equal number of 0’s and 1’s."
   ]
  },
  {
   "cell_type": "code",
   "execution_count": null,
   "metadata": {},
   "outputs": [],
   "source": [
    "# Input: arr[] = {1, 0, 0, 1, 0, 1, 1}\n",
    "# Output: 8\n",
    "# Explanation: The index range for the 8 sub-arrays are: (0, 1), (2, 3), (0, 3), (3, 4), (4, 5)(2, 5), (0, 5), (1, 6)\n",
    "\n",
    "# Input: arr = { 1, 0, 0, 1, 1, 0, 0, 1}\n",
    "# Output: 12\n"
   ]
  }
 ],
 "metadata": {
  "kernelspec": {
   "display_name": "Python 3",
   "language": "python",
   "name": "python3"
  },
  "language_info": {
   "codemirror_mode": {
    "name": "ipython",
    "version": 3
   },
   "file_extension": ".py",
   "mimetype": "text/x-python",
   "name": "python",
   "nbconvert_exporter": "python",
   "pygments_lexer": "ipython3",
   "version": "3.12.2"
  }
 },
 "nbformat": 4,
 "nbformat_minor": 2
}
