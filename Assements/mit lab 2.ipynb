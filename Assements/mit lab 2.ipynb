{
 "cells": [
  {
   "cell_type": "markdown",
   "metadata": {},
   "source": [
    "1- Question: Write a Python function that takes a list of numbers and returns\n",
    "a new list containing only the unique elements. Use list methods like\n",
    "append and a set to achieve this. Analyze the time complexity."
   ]
  },
  {
   "cell_type": "code",
   "execution_count": 3,
   "metadata": {},
   "outputs": [
    {
     "name": "stdout",
     "output_type": "stream",
     "text": [
      "[8, 2345, 1, 2, 3, 4, 5, 7]\n",
      "[1, 2, 3, 4, 5, 7, 8, 2345]\n"
     ]
    }
   ],
   "source": [
    "x=[8,2345,1,2,3,1,4,1,4,5,7,]\n",
    "y=[]\n",
    "#using append\n",
    "for i in x:\n",
    "    if i not in y:\n",
    "        y.append(i)\n",
    "print(y)\n",
    "\n",
    "#using list\n",
    "y=set(x)\n",
    "print(list(y))"
   ]
  },
  {
   "cell_type": "code",
   "execution_count": 4,
   "metadata": {},
   "outputs": [
    {
     "name": "stdout",
     "output_type": "stream",
     "text": [
      "[1, 2, 3, 4, 5, 7, 8, 2345]\n"
     ]
    }
   ],
   "source": [
    "x=[8,2345,1,2,3,1,4,1,4,5,7,]\n",
    "y=set(x)\n",
    "print(list(y))"
   ]
  },
  {
   "cell_type": "markdown",
   "metadata": {},
   "source": [
    "## Sorting Algorithms"
   ]
  },
  {
   "cell_type": "markdown",
   "metadata": {},
   "source": [
    "### Bubble Sort\n",
    "2- Question: Implement the Bubble Sort algorithm in Python for sorting a list\n",
    "of numbers in descending order. Analyze its average and worst-case time\n",
    "Time Complexity: - Average: O(nA2) - Nested loops compare elements in each\n",
    "complexities.\n",
    "pass, potentially making many swaps.\n",
    "sorted lists.\n",
    "- Worst: O(nA2) - Required for reverse- "
   ]
  },
  {
   "cell_type": "code",
   "execution_count": 1,
   "metadata": {},
   "outputs": [
    {
     "name": "stdout",
     "output_type": "stream",
     "text": [
      "[2, 12, 34, 45, 56, 78]\n"
     ]
    }
   ],
   "source": [
    "x=[12,34,56,78,45,2]\n",
    "\n",
    "def bubblesort(x):\n",
    "    n=len(x)\n",
    "    for i in range(0,n-1):  \n",
    "        for j in range(n-1):  \n",
    "            if(x[j]>x[j+1]):    \n",
    "                x[j],x[j+1] = x[j+1], x[j]  \n",
    "    return x\n",
    "print(bubblesort(x))"
   ]
  },
  {
   "cell_type": "markdown",
   "metadata": {},
   "source": [
    "### Selection Sort\n",
    "3- Question: Implement the Selection Sort algorithm in Python for sorting a\n",
    "list of strings in alphabetical order. Analyze its time complexity.\n",
    "Time Complexity: - Average: O(nA2) - Similar nested loops for comparisons and\n",
    "swaps. - Worst: O(nA2) - Consistent for any input order."
   ]
  },
  {
   "cell_type": "code",
   "execution_count": 1,
   "metadata": {},
   "outputs": [
    {
     "name": "stdout",
     "output_type": "stream",
     "text": [
      "[2, 12, 34, 45, 56, 78]\n"
     ]
    }
   ],
   "source": [
    "x=[12,34,56,78,45,2]\n",
    "def selectionSort(arr):\n",
    "    n=len(arr)\n",
    "    for i in range(n-1):\n",
    "        mini_index=i\n",
    "        for j in range(i+1,n):\n",
    "            if arr[j]<arr[mini_index]:\n",
    "                mini_index=j\n",
    "        arr[i],arr[mini_index]=arr[mini_index],arr[i]\n",
    "    return arr\n",
    "print(selectionSort(x))"
   ]
  },
  {
   "cell_type": "markdown",
   "metadata": {},
   "source": [
    "### Insertion Sort\n",
    "4- Question: Implement the Insertion Sort algorithm in Python for sorting a\n",
    "list of mixed data types (numbers and strings) in ascending order. Analyze\n",
    "its time complexity. Explain how Insertion Sort works intuitively.\n",
    "Time Complexity: - Average: O(nA2) - Depends on the initial data order (more\n",
    "swaps for unsorted lists). - Worst: O(nA2) - Required for reverse-sorted lists."
   ]
  },
  {
   "cell_type": "code",
   "execution_count": 2,
   "metadata": {},
   "outputs": [
    {
     "name": "stdout",
     "output_type": "stream",
     "text": [
      "[2, 3, 4, 'a', 'b', 'z']\n"
     ]
    }
   ],
   "source": [
    "# Insertion Sort:\n",
    "# 4- Question: Implement the Insertion Sort algorithm in Python for sorting a\n",
    "# list of mixed data types (numbers and strings) in ascending order. Analyze\n",
    "# its time complexity. Explain how Insertion Sort works intuitively.\n",
    "# Time Complexity: - Average: O(n^2) - Depends on the initial data order (more\n",
    "# swaps for unsorted lists). - Worst: O(n^2) - Required for reverse-sorted lists.\n",
    "# Explanation: Insertion Sort iterates through the list, inserting each element into\n",
    "# its correct position in the already sorted sub-list at the beginning.\n",
    "\n",
    "\n",
    "a = [4, 'z', 2, 'a', 3, 'b']\n",
    "ints,str=[],[]\n",
    "\n",
    "def insertion_intsort(a):\n",
    "    n = len(a)\n",
    "    for i in range(1,n):\n",
    "        j=i-1\n",
    "        insert = a[i]\n",
    "        while(j>=0 and a[j]>insert):\n",
    "            a[j+1] = a[j]\n",
    "            j-=1\n",
    "\n",
    "        a[j+1]=insert\n",
    "\n",
    "    return a\n",
    "\n",
    "def insertion_strsort(a):\n",
    "    n = len(a)\n",
    "    for i in range(1,n):\n",
    "        j=i-1\n",
    "        insert = a[i]\n",
    "        while(j>=0 and ord(a[j])>ord(insert)):\n",
    "            a[j+1] = a[j]\n",
    "            j-=1\n",
    "\n",
    "        a[j+1]=insert\n",
    "\n",
    "    return a\n",
    "\n",
    "for i in a:\n",
    "    if type(i)==int:\n",
    "        ints.append(i)\n",
    "    else: \n",
    "        str.append(i)\n",
    "\n",
    "print(insertion_intsort(ints)+insertion_strsort(str))"
   ]
  },
  {
   "cell_type": "code",
   "execution_count": 13,
   "metadata": {},
   "outputs": [
    {
     "name": "stdout",
     "output_type": "stream",
     "text": [
      "[1, 3, 11, 14, 512] ['hi', 'nith']\n"
     ]
    }
   ],
   "source": [
    "## Separate\n",
    "x=[3,1,14,11,512]\n",
    "y=[\"nith\",\"hi\"]\n",
    "def insertionSort(arr):\n",
    "    n=len(arr)\n",
    "    for i in range(1,n):\n",
    "        insert_element=arr[i]\n",
    "        j=i-1\n",
    "        while(j>=0 and insert_element<arr[j]):\n",
    "            arr[j+1]=arr[j]\n",
    "            j-=1\n",
    "        arr[j+1]=insert_element\n",
    "    return arr\n",
    "insertionSort(y)\n",
    "insertionSort(x)\n",
    "print(x,y)"
   ]
  },
  {
   "cell_type": "code",
   "execution_count": 15,
   "metadata": {},
   "outputs": [
    {
     "name": "stdout",
     "output_type": "stream",
     "text": [
      "Sorted Array: [2, 3, 5, 7, 'apple', 'banana', 'grape', 'orange']\n"
     ]
    }
   ],
   "source": [
    "# mixed List\n",
    "def insertion_sort(arr):\n",
    "    for i in range(1, len(arr)):\n",
    "        key = arr[i]\n",
    "        j = i - 1\n",
    "        while j >= 0 and ((isinstance(arr[j], str) and isinstance(key, int)) or\n",
    "                          (isinstance(arr[j], int) and isinstance(key, int) and arr[j] > key) or\n",
    "                          (isinstance(arr[j], str) and isinstance(key, str) and arr[j] > key)):\n",
    "            arr[j + 1] = arr[j]\n",
    "            j -= 1\n",
    "        arr[j + 1] = key\n",
    "\n",
    "# Example usage:\n",
    "mixed_list = [5, 'apple', 2, 'banana', 7, 'orange', 3, 'grape']\n",
    "insertion_sort(mixed_list)\n",
    "print(\"Sorted Array:\", mixed_list)"
   ]
  },
  {
   "cell_type": "markdown",
   "metadata": {},
   "source": [
    "5- Question: Write a Python function that takes a dictionary and returns a\n",
    "new dictionary containing only the key-value pairs where the values are\n",
    "greater than a certain threshold. Analyze the time complexity.\n",
    "Time Complexity: O(n) due to iterating through the dictionary once to check and\n",
    "filter key-value pairs."
   ]
  },
  {
   "cell_type": "code",
   "execution_count": 6,
   "metadata": {},
   "outputs": [
    {
     "name": "stdout",
     "output_type": "stream",
     "text": [
      "Brand Audi\n",
      "Color Red\n",
      "Model 1241\n"
     ]
    }
   ],
   "source": [
    "ld={\"Brand\":\"Audi\",\"Color\":\"Red\",\"Model\":1241}\n",
    "for key,value in ld.items():\n",
    "    print(key,value)"
   ]
  },
  {
   "cell_type": "code",
   "execution_count": 14,
   "metadata": {},
   "outputs": [
    {
     "name": "stdout",
     "output_type": "stream",
     "text": [
      "{'b': 20, 'd': 25}\n"
     ]
    }
   ],
   "source": [
    "def filter_dict(input_dict, threshold):\n",
    "    filtered_dict = {}\n",
    "    for key, value in input_dict.items():\n",
    "        if value > threshold:\n",
    "            filtered_dict[key] = value\n",
    "    return filtered_dict\n",
    "\n",
    "# Example usage:\n",
    "x = {'a': 10, 'b': 20, 'c': 5, 'd': 25}\n",
    "threshold = 15\n",
    "result = filter_dict(x, threshold)\n",
    "print(result)\n"
   ]
  },
  {
   "cell_type": "markdown",
   "metadata": {},
   "source": [
    "6- Question: How do you access the values of a dictionary in Python?\n",
    "Explain the difference between get() and []l for accessing values,\n",
    "considering potential errors."
   ]
  },
  {
   "cell_type": "code",
   "execution_count": 5,
   "metadata": {},
   "outputs": [
    {
     "name": "stdout",
     "output_type": "stream",
     "text": [
      "Audi\n",
      "Audi\n"
     ]
    }
   ],
   "source": [
    "ld={\"Brand\":\"Audi\",\"Color\":\"Red\",\"Model\":1241}\n",
    "print(ld.get(\"Brand\"))\n",
    "print(ld[\"Brand\"])"
   ]
  }
 ],
 "metadata": {
  "kernelspec": {
   "display_name": "Python 3",
   "language": "python",
   "name": "python3"
  },
  "language_info": {
   "codemirror_mode": {
    "name": "ipython",
    "version": 3
   },
   "file_extension": ".py",
   "mimetype": "text/x-python",
   "name": "python",
   "nbconvert_exporter": "python",
   "pygments_lexer": "ipython3",
   "version": "3.10.11"
  }
 },
 "nbformat": 4,
 "nbformat_minor": 2
}
