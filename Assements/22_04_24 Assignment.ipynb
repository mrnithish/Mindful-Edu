{
 "cells": [
  {
   "cell_type": "markdown",
   "id": "34e107b6",
   "metadata": {},
   "source": [
    "# https://leetcode.com/problems/remove-element/description/"
   ]
  },
  {
   "cell_type": "code",
   "execution_count": 1,
   "id": "7a4bfd56",
   "metadata": {},
   "outputs": [
    {
     "name": "stdout",
     "output_type": "stream",
     "text": [
      "5 [0, 1, 3, 0, 4]\n"
     ]
    }
   ],
   "source": [
    "#O(n)\n",
    "def removeElement(nums, val):\n",
    "    j = 0\n",
    "    for i in range(len(nums)):\n",
    "        if nums[i] != val:\n",
    "            nums[j] = nums[i]\n",
    "            j += 1\n",
    "    return j\n",
    "\n",
    "nums = [0,1,2,2,3,0,4,2]\n",
    "val = 2\n",
    "\n",
    "result = removeElement(nums, val)\n",
    "print(result, nums[:result])"
   ]
  },
  {
   "cell_type": "code",
   "execution_count": 1,
   "id": "74d039e8",
   "metadata": {},
   "outputs": [
    {
     "name": "stdout",
     "output_type": "stream",
     "text": [
      "[2, 2]\n"
     ]
    }
   ],
   "source": [
    "def removeElement(nums,val):\n",
    "    while nums.count(val)>0:\n",
    "        nums.remove(val)\n",
    "    return numse\n",
    "x=[3,2,2,3]\n",
    "t=3\n",
    "print(removeElement(x,t))"
   ]
  },
  {
   "cell_type": "markdown",
   "id": "c3b82d53",
   "metadata": {},
   "source": [
    "# https://leetcode.com/problems/sort-colors/description/"
   ]
  },
  {
   "cell_type": "code",
   "execution_count": 2,
   "id": "7a707020",
   "metadata": {},
   "outputs": [
    {
     "name": "stdout",
     "output_type": "stream",
     "text": [
      "[0, 0, 1, 1, 1, 2, 2]\n"
     ]
    }
   ],
   "source": [
    "#O(n^2)\n",
    "def sortColors(a):\n",
    "    n = len(a)\n",
    "    for i in range(n-1):\n",
    "        min = i\n",
    "        for j in range(i+1,n):\n",
    "            if a[j]<a[min]:\n",
    "                a[j],a[min] = a[min],a[j]\n",
    "    return a\n",
    "\n",
    "nums = [2,1,0, 2, 1, 1, 0]\n",
    "\n",
    "sortColors(nums)\n",
    "print(nums)"
   ]
  }
 ],
 "metadata": {
  "kernelspec": {
   "display_name": "Python 3 (ipykernel)",
   "language": "python",
   "name": "python3"
  },
  "language_info": {
   "codemirror_mode": {
    "name": "ipython",
    "version": 3
   },
   "file_extension": ".py",
   "mimetype": "text/x-python",
   "name": "python",
   "nbconvert_exporter": "python",
   "pygments_lexer": "ipython3",
   "version": "3.12.2"
  }
 },
 "nbformat": 4,
 "nbformat_minor": 5
}
