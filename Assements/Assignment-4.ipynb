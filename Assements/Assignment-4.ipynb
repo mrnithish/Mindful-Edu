{
 "cells": [
  {
   "cell_type": "markdown",
   "metadata": {},
   "source": [
    "# Use Bubble sort to sort the given array [12,34,56,78,45,2]"
   ]
  },
  {
   "cell_type": "code",
   "execution_count": 2,
   "metadata": {},
   "outputs": [
    {
     "name": "stdout",
     "output_type": "stream",
     "text": [
      "[2, 12, 34, 45, 56, 78]\n"
     ]
    }
   ],
   "source": [
    "x=[12,34,56,78,45,2]\n",
    "\n",
    "def bubblesort(x):\n",
    "    n=len(x)\n",
    "    for i in range(0,n-1):  \n",
    "        for j in range(n-1):  \n",
    "            if(x[j]>x[j+1]):    \n",
    "                x[j],x[j+1] = x[j+1], x[j]  \n",
    "    return x\n",
    "print(bubblesort(x))\n",
    "\n",
    "            "
   ]
  },
  {
   "cell_type": "markdown",
   "metadata": {},
   "source": [
    "# use selection sort to sort the given array [34,21,52,43,12,3]"
   ]
  },
  {
   "cell_type": "code",
   "execution_count": 1,
   "metadata": {},
   "outputs": [
    {
     "name": "stdout",
     "output_type": "stream",
     "text": [
      "[3, 12, 21, 34, 43, 52]\n"
     ]
    }
   ],
   "source": [
    "x=[34,21,52,43,12,3]\n",
    "\n",
    "def selectionSort(arr):\n",
    "    n=len(arr)\n",
    "    for i in range(n-1):\n",
    "        mini_index=i\n",
    "        for j in range(i+1,n):\n",
    "            if arr[j]<arr[mini_index]:\n",
    "                mini_index=j\n",
    "        arr[i],arr[mini_index]=arr[mini_index],arr[i]\n",
    "    return arr\n",
    "print(selectionSort(x))"
   ]
  },
  {
   "cell_type": "markdown",
   "metadata": {},
   "source": [
    "# Adding and Retrieving Items (Fruit Basket):\n",
    "# Imagine you have a basket with different fruits. \n",
    "# Let's create a dictionary to keep track of them:  \n",
    "# Creating the Dictionary called fruits:  \n",
    "# add apple and orange with the count of 2 and 3:  \n",
    "# retrive the fruit apple:"
   ]
  },
  {
   "cell_type": "code",
   "execution_count": 2,
   "metadata": {},
   "outputs": [
    {
     "name": "stdout",
     "output_type": "stream",
     "text": [
      "Count of apple: 7\n",
      "Fruits in the basket:\n",
      "apple : 7\n",
      "orange : 3\n"
     ]
    }
   ],
   "source": [
    "fruits = {}\n",
    "\n",
    "def add_fruit(fruit, count):\n",
    "    if fruit in fruits:\n",
    "        fruits[fruit] += count\n",
    "    else:\n",
    "        fruits[fruit] = count\n",
    "\n",
    "def get_fruit_count(fruit):\n",
    "    return fruits.get(fruit)\n",
    "\n",
    "\n",
    "add_fruit('apple', 2)\n",
    "add_fruit('orange', 3)\n",
    "add_fruit('apple', 5)\n",
    "count_of_apple = get_fruit_count('apple')\n",
    "print(\"Count of apple:\", count_of_apple)\n",
    "\n",
    "\n",
    "\n",
    "print(\"Fruits in the basket:\")\n",
    "for fruit, count in fruits.items():\n",
    "    print(fruit, \":\", count)\n"
   ]
  },
  {
   "cell_type": "markdown",
   "metadata": {},
   "source": [
    "# Counting Letters (Simple Histogram):\n",
    "# Let's count the frequency of letters in a short word:\n",
    "# Creating the Dictionary:\n",
    "# Counting Letters:\n",
    "# Checking Counts:"
   ]
  },
  {
   "cell_type": "code",
   "execution_count": 7,
   "metadata": {},
   "outputs": [
    {
     "name": "stdout",
     "output_type": "stream",
     "text": [
      "Letter counts:\n",
      "n: 2\n",
      "i: 2\n"
     ]
    }
   ],
   "source": [
    "word=input(\"Enter the String: \")\n",
    "\n",
    "let_counts = {}\n",
    "\n",
    "\n",
    "for letter in word:\n",
    "    if letter in let_counts:\n",
    "        let_counts[letter] += 1\n",
    "    else:\n",
    "        let_counts[letter] = 1\n",
    "\n",
    "print(\"Letter counts:\")\n",
    "for letter, count in let_counts.items():\n",
    "    print(f\"{letter}: {count}\")\n"
   ]
  }
 ],
 "metadata": {
  "kernelspec": {
   "display_name": "Python 3",
   "language": "python",
   "name": "python3"
  },
  "language_info": {
   "codemirror_mode": {
    "name": "ipython",
    "version": 3
   },
   "file_extension": ".py",
   "mimetype": "text/x-python",
   "name": "python",
   "nbconvert_exporter": "python",
   "pygments_lexer": "ipython3",
   "version": "3.12.2"
  }
 },
 "nbformat": 4,
 "nbformat_minor": 2
}
