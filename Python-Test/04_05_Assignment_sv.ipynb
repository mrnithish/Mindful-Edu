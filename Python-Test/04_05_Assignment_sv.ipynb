{
 "cells": [
  {
   "cell_type": "markdown",
   "id": "9872fcab",
   "metadata": {},
   "source": [
    "# https://leetcode.com/problems/climbing-stairs/description/"
   ]
  },
  {
   "cell_type": "code",
   "execution_count": 21,
   "id": "839b450f",
   "metadata": {},
   "outputs": [
    {
     "name": "stdout",
     "output_type": "stream",
     "text": [
      "89\n"
     ]
    }
   ],
   "source": [
    "def climbStairs(n):\n",
    "    if n == 1:\n",
    "            return 1\n",
    "    elif n == 2:\n",
    "        return 2\n",
    "    else:\n",
    "        first, second = 1, 2\n",
    "        for i in range(3, n + 1):\n",
    "            current = first + second\n",
    "            first, second = second, current\n",
    "        return second\n",
    "\n",
    "n = 10\n",
    "print(climbStairs(n)) "
   ]
  },
  {
   "cell_type": "markdown",
   "id": "d9229595",
   "metadata": {},
   "source": [
    "# https://leetcode.com/problems/sqrtx/description/"
   ]
  },
  {
   "cell_type": "code",
   "execution_count": 10,
   "id": "e51e1817",
   "metadata": {},
   "outputs": [
    {
     "data": {
      "text/plain": [
       "3"
      ]
     },
     "execution_count": 10,
     "metadata": {},
     "output_type": "execute_result"
    }
   ],
   "source": [
    "def mySqrt(x):\n",
    "        if x <= 1:\n",
    "            return x\n",
    "\n",
    "        def good(v):\n",
    "            return v*v <= x\n",
    "\n",
    "        left, right = 0, x\n",
    "\n",
    "        while left < right:\n",
    "            mid = left + (right - left) // 2\n",
    "\n",
    "            if good(mid):\n",
    "                left = mid + 1\n",
    "            else:\n",
    "                right = mid\n",
    "\n",
    "        return left - 1\n",
    "    \n",
    "x = 9\n",
    "mySqrt(x)"
   ]
  },
  {
   "cell_type": "markdown",
   "id": "1fd83424",
   "metadata": {},
   "source": [
    "# https://leetcode.com/problems/missing-number/description/"
   ]
  },
  {
   "cell_type": "code",
   "execution_count": 6,
   "id": "824572ff",
   "metadata": {},
   "outputs": [
    {
     "data": {
      "text/plain": [
       "2"
      ]
     },
     "execution_count": 6,
     "metadata": {},
     "output_type": "execute_result"
    }
   ],
   "source": [
    "def missing(nums):\n",
    "    n = len(nums)\n",
    "    sums = n*(n+1)/2\n",
    "    res = sum(nums)\n",
    "    d = sums - res\n",
    "    return int(d)\n",
    "            \n",
    "nums = [1,3,0]\n",
    "missing(nums)\n"
   ]
  },
  {
   "cell_type": "markdown",
   "id": "1887e1f7",
   "metadata": {},
   "source": [
    "# https://leetcode.com/problems/intersection-of-two-arrays/description/"
   ]
  },
  {
   "cell_type": "code",
   "execution_count": 23,
   "id": "98eafe68",
   "metadata": {},
   "outputs": [
    {
     "data": {
      "text/plain": [
       "[2]"
      ]
     },
     "execution_count": 23,
     "metadata": {},
     "output_type": "execute_result"
    }
   ],
   "source": [
    "\n",
    "def intersection(nums1, nums2):\n",
    "    \n",
    "    ans = []\n",
    "    nums1 = set(nums1)\n",
    "    for num in nums2:\n",
    "        if num in nums1:\n",
    "            ans.append(num)\n",
    "            nums1.remove(num)\n",
    "    return ans\n",
    "\n",
    "nums1 = [1,2,2,1]\n",
    "nums2 = [2,2]\n",
    "intersection(nums1,nums2)"
   ]
  }
 ],
 "metadata": {
  "kernelspec": {
   "display_name": "Python 3 (ipykernel)",
   "language": "python",
   "name": "python3"
  },
  "language_info": {
   "codemirror_mode": {
    "name": "ipython",
    "version": 3
   },
   "file_extension": ".py",
   "mimetype": "text/x-python",
   "name": "python",
   "nbconvert_exporter": "python",
   "pygments_lexer": "ipython3",
   "version": "3.11.9"
  }
 },
 "nbformat": 4,
 "nbformat_minor": 5
}
