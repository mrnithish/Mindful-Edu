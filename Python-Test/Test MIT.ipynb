{
 "cells": [
  {
   "cell_type": "markdown",
   "id": "230a0a38",
   "metadata": {},
   "source": [
    " Given an array arr[] of size n and an integer X.\n",
    " \n",
    "  Find if there’s a triplet in the array which sums up to the given integer X.\n",
    "\n",
    "Input: arr = [12,3,4,1,6,9], X = 24\n",
    "Output: 12,3,9\n",
    "\n",
    "Input: arr = [1,2,3,4,5], X = 9\n",
    "Output: 1,3,5"
   ]
  },
  {
   "cell_type": "code",
   "execution_count": 25,
   "id": "871ff3b0",
   "metadata": {},
   "outputs": [
    {
     "name": "stdout",
     "output_type": "stream",
     "text": [
      "1,3,5\n"
     ]
    }
   ],
   "source": [
    "def triplet(arr,x):\n",
    "    n=len(arr)\n",
    "    s=[]\n",
    "    for i in range(n):\n",
    "        for j in range(i,n):\n",
    "            for k in range(j,n):\n",
    "                sums=arr[i]+arr[j]+arr[k]\n",
    "                if sums==x and i!=j and i!=k and j!=k:\n",
    "                    s.append([arr[i],arr[j],arr[k]])\n",
    "    if s is None:\n",
    "        print(\"Empty\")\n",
    "    else:\n",
    "        y=s[0]\n",
    "        print(f'{y[0]},{y[1]},{y[2]}')\n",
    "\n",
    "\n",
    "arr = [1,2,3,4,5]\n",
    "x = 9\n",
    "triplet(arr,x)\n"
   ]
  },
  {
   "cell_type": "markdown",
   "id": "f3087867",
   "metadata": {},
   "source": [
    "Given two linked list insert nodes of second list into first list at alternate positions of first list. \n",
    "\n",
    "For example, if first list is 5->7->17->13->11 and second is 12->10->2->4->6,\n",
    "\n",
    " the first list should become 5->12->7->10->17->2->13->4->11->6 and\n",
    " \n",
    "  second list should become empty. So, for this question first make two lists list1 and list2. \n",
    "  \n",
    "  Then in output merge them.\n",
    "\n",
    "Input: list1: 3->7->9 , list2: 8->12\n",
    "Output: 3->8->7->12->9\n",
    "\n",
    "Input: list1: 5->9, list2: 4->11->15\n",
    " Output: 5->4->9->11->15\n"
   ]
  },
  {
   "cell_type": "code",
   "execution_count": 1,
   "id": "94c68ef3",
   "metadata": {},
   "outputs": [
    {
     "name": "stdout",
     "output_type": "stream",
     "text": [
      "3 -> 7 -> 9 -> \n",
      "8 -> 12 -> \n",
      "3 -> 8 -> 7 -> \n"
     ]
    }
   ],
   "source": [
    "class Node:\n",
    "    def __init__(self,data):\n",
    "        self.data=data \n",
    "        self.next=None\n",
    "\n",
    "class LinkedList:\n",
    "\n",
    "    def __init__(self):\n",
    "        self.head=None\n",
    "\n",
    "    def insert(self,data):\n",
    "        newnode=Node(data)\n",
    "        if self.head is None:\n",
    "            self.head=newnode\n",
    "        else:\n",
    "            node=self.head\n",
    "            while node.next:\n",
    "                node=node.next\n",
    "            node.next=newnode\n",
    "\n",
    "    def display(self):\n",
    "        temp=self.head\n",
    "        if temp is None:\n",
    "            print(\"Empty\")\n",
    "        else:\n",
    "            while temp:\n",
    "                print(temp.data,end=\" -> \")\n",
    "                temp=temp.next\n",
    "        print()\n",
    "\n",
    "    def merge(self,list1,list2):\n",
    "            while (list1.head.next is not None) or (list2.head.next is not  None): \n",
    "                if list1.head.next is not None:\n",
    "                    self.insert(list1.head.data)\n",
    "                    list1.head=list1.head.next\n",
    "                if list2.head.next is not None:\n",
    "                    self.insert(list2.head.data)\n",
    "                    list2.head=list2.head.next\n",
    "\n",
    "\n",
    "\n",
    "o=LinkedList()\n",
    "o.insert(3)\n",
    "o.insert(7)\n",
    "o.insert(9)\n",
    "o.display()\n",
    "\n",
    "l=LinkedList()\n",
    "l.insert(8)\n",
    "l.insert(12)\n",
    "l.display()\n",
    "\n",
    "m=LinkedList()\n",
    "m.merge(o,l)\n",
    "m.display()"
   ]
  },
  {
   "cell_type": "markdown",
   "id": "356f21d7",
   "metadata": {},
   "source": [
    "Given a non-negative integer c, \n",
    "\n",
    "decide whether there're two integers a and b such that a2(a square) + b2(b square).\n",
    "\n",
    " Input: c = 5\n",
    "Output: True\n",
    " Explanation: a = 1, b=2 then , c = a2 + b2\n",
    "\n",
    " Input: c= 11\n",
    " Output: False"
   ]
  },
  {
   "cell_type": "code",
   "execution_count": 53,
   "id": "05151419",
   "metadata": {},
   "outputs": [
    {
     "name": "stdout",
     "output_type": "stream",
     "text": [
      "False\n"
     ]
    }
   ],
   "source": [
    "def d(c):\n",
    "    s=[]\n",
    "    for i in range(c):\n",
    "        sum= (i*i) + (i+1) * (i+1)\n",
    "        \n",
    "        s.append(sum)\n",
    "    if c in s:\n",
    "        print(True)\n",
    "    else:\n",
    "        print(False)\n",
    "\n",
    "c=11\n",
    "d(c)"
   ]
  },
  {
   "cell_type": "markdown",
   "id": "38ac3d9c",
   "metadata": {},
   "source": [
    "Implement Slection sort"
   ]
  },
  {
   "cell_type": "code",
   "execution_count": 49,
   "id": "0d0c2502",
   "metadata": {},
   "outputs": [
    {
     "name": "stdout",
     "output_type": "stream",
     "text": [
      "[0, 1, 2, 5, 6, 13]\n"
     ]
    }
   ],
   "source": [
    "def selectionSort(arr):\n",
    "    n=len(arr)\n",
    "    for i in range(n):\n",
    "        mini=i\n",
    "        for j in range(i,n):\n",
    "            if arr[j]<arr[mini]:\n",
    "                mini=j\n",
    "        arr[i],arr[mini]=arr[mini],arr[i]\n",
    "    \n",
    "    return arr\n",
    "\n",
    "arr=[1,2,5,6,13,0]\n",
    "print(selectionSort(arr))"
   ]
  }
 ],
 "metadata": {
  "kernelspec": {
   "display_name": "Python 3 (ipykernel)",
   "language": "python",
   "name": "python3"
  },
  "language_info": {
   "codemirror_mode": {
    "name": "ipython",
    "version": 3
   },
   "file_extension": ".py",
   "mimetype": "text/x-python",
   "name": "python",
   "nbconvert_exporter": "python",
   "pygments_lexer": "ipython3",
   "version": "3.12.2"
  }
 },
 "nbformat": 4,
 "nbformat_minor": 5
}
