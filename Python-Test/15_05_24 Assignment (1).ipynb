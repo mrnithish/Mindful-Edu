{
 "cells": [
  {
   "cell_type": "markdown",
   "id": "3dede660",
   "metadata": {},
   "source": [
    "# https://leetcode.com/problems/type-of-triangle/description/"
   ]
  },
  {
   "cell_type": "code",
   "execution_count": 1,
   "id": "aab22e5f",
   "metadata": {},
   "outputs": [
    {
     "name": "stdout",
     "output_type": "stream",
     "text": [
      "equilateral\n"
     ]
    }
   ],
   "source": [
    "from typing import List\n",
    "class Solution:\n",
    "   def triangleType(self, nums: List[int]) -> str:\n",
    "    nums.sort()\n",
    "    if nums[0] + nums[1] <= nums[2]:\n",
    "      return 'none'\n",
    "    if nums[0] == nums[1] and nums[1] == nums[2]:\n",
    "      return 'equilateral'\n",
    "    if nums[0] == nums[1] or nums[1] == nums[2]:\n",
    "      return 'isosceles'\n",
    "    return 'scalene'\n",
    "solution = Solution()\n",
    "nums = [3, 3, 3]\n",
    "print(solution.triangleType(nums))\n"
   ]
  },
  {
   "cell_type": "markdown",
   "id": "7390f77a",
   "metadata": {},
   "source": [
    "# https://leetcode.com/problems/ant-on-the-boundary/description/"
   ]
  },
  {
   "cell_type": "code",
   "execution_count": 2,
   "id": "cbdf7945",
   "metadata": {},
   "outputs": [
    {
     "name": "stdout",
     "output_type": "stream",
     "text": [
      "1\n"
     ]
    }
   ],
   "source": [
    "import itertools\n",
    "class Solution:\n",
    "  def returnToBoundaryCount(self, nums: List[int]) -> int:\n",
    "    return sum(prefix == 0 for prefix in itertools.accumulate(nums))\n",
    "solution = Solution()\n",
    "nums = [2,3,-5]\n",
    "print(solution.returnToBoundaryCount(nums))"
   ]
  },
  {
   "cell_type": "markdown",
   "id": "e745fc31",
   "metadata": {},
   "source": [
    "# https://leetcode.com/problems/minimum-number-game/description/"
   ]
  },
  {
   "cell_type": "code",
   "execution_count": 36,
   "id": "9f9c16a6",
   "metadata": {},
   "outputs": [
    {
     "name": "stdout",
     "output_type": "stream",
     "text": [
      "[3, 2, 5, 4]\n"
     ]
    }
   ],
   "source": [
    "class Solution:\n",
    "  def numberGame(self, nums: List[int]) -> List[int]:\n",
    "    nums.sort()\n",
    "    return [nums[i + 1] if i % 2 == 0\n",
    "            else nums[i - 1]\n",
    "            for i in range(len(nums))]\n",
    "solution = Solution()\n",
    "nums = [5,4,2,3]\n",
    "print(solution.numberGame(nums))"
   ]
  },
  {
   "cell_type": "markdown",
   "id": "343164a9",
   "metadata": {},
   "source": [
    "# https://leetcode.com/problems/find-words-containing-character/description/"
   ]
  },
  {
   "cell_type": "code",
   "execution_count": 3,
   "id": "7984e274",
   "metadata": {},
   "outputs": [
    {
     "name": "stdout",
     "output_type": "stream",
     "text": [
      "[0, 1]\n"
     ]
    }
   ],
   "source": [
    "class Solution:\n",
    "    def findWordsContaining(self, words: List[str], x: str) -> List[int]:\n",
    "        ans = []\n",
    "        \n",
    "        for i in range(len(words)):\n",
    "            if x in words[i]:\n",
    "                ans.append(i)\n",
    "                \n",
    "        return ans\n",
    "solution = Solution()\n",
    "words = [\"leet\", \"code\"]\n",
    "x = \"e\"\n",
    "print(solution.findWordsContaining(words, x))\n"
   ]
  }
 ],
 "metadata": {
  "kernelspec": {
   "display_name": "Python 3 (ipykernel)",
   "language": "python",
   "name": "python3"
  },
  "language_info": {
   "codemirror_mode": {
    "name": "ipython",
    "version": 3
   },
   "file_extension": ".py",
   "mimetype": "text/x-python",
   "name": "python",
   "nbconvert_exporter": "python",
   "pygments_lexer": "ipython3",
   "version": "3.12.2"
  }
 },
 "nbformat": 4,
 "nbformat_minor": 5
}
