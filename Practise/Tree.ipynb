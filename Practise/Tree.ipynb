{
 "cells": [
  {
   "cell_type": "markdown",
   "metadata": {},
   "source": [
    "# Tree"
   ]
  },
  {
   "cell_type": "markdown",
   "metadata": {},
   "source": [
    "## Binary Search Tree"
   ]
  },
  {
   "cell_type": "code",
   "execution_count": 17,
   "metadata": {},
   "outputs": [
    {
     "name": "stdout",
     "output_type": "stream",
     "text": [
      "Inorder\n",
      "0 -> 2 -> 2 -> 5 -> 9 -> 24 -> 94 -> 247 -> \n",
      "Preorder\n",
      "5 -> 2 -> 0 -> 2 -> 9 -> 247 -> 94 -> 24 -> \n",
      "Postorder\n",
      "0 -> 2 -> 2 -> 24 -> 94 -> 247 -> 9 -> 5 -> \n",
      "Level Order\n",
      "5 -> 2 -> 9 -> 0 -> 2 -> 247 -> 94 -> 24 -> "
     ]
    },
    {
     "data": {
      "text/plain": [
       "4"
      ]
     },
     "execution_count": 17,
     "metadata": {},
     "output_type": "execute_result"
    }
   ],
   "source": [
    "#Tree Node Structure\n",
    "class Node:\n",
    "    def __init__(self,data):\n",
    "        self.left=None\n",
    "        self.data=data\n",
    "        self.right=None\n",
    "\n",
    "\n",
    "#Tree\n",
    "class BinarySearchTree:\n",
    "\n",
    "    def createNode(self,data):\n",
    "        return Node(data)\n",
    "\n",
    "    def insert(self,node,data):\n",
    "        if node is None:\n",
    "            return self.createNode(data)\n",
    "        if data < node.data:\n",
    "            node.left=self.insert(node.left,data)\n",
    "        else:\n",
    "            node.right=self.insert(node.right,data)\n",
    "        return node\n",
    "    \n",
    "\n",
    "    #Traversal Techniques\n",
    "    def inorder_traversal(self,root):\n",
    "        if root is not None:\n",
    "            self.inorder_traversal(root.left)\n",
    "            print(root.data,end=\" -> \")\n",
    "            self.inorder_traversal(root.right)\n",
    "    \n",
    "    def preorder(self,root):\n",
    "        if root is not None:\n",
    "            print(root.data,end=\" -> \")\n",
    "            self.preorder(root.left)\n",
    "            self.preorder(root.right)\n",
    "\n",
    "    def postorder(self,root):\n",
    "        if root is not None:\n",
    "            self.postorder(root.left)\n",
    "            self.postorder(root.right)\n",
    "            print(root.data,end=\" -> \")\n",
    "    \n",
    "    def levelOrder(self,root):\n",
    "        q=[]\n",
    "        q.append(root)\n",
    "        while len(q)!=0:\n",
    "            root=q.pop(0)\n",
    "            print(root.data,end=\" -> \")\n",
    "            if root.left is not None:\n",
    "                q.append(root.left)\n",
    "            if root.right is not None:\n",
    "                q.append(root.right)\n",
    "    \n",
    "    #Height of the tree\n",
    "    def height(self,root):\n",
    "        if root is None:\n",
    "            return -1\n",
    "        else:\n",
    "            return max(self.height(root.left),self.height(root.right))+1\n",
    "\n",
    "\n",
    "\n",
    "#Driver Class\n",
    "t=BinarySearchTree()\n",
    "root=t.createNode(5)\n",
    "t.insert(root,2)\n",
    "t.insert(root,9)\n",
    "t.insert(root,247)\n",
    "t.insert(root,94)\n",
    "t.insert(root,24)\n",
    "t.insert(root,2)\n",
    "t.insert(root,0)\n",
    "print(\"Inorder\")\n",
    "t.inorder_traversal(root)\n",
    "print(\"\\nPreorder\")\n",
    "t.preorder(root)\n",
    "print(\"\\nPostorder\")\n",
    "t.postorder(root)\n",
    "print(\"\\nLevel Order\")\n",
    "t.levelOrder(root)\n",
    "t.height(root)"
   ]
  },
  {
   "cell_type": "code",
   "execution_count": null,
   "metadata": {},
   "outputs": [],
   "source": []
  }
 ],
 "metadata": {
  "kernelspec": {
   "display_name": "Python 3",
   "language": "python",
   "name": "python3"
  },
  "language_info": {
   "codemirror_mode": {
    "name": "ipython",
    "version": 3
   },
   "file_extension": ".py",
   "mimetype": "text/x-python",
   "name": "python",
   "nbconvert_exporter": "python",
   "pygments_lexer": "ipython3",
   "version": "3.12.2"
  }
 },
 "nbformat": 4,
 "nbformat_minor": 2
}
