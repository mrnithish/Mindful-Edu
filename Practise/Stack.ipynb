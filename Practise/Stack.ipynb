{
 "cells": [
  {
   "cell_type": "markdown",
   "metadata": {},
   "source": [
    "# Stack using List"
   ]
  },
  {
   "cell_type": "code",
   "execution_count": 2,
   "metadata": {},
   "outputs": [
    {
     "name": "stdout",
     "output_type": "stream",
     "text": [
      "[23, 3, 1]\n",
      "1\n",
      "1\n",
      "[23, 3]\n"
     ]
    }
   ],
   "source": [
    "class Stack:\n",
    "    def __init__(self) :\n",
    "        self.items=[]\n",
    "    def push(self,item):\n",
    "        self.items.append(item)\n",
    "    def display(self):\n",
    "        return self.items\n",
    "    def is_empty(self):\n",
    "        return self.items == []\n",
    "    def pop(self):\n",
    "        return self.items.pop()\n",
    "    def peek(self):\n",
    "        return self.items[-1]\n",
    "\n",
    "s=Stack()\n",
    "s.push(23)\n",
    "s.push(3)\n",
    "s.push(1)\n",
    "print(s.display())\n",
    "print(s.peek())\n",
    "print(s.pop())\n",
    "print(s.display())\n"
   ]
  },
  {
   "cell_type": "markdown",
   "metadata": {},
   "source": [
    "# Determine if Brackets are Balanced"
   ]
  },
  {
   "cell_type": "code",
   "execution_count": 8,
   "metadata": {},
   "outputs": [
    {
     "name": "stdout",
     "output_type": "stream",
     "text": [
      "True\n"
     ]
    }
   ],
   "source": [
    "   \n",
    "def balancedBracket(paren_string):\n",
    "    x = Stack()\n",
    "    is_balanced = True\n",
    "    index = 0\n",
    "\n",
    "    while index < len(paren_string) and is_balanced:\n",
    "        paren = paren_string[index]\n",
    "        if paren in \"([{\":\n",
    "            x.push(paren)\n",
    "        else:\n",
    "            if x.is_empty():\n",
    "                is_balanced = False\n",
    "                break\n",
    "            else:\n",
    "                top = x.pop()\n",
    "                if top==paren:\n",
    "                    is_balanced = False\n",
    "                    break\n",
    "        index += 1\n",
    "\n",
    "    if x.is_empty() and is_balanced:\n",
    "        return True\n",
    "    else:\n",
    "        return False\n",
    "\n",
    "print(balancedBracket(\"{}\"))\n"
   ]
  },
  {
   "cell_type": "markdown",
   "metadata": {},
   "source": [
    "# Reverse String"
   ]
  },
  {
   "cell_type": "code",
   "execution_count": 23,
   "metadata": {},
   "outputs": [
    {
     "name": "stdout",
     "output_type": "stream",
     "text": [
      "drow\n"
     ]
    }
   ],
   "source": [
    "#O(n)\n",
    "re=Stack()\n",
    "x=\"word\"\n",
    "res=\"\"\n",
    "for i in x:\n",
    "    re.push(i)\n",
    "re.display()\n",
    "for i in range(len(x)):\n",
    "    res+=re.pop()\n",
    "print(res)"
   ]
  },
  {
   "cell_type": "markdown",
   "metadata": {},
   "source": [
    "# Convert Decimal Integer to Binary"
   ]
  },
  {
   "cell_type": "code",
   "execution_count": 40,
   "metadata": {},
   "outputs": [
    {
     "name": "stdout",
     "output_type": "stream",
     "text": [
      "111001011110000010100101000000\n"
     ]
    }
   ],
   "source": [
    "def decimalToBinary(num):\n",
    "    c=Stack()\n",
    "    res=\"\"\n",
    "    while num > 0:\n",
    "        rem=num%2\n",
    "        num//=2\n",
    "        c.push(rem)\n",
    "    for i in range(len(c.items)):\n",
    "        res+=str(c.pop())\n",
    "    print(res)\n",
    "decimalToBinary(964176192)\n"
   ]
  },
  {
   "cell_type": "markdown",
   "metadata": {},
   "source": [
    "# Reverse Bits\n"
   ]
  },
  {
   "cell_type": "code",
   "execution_count": 47,
   "metadata": {},
   "outputs": [
    {
     "name": "stdout",
     "output_type": "stream",
     "text": [
      "00111001011110000010100101000000\n",
      "964176192\n"
     ]
    }
   ],
   "source": [
    "n = \"00000010100101000001111010011100\"\n",
    "ne=n[::-1]\n",
    "print(ne)\n",
    "res=0\n",
    "for i in range(len(ne)):\n",
    "    power=2**(len(ne)-1-i)\n",
    "    digit=int(ne[i]) * power\n",
    "    res+=digit\n",
    "print(res)"
   ]
  }
 ],
 "metadata": {
  "kernelspec": {
   "display_name": "Python 3",
   "language": "python",
   "name": "python3"
  },
  "language_info": {
   "codemirror_mode": {
    "name": "ipython",
    "version": 3
   },
   "file_extension": ".py",
   "mimetype": "text/x-python",
   "name": "python",
   "nbconvert_exporter": "python",
   "pygments_lexer": "ipython3",
   "version": "3.12.2"
  }
 },
 "nbformat": 4,
 "nbformat_minor": 2
}
