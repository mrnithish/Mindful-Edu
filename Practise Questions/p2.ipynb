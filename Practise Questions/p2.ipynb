{
 "cells": [
  {
   "cell_type": "code",
   "execution_count": 7,
   "metadata": {},
   "outputs": [
    {
     "name": "stdout",
     "output_type": "stream",
     "text": [
      "13->3->0->"
     ]
    }
   ],
   "source": [
    "#Node Creation\n",
    "class Node:\n",
    "    def __init__(self,data):\n",
    "        self.data=data\n",
    "        self.next=None\n",
    "\n",
    "#Linked List\n",
    "class LinkedList:\n",
    "    #Head initializing\n",
    "    def __init__(self):\n",
    "        self.head=None\n",
    "\n",
    "    #Insert at Begin\n",
    "    def insertAtBegin(self,data):\n",
    "        new_node=Node(data)\n",
    "        if self.head is None:\n",
    "            self.head=new_node\n",
    "        else:\n",
    "            new_node.next=self.head\n",
    "            self.head=new_node\n",
    "\n",
    "    #Insert At End\n",
    "    def insertAtEnd(self,data):\n",
    "        new_node=Node(data)\n",
    "        node=self.head\n",
    "        if self.head  is  None:\n",
    "            self.head=new_node\n",
    "        else:\n",
    "            while node.next is not None:\n",
    "                node=node.next\n",
    "            node.next=new_node\n",
    "\n",
    "    #Traversal\n",
    "    def display(self):\n",
    "        node=self.head\n",
    "        if node is None:\n",
    "            print(\"Empty\")\n",
    "        else:\n",
    "            while node != None:\n",
    "                print(node.data,end=\"->\")\n",
    "                node=node.next\n",
    "obj=LinkedList()\n",
    "obj.insertAtBegin(3)\n",
    "obj.insertAtBegin(13)\n",
    "obj.insertAtEnd(0)\n",
    "obj.display()\n",
    "        "
   ]
  }
 ],
 "metadata": {
  "kernelspec": {
   "display_name": "Python 3",
   "language": "python",
   "name": "python3"
  },
  "language_info": {
   "codemirror_mode": {
    "name": "ipython",
    "version": 3
   },
   "file_extension": ".py",
   "mimetype": "text/x-python",
   "name": "python",
   "nbconvert_exporter": "python",
   "pygments_lexer": "ipython3",
   "version": "3.12.2"
  }
 },
 "nbformat": 4,
 "nbformat_minor": 2
}
