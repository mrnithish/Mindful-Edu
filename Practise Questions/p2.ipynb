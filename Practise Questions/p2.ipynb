{
 "cells": [
  {
   "cell_type": "code",
   "execution_count": 1,
   "metadata": {},
   "outputs": [
    {
     "name": "stdout",
     "output_type": "stream",
     "text": [
      "13->3->0->"
     ]
    }
   ],
   "source": [
    "#Node Creation\n",
    "class Node:\n",
    "    def __init__(self,data):\n",
    "        self.data=data\n",
    "        self.next=None\n",
    "\n",
    "#Linked List\n",
    "class LinkedList:\n",
    "    #Head initializing\n",
    "    def __init__(self):\n",
    "        self.head=None\n",
    "\n",
    "    #Insert at Begin\n",
    "    def insertAtBegin(self,data):\n",
    "        new_node=Node(data)\n",
    "        if self.head is None:\n",
    "            self.head=new_node\n",
    "        else:\n",
    "            new_node.next=self.head\n",
    "            self.head=new_node\n",
    "\n",
    "    #Insert At End\n",
    "    def insertAtEnd(self,data):\n",
    "        new_node=Node(data)\n",
    "        node=self.head\n",
    "        if self.head  is  None:\n",
    "            self.head=new_node\n",
    "        else:\n",
    "            while node.next is not None:\n",
    "                node=node.next\n",
    "            node.next=new_node\n",
    "    \n",
    "    \n",
    "\n",
    "    #Traversal\n",
    "    def display(self):\n",
    "        node=self.head\n",
    "        if node is None:\n",
    "            print(\"Empty\")\n",
    "        else:\n",
    "            while node != None:\n",
    "                print(node.data,end=\"->\")\n",
    "                node=node.next\n",
    "\n",
    "obj=LinkedList()\n",
    "obj.insertAtBegin(3)\n",
    "obj.insertAtBegin(13)\n",
    "obj.insertAtEnd(0)\n",
    "obj.display()\n",
    "        "
   ]
  },
  {
   "cell_type": "code",
   "execution_count": 2,
   "metadata": {},
   "outputs": [
    {
     "name": "stdout",
     "output_type": "stream",
     "text": [
      "[0, 1, 2, 3, 4, 5, 22, 56]\n"
     ]
    }
   ],
   "source": [
    "#bubble Sort\n",
    "def bubbleSort(arr):\n",
    "    n=len(arr)\n",
    "    for i in range(n-1):\n",
    "        for j in range(n-1):\n",
    "            if arr[j]>arr[j+1]:\n",
    "                arr[j],arr[j+1]=arr[j+1],arr[j]\n",
    "    return arr\n",
    "\n",
    "x=[2,3,1,4,0,22,56,5]\n",
    "print(bubbleSort(x))"
   ]
  },
  {
   "cell_type": "code",
   "execution_count": 3,
   "metadata": {},
   "outputs": [
    {
     "ename": "ValueError",
     "evalue": "invalid literal for int() with base 10: ''",
     "output_type": "error",
     "traceback": [
      "\u001b[1;31m---------------------------------------------------------------------------\u001b[0m",
      "\u001b[1;31mValueError\u001b[0m                                Traceback (most recent call last)",
      "Cell \u001b[1;32mIn[3], line 7\u001b[0m\n\u001b[0;32m      4\u001b[0m         \u001b[38;5;28;01mif\u001b[39;00m arr[i]\u001b[38;5;241m==\u001b[39mtarget:\n\u001b[0;32m      5\u001b[0m             \u001b[38;5;28mprint\u001b[39m(\u001b[38;5;124mf\u001b[39m\u001b[38;5;124m\"\u001b[39m\u001b[38;5;132;01m{\u001b[39;00mtarget\u001b[38;5;132;01m}\u001b[39;00m\u001b[38;5;124m is found at \u001b[39m\u001b[38;5;132;01m{\u001b[39;00mi\u001b[38;5;132;01m}\u001b[39;00m\u001b[38;5;124mth position\u001b[39m\u001b[38;5;124m\"\u001b[39m)\n\u001b[1;32m----> 7\u001b[0m si\u001b[38;5;241m=\u001b[39m\u001b[38;5;28;43mint\u001b[39;49m\u001b[43m(\u001b[49m\u001b[38;5;28;43minput\u001b[39;49m\u001b[43m(\u001b[49m\u001b[38;5;124;43m\"\u001b[39;49m\u001b[38;5;124;43mEnter the Size of the List: \u001b[39;49m\u001b[38;5;124;43m\"\u001b[39;49m\u001b[43m)\u001b[49m\u001b[43m)\u001b[49m\n\u001b[0;32m      8\u001b[0m x\u001b[38;5;241m=\u001b[39m[]\n\u001b[0;32m      9\u001b[0m \u001b[38;5;28;01mfor\u001b[39;00m i \u001b[38;5;129;01min\u001b[39;00m \u001b[38;5;28mrange\u001b[39m(si):\n",
      "\u001b[1;31mValueError\u001b[0m: invalid literal for int() with base 10: ''"
     ]
    }
   ],
   "source": [
    "def linearSearch(arr,target):\n",
    "    n=len(arr)\n",
    "    for i in range(n):\n",
    "        if arr[i]==target:\n",
    "            print(f\"{target} is found at {i}th position\")\n",
    "\n",
    "si=int(input(\"Enter the Size of the List: \"))\n",
    "x=[]\n",
    "for i in range(si):\n",
    "    y=int(input(\"Enter the value  :  \"))\n",
    "    x.append(y)\n",
    "print(x)\n",
    "linearSearch(x,0)"
   ]
  },
  {
   "cell_type": "code",
   "execution_count": 2,
   "metadata": {},
   "outputs": [
    {
     "name": "stdout",
     "output_type": "stream",
     "text": [
      "5\n",
      "2\n"
     ]
    }
   ],
   "source": [
    "def disp():\n",
    "    x=5\n",
    "    def de():\n",
    "        y=2\n",
    "        def ze():\n",
    "            z=7\n",
    "            return z\n",
    "        return y\n",
    "    print(x)\n",
    "    print(de())\n",
    "\n",
    "disp()"
   ]
  },
  {
   "cell_type": "markdown",
   "metadata": {},
   "source": [
    "# Stack"
   ]
  },
  {
   "cell_type": "code",
   "execution_count": 19,
   "metadata": {},
   "outputs": [
    {
     "name": "stdout",
     "output_type": "stream",
     "text": [
      "Peek 4\n",
      "4\n",
      "5\n",
      "4\n",
      "5\n"
     ]
    }
   ],
   "source": [
    "#Node Creation\n",
    "class Node:\n",
    "    def __init__(self,data):\n",
    "        self.data=data\n",
    "        self.next=None\n",
    "\n",
    "#Stack\n",
    "class Stack:\n",
    "    #Head initializing\n",
    "    def __init__(self):\n",
    "        self.head=None\n",
    "\n",
    "    #Push\n",
    "    def push(self,data):\n",
    "        newnode=Node(data)\n",
    "        if self.head == None:\n",
    "            self.head=newnode\n",
    "        else:\n",
    "            newnode.next=self.head\n",
    "            self.head=newnode\n",
    "\n",
    "    #Pop\n",
    "    def popy(self):\n",
    "        if self.head == None:\n",
    "            print(\"Empty\")\n",
    "        else:\n",
    "            popnode=self.head\n",
    "            self.head=self.head.next\n",
    "            popnode.next=None\n",
    "            print(f\"{popnode.data} is popped\")\n",
    "\n",
    "    #Peek\n",
    "    def peek(self):\n",
    "        if self.head==None:\n",
    "            print(\"Empty\")\n",
    "        else:\n",
    "            print(\"Peek\",self.head.data)\n",
    "\n",
    "\n",
    "    #Traversal\n",
    "    def display(self):\n",
    "        node=self.head\n",
    "        if node is None:\n",
    "            print(\"Empty\")\n",
    "        else:\n",
    "            while node != None:\n",
    "                print(node.data)\n",
    "                node=node.next\n",
    "\n",
    "ob=Stack()\n",
    "ob.push(5)\n",
    "ob.push(4)\n",
    "ob.peek()\n",
    "ob.display()\n",
    "ob.display()"
   ]
  }
 ],
 "metadata": {
  "kernelspec": {
   "display_name": "Python 3",
   "language": "python",
   "name": "python3"
  },
  "language_info": {
   "codemirror_mode": {
    "name": "ipython",
    "version": 3
   },
   "file_extension": ".py",
   "mimetype": "text/x-python",
   "name": "python",
   "nbconvert_exporter": "python",
   "pygments_lexer": "ipython3",
   "version": "3.12.2"
  }
 },
 "nbformat": 4,
 "nbformat_minor": 2
}
