{
 "cells": [
  {
   "cell_type": "markdown",
   "metadata": {},
   "source": [
    "## Quick Sort"
   ]
  },
  {
   "cell_type": "code",
   "execution_count": 4,
   "metadata": {},
   "outputs": [
    {
     "name": "stdout",
     "output_type": "stream",
     "text": [
      "[0, 1, 1, 2, 3, 3, 4, 5]\n"
     ]
    }
   ],
   "source": [
    "#worst Case : O(n^2)\n",
    "# Average Case : O(nlogn)\n",
    "\n",
    "def quickSort(arr):\n",
    "    n=len(arr)\n",
    "    if n<=1:\n",
    "        return arr\n",
    "    else:\n",
    "        pivot=arr.pop()\n",
    "    items_greater=[]\n",
    "    items_lower=[]\n",
    "    for item in arr:\n",
    "        if pivot < item:\n",
    "            items_greater.append(item)\n",
    "        else:\n",
    "            items_lower.append(item)\n",
    "    \n",
    "    result=quickSort(items_lower)+ [pivot] +quickSort(items_greater)\n",
    "    return result\n",
    "\n",
    "arr=[1,3,1,4,2,5,0,3]\n",
    "print(quickSort(arr))"
   ]
  },
  {
   "cell_type": "markdown",
   "metadata": {},
   "source": [
    "## Merge Sort"
   ]
  },
  {
   "cell_type": "code",
   "execution_count": 12,
   "metadata": {},
   "outputs": [
    {
     "name": "stdout",
     "output_type": "stream",
     "text": [
      "[0, 1, 1, 2, 3, 3, 4, 5]\n"
     ]
    }
   ],
   "source": [
    "def mergeSort(arr):\n",
    "    if len(arr) >1:\n",
    "        left_arr=arr[:len(arr)//2]\n",
    "        right_arr=arr[len(arr)//2:]\n",
    "\n",
    "        #recursive\n",
    "        mergeSort(left_arr)\n",
    "        mergeSort(right_arr)\n",
    "        \n",
    "        #merge\n",
    "        i,j,k=0,0,0\n",
    "        while i<len(left_arr) and j <len(right_arr):\n",
    "            if left_arr[i] < right_arr[j]:\n",
    "                arr[k]=left_arr[i]\n",
    "                i+=1\n",
    "            else:\n",
    "                arr[k]=right_arr[j]\n",
    "                j+=1\n",
    "            k+=1\n",
    "        while i < len(left_arr):\n",
    "                arr[k]=left_arr[i]\n",
    "                i+=1\n",
    "                k+=1\n",
    "        while j < len(right_arr):\n",
    "                arr[k]=right_arr[j]\n",
    "                j+=1\n",
    "                k+=1\n",
    "    return arr\n",
    "\n",
    "\n",
    "arr=[1,3,1,4,2,5,0,3]\n",
    "print(mergeSort(arr))"
   ]
  },
  {
   "cell_type": "markdown",
   "metadata": {},
   "source": [
    "## Bubble Sort"
   ]
  },
  {
   "cell_type": "code",
   "execution_count": 3,
   "metadata": {},
   "outputs": [
    {
     "name": "stdout",
     "output_type": "stream",
     "text": [
      "[0, 1, 3, 4, 13, 23]\n"
     ]
    }
   ],
   "source": [
    "def bubbleSort(arr):\n",
    "    n=len(arr)\n",
    "    for i in range(n-1):\n",
    "        for j in range(n-1):\n",
    "            if arr[j]>arr[j+1]:\n",
    "                arr[j+1],arr[j]=arr[j],arr[j+1]\n",
    "    return arr\n",
    "arr=[1,23,13,4,0,3]\n",
    "print(bubbleSort(arr))"
   ]
  },
  {
   "cell_type": "markdown",
   "metadata": {},
   "source": [
    "## Selection Sort"
   ]
  },
  {
   "cell_type": "code",
   "execution_count": 8,
   "metadata": {},
   "outputs": [
    {
     "name": "stdout",
     "output_type": "stream",
     "text": [
      "[0, 1, 3, 4, 13, 23]\n"
     ]
    }
   ],
   "source": [
    "def selectionSort(arr):\n",
    "    n=len(arr)\n",
    "    for  i in range(n-1):\n",
    "        mini_idx=i\n",
    "        for j in range(i+1,n):\n",
    "            if arr[j]<arr[mini_idx]:\n",
    "                mini_idx=j\n",
    "        arr[i],arr[mini_idx]=arr[mini_idx],arr[i]\n",
    "    return arr\n",
    "arr=[1,23,13,4,0,3]\n",
    "print(selectionSort(arr))"
   ]
  },
  {
   "cell_type": "markdown",
   "metadata": {},
   "source": [
    "## Insertion Sort"
   ]
  },
  {
   "cell_type": "code",
   "execution_count": 16,
   "metadata": {},
   "outputs": [
    {
     "name": "stdout",
     "output_type": "stream",
     "text": [
      "[0, 1, 3, 4, 13, 23]\n"
     ]
    }
   ],
   "source": [
    "def insertionSort(arr):\n",
    "    n=len(arr)\n",
    "    for i in range(n):\n",
    "        insert=arr[i]\n",
    "        j=i-1\n",
    "        while j>=0 and arr[j]>insert:\n",
    "            arr[j+1]=arr[j]\n",
    "            j-=1\n",
    "        arr[j+1]=insert\n",
    "    return arr\n",
    "arr=[1,23,13,4,0,3]\n",
    "print(insertionSort(arr))\n",
    "    "
   ]
  },
  {
   "cell_type": "code",
   "execution_count": 11,
   "metadata": {},
   "outputs": [
    {
     "name": "stdout",
     "output_type": "stream",
     "text": [
      "[0, 1, 3, 4, 13, 23]\n"
     ]
    }
   ],
   "source": [
    "#quick Sort\n",
    "def quickSort(arr):\n",
    "    n=len(arr)\n",
    "    if n<=1:\n",
    "        return arr\n",
    "    else:\n",
    "        pivot=arr.pop()\n",
    "    items_greater=[]\n",
    "    items_smaller=[]\n",
    "    for item in arr:\n",
    "        if item > pivot:\n",
    "            items_greater.append(item)\n",
    "        else:\n",
    "            items_smaller.append(item)\n",
    "    return quickSort(items_smaller)+[pivot]+quickSort(items_greater)\n",
    "\n",
    "arr=[1,23,13,4,0,3]\n",
    "print(quickSort(arr))"
   ]
  },
  {
   "cell_type": "code",
   "execution_count": 14,
   "metadata": {},
   "outputs": [
    {
     "name": "stdout",
     "output_type": "stream",
     "text": [
      "[0, 1, 3, 4, 13, 23]\n"
     ]
    }
   ],
   "source": [
    "#merge Sort\n",
    "def mergeSort(arr):\n",
    "    if len(arr)>1:\n",
    "        #partition\n",
    "        left_arr=arr[:len(arr)//2]\n",
    "        right_arr=arr[len(arr)//2:]\n",
    "        #recursive\n",
    "        mergeSort(left_arr)\n",
    "        mergeSort(right_arr)\n",
    "        #merge\n",
    "        i,j,k=0,0,0\n",
    "        while  i<len(left_arr) and j<len(right_arr):\n",
    "            if left_arr[i]<right_arr[j]:\n",
    "                arr[k]=left_arr[i]\n",
    "                i+=1\n",
    "                k+=1\n",
    "            else:\n",
    "                arr[k]=right_arr[j]\n",
    "                j+=1\n",
    "                k+=1\n",
    "        while  i<len(left_arr):\n",
    "            arr[k]=left_arr[i]\n",
    "            i+=1\n",
    "            k+=1\n",
    "        while j<len(right_arr):\n",
    "            arr[k]=right_arr[j]\n",
    "            j+=1\n",
    "            k+=1\n",
    "    return arr\n",
    "arr=[1,23,13,4,0,3]\n",
    "print(mergeSort(arr))"
   ]
  },
  {
   "cell_type": "markdown",
   "metadata": {},
   "source": [
    "# Counting Sort"
   ]
  },
  {
   "cell_type": "code",
   "execution_count": 9,
   "metadata": {},
   "outputs": [
    {
     "name": "stdout",
     "output_type": "stream",
     "text": [
      "[0, 1, 2, 3, 4, 5]\n"
     ]
    }
   ],
   "source": [
    "# General Term O(n+k)\n",
    "# Best Case O(n)\n",
    "# Worst Case O(n^2)\n",
    "\n",
    "def countingSort(arr):\n",
    "    max_value=max(arr)\n",
    "    count_arr=[0]*(max_value+1)\n",
    "\n",
    "    while len(arr)>0:\n",
    "        pos=arr.pop(0)\n",
    "        count_arr[pos]+=1\n",
    "\n",
    "    for i in range(len(count_arr)):\n",
    "        while count_arr[i]>0:\n",
    "            arr.append(i)\n",
    "            count_arr[i]-=1\n",
    "    return arr\n",
    "\n",
    "\n",
    "arr=[3,0,2,1,4,5]\n",
    "print(countingSort(arr))"
   ]
  },
  {
   "cell_type": "markdown",
   "metadata": {},
   "source": [
    "# Radix Sort"
   ]
  },
  {
   "cell_type": "code",
   "execution_count": 14,
   "metadata": {},
   "outputs": [
    {
     "name": "stdout",
     "output_type": "stream",
     "text": [
      "[1, 1, 3, 4, 5, 10, 72]\n"
     ]
    }
   ],
   "source": [
    "def radixSort(arr):\n",
    "    max_value=max(arr)\n",
    "    radix_Array=[[],[],[],[],[],[],[],[],[],[]]\n",
    "    exp=1\n",
    "\n",
    "    while max_value//exp >0:\n",
    "        while len(arr)>0:\n",
    "            val=arr.pop()\n",
    "            radixIndex=(val//exp) % 10\n",
    "            radix_Array[radixIndex].append(val)\n",
    "\n",
    "        for bucket in radix_Array:\n",
    "            while len(bucket)>0:\n",
    "                val=bucket.pop()\n",
    "                arr.append(val)\n",
    "        exp*=10 ## move to the next digits\n",
    "    return arr\n",
    "\n",
    "arr=[3,10,72,1,1,4,5]\n",
    "print(radixSort(arr))"
   ]
  },
  {
   "cell_type": "markdown",
   "metadata": {},
   "source": [
    "# Searching"
   ]
  },
  {
   "cell_type": "code",
   "execution_count": 20,
   "metadata": {},
   "outputs": [
    {
     "name": "stdout",
     "output_type": "stream",
     "text": [
      "2\n"
     ]
    }
   ],
   "source": [
    "### Linear Search\n",
    "\n",
    "def linearSearch(arr,k):\n",
    "    n=len(arr)\n",
    "    for i in range(n):\n",
    "        if (arr[i]==k):\n",
    "            return i\n",
    "    return -1\n",
    "\n",
    "arr=[1,23,13,4,0,3]\n",
    "k=13\n",
    "print(linearSearch(arr,k))\n"
   ]
  },
  {
   "cell_type": "code",
   "execution_count": 21,
   "metadata": {},
   "outputs": [
    {
     "name": "stdout",
     "output_type": "stream",
     "text": [
      "2\n"
     ]
    }
   ],
   "source": [
    "## Binary  Search\n",
    "# iterative\n",
    "def binarySearch(arr,left,right,k):\n",
    "    while left <=right:\n",
    "        mid=left+((right-left)//2)\n",
    "        if arr[mid]==k:\n",
    "            return mid\n",
    "        elif arr[mid]<k:\n",
    "            left=mid+1\n",
    "        else:\n",
    "            right=mid-1\n",
    "    return -1\n",
    "arr=[1,23,13,4,0,3]\n",
    "k=13\n",
    "print(binarySearch(arr,0,len(arr)-1,k))"
   ]
  },
  {
   "cell_type": "code",
   "execution_count": 22,
   "metadata": {},
   "outputs": [
    {
     "name": "stdout",
     "output_type": "stream",
     "text": [
      "2\n"
     ]
    }
   ],
   "source": [
    "#recursive\n",
    "def binarySearchR(arr,left,right,k):\n",
    "    while left<=right:\n",
    "        mid=left+(right-left)//2\n",
    "        if arr[mid]==k:\n",
    "            return mid\n",
    "        elif arr[mid]<k:\n",
    "            return binarySearchR(arr,mid+1,right,k)\n",
    "        else:\n",
    "            return binarySearchR(arr,left,mid-1,k)\n",
    "arr=[1,23,13,4,0,3]\n",
    "k=13\n",
    "print(binarySearchR(arr,0,len(arr)-1,k))"
   ]
  },
  {
   "cell_type": "code",
   "execution_count": 3,
   "metadata": {},
   "outputs": [
    {
     "name": "stdout",
     "output_type": "stream",
     "text": [
      "2367\n"
     ]
    }
   ],
   "source": [
    "def sol(arr,target):\n",
    "    x=\"\"\n",
    "    for i in arr:\n",
    "        x+=str(i)\n",
    "    print(x)\n",
    "\n",
    "candidates = [2,3,6,7]\n",
    "target = 7\n",
    "sol(candidates,target)"
   ]
  },
  {
   "cell_type": "code",
   "execution_count": 12,
   "metadata": {},
   "outputs": [
    {
     "name": "stdout",
     "output_type": "stream",
     "text": [
      "15\n",
      "5\n",
      "0\n"
     ]
    }
   ],
   "source": [
    "def display():\n",
    "    c=0\n",
    "    def nith(c):\n",
    "        z=c+5\n",
    "        # def hi(z):\n",
    "        #     y=z*3\n",
    "        #     return y\n",
    "        # print(hi(z))\n",
    "        return z\n",
    "    print(nith(c))\n",
    "    print(c)\n",
    "\n",
    "display()"
   ]
  },
  {
   "cell_type": "code",
   "execution_count": 20,
   "metadata": {},
   "outputs": [
    {
     "name": "stdout",
     "output_type": "stream",
     "text": [
      "<class 'int'>\n"
     ]
    }
   ],
   "source": [
    "def sum(a:int,b:int)->int:\n",
    "    return a+b\n",
    "print(type(sum(23,54)))\n"
   ]
  },
  {
   "cell_type": "code",
   "execution_count": 21,
   "metadata": {},
   "outputs": [
    {
     "name": "stdout",
     "output_type": "stream",
     "text": [
      "  * * * * *\n",
      "   * * * *\n",
      "    * * *\n",
      "     * *\n",
      "      *\n",
      "      *\n",
      "     * *\n",
      "    * * *\n",
      "   * * * *\n",
      "  * * * * *\n"
     ]
    }
   ],
   "source": [
    "n=5\n",
    "\n",
    "for i in range(n,0,-1):\n",
    "    print(\" \"*(n-i),\" *\"*i)\n",
    "for i in range(1,n+1):\n",
    "    print(\" \"*(n-i),\" *\"*i)\n",
    "# for i in range(1,n+1):\n",
    "#     print(\"* \"*i)\n",
    "# for i in range(n-1,0,-1):\n",
    "#     print(\"* \"*i)"
   ]
  },
  {
   "cell_type": "code",
   "execution_count": 29,
   "metadata": {},
   "outputs": [
    {
     "name": "stdout",
     "output_type": "stream",
     "text": [
      "(0,0)(0,1)(0,2)(0,3)(0,4)\n",
      "(1,0)(1,1)(1,2)(1,3)(1,4)\n",
      "(2,0)(2,1)(2,2)(2,3)(2,4)\n",
      "(3,0)(3,1)(3,2)(3,3)(3,4)\n",
      "(4,0)(4,1)(4,2)(4,3)(4,4)\n",
      "\n",
      "  *  \n",
      " * * \n",
      "*   *\n",
      " * * \n",
      "  *  \n"
     ]
    }
   ],
   "source": [
    "n=5\n",
    "for  i  in range(n):\n",
    "    for j in range(n):\n",
    "        print(f'({i},{j})',end=\"\")\n",
    "    print()\n",
    "print()\n",
    "for  i  in range(n):\n",
    "    for j in range(n):\n",
    "        if i+j==2 or i+j==6 or i-j==2 or j-i==2:\n",
    "            print(\"*\",end=\"\")\n",
    "        else:\n",
    "            print(\" \",end=\"\")\n",
    "    print()"
   ]
  }
 ],
 "metadata": {
  "kernelspec": {
   "display_name": "Python 3",
   "language": "python",
   "name": "python3"
  },
  "language_info": {
   "codemirror_mode": {
    "name": "ipython",
    "version": 3
   },
   "file_extension": ".py",
   "mimetype": "text/x-python",
   "name": "python",
   "nbconvert_exporter": "python",
   "pygments_lexer": "ipython3",
   "version": "3.12.2"
  }
 },
 "nbformat": 4,
 "nbformat_minor": 2
}
