{
 "cells": [
  {
   "cell_type": "markdown",
   "metadata": {},
   "source": [
    "## Remove Duplicates from Sorted Array - LeetCode"
   ]
  },
  {
   "cell_type": "code",
   "execution_count": 1,
   "metadata": {},
   "outputs": [
    {
     "name": "stdout",
     "output_type": "stream",
     "text": [
      "5\n"
     ]
    }
   ],
   "source": [
    "#remove duplicates\n",
    "nums = [0,0,1,1,1,2,2,3,3,4]\n",
    "i=0\n",
    "for num in nums:\n",
    "    if i<1 or num!=nums[i-1]:\n",
    "        nums[i]=num\n",
    "        i+=1\n",
    "print(i)"
   ]
  },
  {
   "cell_type": "markdown",
   "metadata": {},
   "source": [
    "## Best Time to Buy and Sell Stock - LeetCode"
   ]
  },
  {
   "cell_type": "code",
   "execution_count": 2,
   "metadata": {},
   "outputs": [
    {
     "data": {
      "text/plain": [
       "2"
      ]
     },
     "execution_count": 2,
     "metadata": {},
     "output_type": "execute_result"
    }
   ],
   "source": [
    "def maxProfit(prices):\n",
    "    n=len(prices)\n",
    "    profit=0\n",
    "    buy=prices[0]\n",
    "    for i in range(1,n):\n",
    "        if prices[i]<buy:\n",
    "            buy=prices[i]\n",
    "        elif prices[i]- buy > profit:\n",
    "            profit=prices[i]- buy\n",
    "    return profit\n",
    "    \n",
    "prices = [5,1,3,2] \n",
    "maxProfit(prices)"
   ]
  },
  {
   "cell_type": "markdown",
   "metadata": {},
   "source": [
    "## Longest Common Prefix - LeetCode\n"
   ]
  },
  {
   "cell_type": "code",
   "execution_count": 3,
   "metadata": {},
   "outputs": [
    {
     "name": "stdout",
     "output_type": "stream",
     "text": [
      "asd\n"
     ]
    }
   ],
   "source": [
    "#longest common prefix\n",
    "def lcp(strs):\n",
    "    pre=strs[0]\n",
    "    pre_len=len(strs[0])\n",
    "    for s in strs[1:]:\n",
    "        while pre!=s[0:pre_len]:\n",
    "            pre_len-=1\n",
    "            if pre_len==0:\n",
    "                return \"\"\n",
    "            \n",
    "            pre=pre[0:pre_len]\n",
    "    return pre\n",
    "\n",
    "st=[\"asdfg\",\"asdhffg\",\"asdfhebg\"]\n",
    "print(lcp(st))"
   ]
  },
  {
   "cell_type": "markdown",
   "metadata": {},
   "source": [
    "\n",
    "\n",
    "## Sqrt(x) - LeetCode"
   ]
  },
  {
   "cell_type": "code",
   "execution_count": 1,
   "metadata": {},
   "outputs": [
    {
     "name": "stdout",
     "output_type": "stream",
     "text": [
      "2\n"
     ]
    }
   ],
   "source": [
    "#squareroot\n",
    "def mySqrt(x):\n",
    "    left = 0\n",
    "    right = x\n",
    "    while left <= right:\n",
    "        mid = (left + right) // 2\n",
    "        if mid * mid < x:\n",
    "            left = mid + 1\n",
    "        elif mid * mid > x:\n",
    "            right = mid -1\n",
    "        else:\n",
    "            return mid\n",
    "        \n",
    "    return right\n",
    "\n",
    "print(mySqrt(4))"
   ]
  },
  {
   "cell_type": "markdown",
   "metadata": {},
   "source": [
    "## Climbing Stairs - LeetCode"
   ]
  },
  {
   "cell_type": "code",
   "execution_count": 5,
   "metadata": {},
   "outputs": [
    {
     "name": "stdout",
     "output_type": "stream",
     "text": [
      "8\n"
     ]
    }
   ],
   "source": [
    "#climbing Stairs\n",
    "def cs(n):\n",
    "    if n == 1:\n",
    "        return 1\n",
    "    elif n==2:\n",
    "        return 2\n",
    "    else:\n",
    "        one_step,two_step=1,2\n",
    "        for i in range(3,n+1):\n",
    "            result= one_step + two_step\n",
    "            one_step,two_step=two_step,result\n",
    "        return two_step  \n",
    "n=5\n",
    "print(cs(n))"
   ]
  },
  {
   "cell_type": "markdown",
   "metadata": {},
   "source": [
    "## Missing Number - LeetCode"
   ]
  },
  {
   "cell_type": "code",
   "execution_count": 6,
   "metadata": {},
   "outputs": [
    {
     "data": {
      "text/plain": [
       "2"
      ]
     },
     "execution_count": 6,
     "metadata": {},
     "output_type": "execute_result"
    }
   ],
   "source": [
    "#missing number\n",
    "def missing(nums):\n",
    "    n = len(nums)\n",
    "    sums = n*(n+1)/2\n",
    "    res = sum(nums)\n",
    "    d = sums - res\n",
    "    return int(d)\n",
    "            \n",
    "nums = [0,1,3]\n",
    "missing(nums)"
   ]
  },
  {
   "cell_type": "markdown",
   "metadata": {},
   "source": [
    "## Intersection of Two Arrays - LeetCode"
   ]
  },
  {
   "cell_type": "code",
   "execution_count": 7,
   "metadata": {},
   "outputs": [
    {
     "name": "stdout",
     "output_type": "stream",
     "text": [
      "{1: 3, 2: 2}\n",
      "[2]\n"
     ]
    }
   ],
   "source": [
    "#intersection\n",
    "def intersection(nums1,nums2):\n",
    "    nums1HashMap = {}\n",
    "    result = []\n",
    "    for n,i in enumerate(nums1):\n",
    "        nums1HashMap[i] = n\n",
    "    print(nums1HashMap)\n",
    "    for i in nums2:\n",
    "        if i in nums1HashMap:\n",
    "            if i not in result:\n",
    "                result.append(i)\n",
    "    return result\n",
    "x=[1,2,2,1]\n",
    "y=[2,2]\n",
    "print(intersection(x,y))"
   ]
  },
  {
   "cell_type": "markdown",
   "metadata": {},
   "source": [
    "## Type of Triangle - LeetCode"
   ]
  },
  {
   "cell_type": "code",
   "execution_count": 8,
   "metadata": {},
   "outputs": [
    {
     "name": "stdout",
     "output_type": "stream",
     "text": [
      "isosceles\n"
     ]
    }
   ],
   "source": [
    "#Types of Triangle\n",
    "def tt(nums):\n",
    "    if nums[0]==nums[1] and nums[1]==nums[2] and nums[2]==nums[0] :\n",
    "        return \"equilateral\"\n",
    "    elif ((nums[0]==nums[1]) or nums[1]==nums[2] or nums[0]==nums[2]) and((nums[0]+nums[1]>nums[2]) and (nums[1]+nums[2]>nums[0]) and (nums[0]+nums[2]>nums[1])):\n",
    "        return \"isosceles\"\n",
    "    elif (nums[0]+nums[1]>nums[2]) and (nums[1]+nums[2]>nums[0]) and (nums[0]+nums[2]>nums[1]) :\n",
    "        return \"scalene\"\n",
    "    else:\n",
    "        return \"none\"\n",
    "x=[3,5,3]\n",
    "print(tt(x))"
   ]
  },
  {
   "cell_type": "markdown",
   "metadata": {},
   "source": [
    "## Ant on the Boundary - LeetCode"
   ]
  },
  {
   "cell_type": "code",
   "execution_count": 9,
   "metadata": {},
   "outputs": [
    {
     "name": "stdout",
     "output_type": "stream",
     "text": [
      "1\n"
     ]
    }
   ],
   "source": [
    "#Ant on the Boundary\n",
    "def aob(nums):\n",
    "    sums=0\n",
    "    count=0\n",
    "    for i in nums:\n",
    "        sums+=i\n",
    "        if sums==0:\n",
    "            count+=1\n",
    "    return count\n",
    "x=[3,2,-5]\n",
    "print(aob(x))"
   ]
  },
  {
   "cell_type": "markdown",
   "metadata": {},
   "source": [
    "## Minimum Number Game - LeetCode"
   ]
  },
  {
   "cell_type": "code",
   "execution_count": 10,
   "metadata": {},
   "outputs": [
    {
     "name": "stdout",
     "output_type": "stream",
     "text": [
      "[3, 2, 5, 4]\n"
     ]
    }
   ],
   "source": [
    "#minimum number game\n",
    "def numberGame(nums):\n",
    "    nums.sort()\n",
    "    return [nums[i + 1] if i % 2 == 0\n",
    "            else nums[i - 1]\n",
    "            for i in range(len(nums))]\n",
    "nums = [5,4,2,3]\n",
    "print(numberGame(nums))"
   ]
  },
  {
   "cell_type": "markdown",
   "metadata": {},
   "source": [
    "## Group Anagrams - LeetCode"
   ]
  },
  {
   "cell_type": "code",
   "execution_count": 11,
   "metadata": {},
   "outputs": [
    {
     "name": "stdout",
     "output_type": "stream",
     "text": [
      "[['eat', 'tea', 'ate'], ['tan', 'nat'], ['bat']]\n"
     ]
    }
   ],
   "source": [
    "#Group Anagrams\n",
    "from collections import defaultdict\n",
    "def groupAnagrams(strs):\n",
    "    anagram_map = defaultdict(list)\n",
    "    \n",
    "    for word in strs:\n",
    "        sorted_word = ''.join(sorted(word))\n",
    "        anagram_map[sorted_word].append(word)\n",
    "    \n",
    "    return list(anagram_map.values())\n",
    "x=[\"eat\",\"tea\",\"tan\",\"ate\",\"nat\",\"bat\"]\n",
    "print(groupAnagrams(x))"
   ]
  },
  {
   "cell_type": "markdown",
   "metadata": {},
   "source": [
    "## 3Sum - LeetCode\n"
   ]
  },
  {
   "cell_type": "code",
   "execution_count": 12,
   "metadata": {},
   "outputs": [
    {
     "name": "stdout",
     "output_type": "stream",
     "text": [
      "[[-1, -1, 2], [-1, 0, 1]]\n"
     ]
    }
   ],
   "source": [
    "#3Sum\n",
    "def threeSum(nums):\n",
    "    res = []\n",
    "    nums.sort()\n",
    "    for i in range(len(nums)):\n",
    "        if i > 0 and nums[i] == nums[i-1]:\n",
    "            continue\n",
    "       \n",
    "        j = i + 1\n",
    "        k = len(nums) - 1\n",
    "        while j < k:\n",
    "            total = nums[i] + nums[j] + nums[k]\n",
    "            if total > 0:\n",
    "                k -= 1\n",
    "            elif total < 0:\n",
    "                j += 1\n",
    "            else:\n",
    "                res.append([nums[i], nums[j], nums[k]])\n",
    "                j += 1\n",
    "                while nums[j] == nums[j-1] and j < k:\n",
    "                    j += 1\n",
    "    \n",
    "    return res\n",
    "x=[-1,0,1,2,-1,-4]\n",
    "print(threeSum(x))"
   ]
  },
  {
   "cell_type": "markdown",
   "metadata": {},
   "source": [
    "## Kth Largest Element in an Array - LeetCode"
   ]
  },
  {
   "cell_type": "code",
   "execution_count": 13,
   "metadata": {},
   "outputs": [
    {
     "name": "stdout",
     "output_type": "stream",
     "text": [
      "23\n"
     ]
    }
   ],
   "source": [
    "#kth element\n",
    "import random\n",
    "def findKthLargest(nums,k):\n",
    "    def quick_select(nums,k):\n",
    "        pivot=random.choice(nums)\n",
    "        l,m,r=[],[],[]\n",
    "        for n in nums:\n",
    "            if n>pivot:\n",
    "                l.append(n)\n",
    "            elif n==pivot:\n",
    "                m.append(n)\n",
    "            else:\n",
    "                r.append(n)\n",
    "        if k<=len(l):\n",
    "            return quick_select(l,k)\n",
    "        elif k>len(l)+len(m):\n",
    "            return quick_select(r,k-len(l)-len(m))\n",
    "        else:\n",
    "            return pivot\n",
    "    return quick_select(nums,k)\n",
    "\n",
    "x=[23,45,6,7]\n",
    "k=2\n",
    "print(findKthLargest(x,k))"
   ]
  },
  {
   "cell_type": "markdown",
   "metadata": {},
   "source": [
    "## Median of Two Sorted Arrays - LeetCode"
   ]
  },
  {
   "cell_type": "code",
   "execution_count": 14,
   "metadata": {},
   "outputs": [
    {
     "name": "stdout",
     "output_type": "stream",
     "text": [
      "2.0\n"
     ]
    }
   ],
   "source": [
    "#median two sort array\n",
    "def findMedianSortedArrays(nums1, nums2):\n",
    "    merged = nums1 + nums2\n",
    "    merged.sort()\n",
    "    total = len(merged)\n",
    "    if total % 2 == 1:\n",
    "        return float(merged[total // 2])\n",
    "    else:\n",
    "        middle1 = merged[total // 2 - 1]\n",
    "        middle2 = merged[total // 2]\n",
    "        return (float(middle1) + float(middle2)) / 2.0\n",
    "nums1=[1,3]\n",
    "nums2=[2]\n",
    "print(findMedianSortedArrays(nums1,nums2))"
   ]
  },
  {
   "cell_type": "markdown",
   "metadata": {},
   "source": [
    "## Largest Number - LeetCode"
   ]
  },
  {
   "cell_type": "code",
   "execution_count": 15,
   "metadata": {},
   "outputs": [
    {
     "name": "stdout",
     "output_type": "stream",
     "text": [
      "210\n"
     ]
    }
   ],
   "source": [
    "#Largest Number\n",
    "def largestNumber(nums):\n",
    "    nums = [str(num) for num in nums]\n",
    "    nums.sort(key=lambda x: x*10, reverse=True)\n",
    "    if nums[0] == '0':\n",
    "        return '0'\n",
    "    return ''.join(nums)\n",
    "nums=[10,2]\n",
    "print(largestNumber(nums))\n"
   ]
  }
 ],
 "metadata": {
  "kernelspec": {
   "display_name": "Python 3",
   "language": "python",
   "name": "python3"
  },
  "language_info": {
   "codemirror_mode": {
    "name": "ipython",
    "version": 3
   },
   "file_extension": ".py",
   "mimetype": "text/x-python",
   "name": "python",
   "nbconvert_exporter": "python",
   "pygments_lexer": "ipython3",
   "version": "3.12.2"
  }
 },
 "nbformat": 4,
 "nbformat_minor": 2
}
