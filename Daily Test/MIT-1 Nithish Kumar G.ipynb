{
 "cells": [
  {
   "cell_type": "markdown",
   "metadata": {},
   "source": [
    "# MIT 1"
   ]
  },
  {
   "cell_type": "markdown",
   "metadata": {},
   "source": [
    "1 - Best Time to Buy and Sell Stock,You are given an array prices where prices[i] is the price of a given stock on the ith day.\n",
    "\n",
    "You want to maximize your profit by choosing a single day to buy one stock and choosing a different day in the future to sell that stock.\n",
    "\n",
    "Return the maximum profit you can achieve from this transaction. If you cannot achieve any profit, return 0.\n",
    "\n",
    " "
   ]
  },
  {
   "cell_type": "code",
   "execution_count": 35,
   "metadata": {},
   "outputs": [
    {
     "name": "stdout",
     "output_type": "stream",
     "text": [
      "5\n"
     ]
    }
   ],
   "source": [
    "# Example 1:\n",
    "\n",
    "# Input: prices = [7,1,5,3,6,4]\n",
    "# Output: 5\n",
    "# Explanation: Buy on day 2 (price = 1) and sell on day 5 (price = 6), profit = 6-1 = 5.\n",
    "# Note that buying on day 2 and selling on day 1 is not allowed because you must buy before you sell.\n",
    "# Example 2:\n",
    "\n",
    "# Input: prices = [7,6,4,3,1]\n",
    "# Output: 0\n",
    "# Explanation: In this case, no transactions are done and the max profit = 0.\n",
    " \n",
    "\n",
    "# Constraints:\n",
    "\n",
    "# 1 <= prices.length <= 105\n",
    "# 0 <= prices[i] <= 104\n",
    "\n",
    "#Time Complexity : O(n)\n",
    "#Space Complexity : O(1)\n",
    "def buystock(prices):\n",
    "    buy=prices[0]\n",
    "    profit=0\n",
    "    n=len(prices)\n",
    "    for i in range(1,n):\n",
    "        if prices[i]<buy:\n",
    "            buy=prices[i]\n",
    "        elif prices[i]-buy > profit:\n",
    "            profit=prices[i]-buy\n",
    "    return profit\n",
    "prices=[7,1,5,3,6,4]\n",
    "print(buystock(prices))"
   ]
  },
  {
   "cell_type": "markdown",
   "metadata": {},
   "source": [
    "2- Ant on the Boundary\n",
    "An ant is on a boundary. It sometimes goes left and sometimes right.\n",
    "\n",
    "You are given an array of non-zero integers nums. The ant starts reading nums from the first element of it to its end. At each step, it moves according to the value of the current element:\n",
    "\n",
    "If nums[i] < 0, it moves left by -nums[i] units.\n",
    "If nums[i] > 0, it moves right by nums[i] units.\n",
    "Return the number of times the ant returns to the boundary.\n",
    "\n",
    "Notes:\n",
    "\n",
    "There is an infinite space on both sides of the boundary.\n",
    "We check whether the ant is on the boundary only after it has moved |nums[i]| units. In other words, if the ant crosses the boundary during its movement, it does not count."
   ]
  },
  {
   "cell_type": "code",
   "execution_count": 47,
   "metadata": {},
   "outputs": [
    {
     "name": "stdout",
     "output_type": "stream",
     "text": [
      "1\n"
     ]
    }
   ],
   "source": [
    "# Example 1:\n",
    "\n",
    "# Input: nums = [2,3,-5]\n",
    "# Output: 1\n",
    "# Explanation: After the first step, the ant is 2 steps to the right of the boundary.\n",
    "# After the second step, the ant is 5 steps to the right of the boundary.\n",
    "# After the third step, the ant is on the boundary.\n",
    "# So the answer is 1.\n",
    "# Example 2:\n",
    "\n",
    "# Input: nums = [3,2,-3,-4]\n",
    "# Output: 0\n",
    "# Explanation: After the first step, the ant is 3 steps to the right of the boundary.\n",
    "# After the second step, the ant is 5 steps to the right of the boundary.\n",
    "# After the third step, the ant is 2 steps to the right of the boundary.\n",
    "# After the fourth step, the ant is 2 steps to the left of the boundary.\n",
    "# The ant never returned to the boundary, so the answer is 0.\n",
    " \n",
    "\n",
    "# Constraints:\n",
    "\n",
    "# 1 <= nums.length <= 100\n",
    "# -10 <= nums[i] <= 10\n",
    "# nums[i] != 0\n",
    "\n",
    "\n",
    "#Time Complexity : O(n)\n",
    "#Space Complexity : O(1)\n",
    "def antonB(nums):\n",
    "    sum,count=0,0\n",
    "    for i in nums:\n",
    "        sum+=i\n",
    "        if sum==0:\n",
    "            count+=1\n",
    "    return count\n",
    "\n",
    "nums=[3,2,-5]\n",
    "print(antonB(nums))"
   ]
  },
  {
   "cell_type": "markdown",
   "metadata": {},
   "source": [
    "3- 3Sum, \n",
    "Given an integer array nums, return all the triplets [nums[i], nums[j], nums[k]] such that i != j, i != k, and j != k, and nums[i] + nums[j] + nums[k] == 0.\n",
    "\n",
    "Notice that the solution set must not contain duplicate triplets."
   ]
  },
  {
   "cell_type": "code",
   "execution_count": 33,
   "metadata": {},
   "outputs": [
    {
     "name": "stdout",
     "output_type": "stream",
     "text": [
      "[[-1, -1, 2], [-1, 0, 1]]\n"
     ]
    }
   ],
   "source": [
    "# Example 1:\n",
    "\n",
    "# Input: nums = [-1,0,1,2,-1,-4]\n",
    "# Output: [[-1,-1,2],[-1,0,1]]\n",
    "# Explanation: \n",
    "# nums[0] + nums[1] + nums[2] = (-1) + 0 + 1 = 0.\n",
    "# nums[1] + nums[2] + nums[4] = 0 + 1 + (-1) = 0.\n",
    "# nums[0] + nums[3] + nums[4] = (-1) + 2 + (-1) = 0.\n",
    "# The distinct triplets are [-1,0,1] and [-1,-1,2].\n",
    "# Notice that the order of the output and the order of the triplets does not matter.\n",
    "# Example 2:\n",
    "\n",
    "# Input: nums = [0,1,1]\n",
    "# Output: []\n",
    "# Explanation: The only possible triplet does not sum up to 0.\n",
    "# Example 3:\n",
    "\n",
    "# Input: nums = [0,0,0]\n",
    "# Output: [[0,0,0]]\n",
    "# Explanation: The only possible triplet sums up to 0.\n",
    " \n",
    "\n",
    "# Constraints:\n",
    "\n",
    "# 3 <= nums.length <= 3000\n",
    "# -105 <= nums[i] <= 105\n",
    "#3Sum\n",
    "\n",
    "\n",
    "#Time Complexity : O(n^2)\n",
    "#Space Complexity : O(n)\n",
    "def threeSum(nums):\n",
    "    res = []\n",
    "    nums.sort()\n",
    "    for i in range(len(nums)):\n",
    "        if i > 0 and nums[i] == nums[i-1]:\n",
    "            continue \n",
    "        j = i + 1\n",
    "        k = len(nums) - 1\n",
    "        while j < k:\n",
    "            total = nums[i] + nums[j] + nums[k]\n",
    "            if total > 0:\n",
    "                k -= 1\n",
    "            elif total < 0:\n",
    "                j += 1\n",
    "            else:\n",
    "                res.append([nums[i], nums[j], nums[k]])\n",
    "                j += 1\n",
    "                while nums[j] == nums[j-1] and j < k:\n",
    "                    j += 1\n",
    "    \n",
    "    return res\n",
    "x=[-1,0,1,2,-1,-4]\n",
    "print(threeSum(x))"
   ]
  },
  {
   "cell_type": "markdown",
   "metadata": {},
   "source": [
    "4 - Largest Number, Given a list of non-negative integers nums, arrange them such that they form the largest number and return it.\n",
    "\n",
    "Since the result may be very large, so you need to return a string instead of an integer."
   ]
  },
  {
   "cell_type": "code",
   "execution_count": 31,
   "metadata": {},
   "outputs": [
    {
     "name": "stdout",
     "output_type": "stream",
     "text": [
      "9534330\n"
     ]
    }
   ],
   "source": [
    "# Example 1:\n",
    "\n",
    "# Input: nums = [10,2]\n",
    "# Output: \"210\"\n",
    "# Example 2:\n",
    "\n",
    "# Input: nums = [3,30,34,5,9]\n",
    "# Output: \"9534330\"\n",
    " \n",
    "\n",
    "# Constraints:\n",
    "\n",
    "# 1 <= nums.length <= 100\n",
    "# 0 <= nums[i] <= 109\n",
    "\n",
    "#Time Complexity  : O(n)\n",
    "#Space Complexity : O(n)\n",
    "def largestNumber(nums):\n",
    "    nums = [str(num) for num in nums]\n",
    "    nums.sort(key=lambda x: x*10, reverse=True)\n",
    "    if nums[0] == '0':\n",
    "        return '0'\n",
    "    return ''.join(nums)\n",
    "nums=[3,30,34,5,9]\n",
    "print(largestNumber(nums))"
   ]
  },
  {
   "cell_type": "markdown",
   "metadata": {},
   "source": [
    "5 - Median of Two Sorted Arrays, Given two sorted arrays nums1 and nums2 of size m and n respectively, return the median of the two sorted arrays."
   ]
  },
  {
   "cell_type": "code",
   "execution_count": 49,
   "metadata": {},
   "outputs": [
    {
     "name": "stdout",
     "output_type": "stream",
     "text": [
      "2.0\n"
     ]
    }
   ],
   "source": [
    "# Example 1:\n",
    "\n",
    "# Input: nums1 = [1,3], nums2 = [2]\n",
    "# Output: 2.00000\n",
    "# Explanation: merged array = [1,2,3] and median is 2.\n",
    "# Example 2:\n",
    "\n",
    "# Input: nums1 = [1,2], nums2 = [3,4]\n",
    "# Output: 2.50000\n",
    "# Explanation: merged array = [1,2,3,4] and median is (2 + 3) / 2 = 2.5.\n",
    " \n",
    "\n",
    "# Constraints:\n",
    "\n",
    "# nums1.length == m\n",
    "# nums2.length == n\n",
    "# 0 <= m <= 1000\n",
    "# 0 <= n <= 1000\n",
    "# 1 <= m + n <= 2000\n",
    "# -106 <= nums1[i], nums2[i] <= 106\n",
    "\n",
    "\n",
    "#Time Complexity  : O(n)\n",
    "#Space Complexity : O(1)\n",
    "def medianTwoSortedArray(nums1,nums2):\n",
    "    nums1.extend(nums2)\n",
    "    nums1.sort()\n",
    "    n=len(nums1)\n",
    "    mid=n//2\n",
    "    if n%2!=0:\n",
    "        return float(nums1[mid])\n",
    "    else:\n",
    "        res=(nums1[mid]+nums1[mid-1])/2\n",
    "        return res\n",
    "nums1=[1,2]\n",
    "nums2=[3]\n",
    "print(medianTwoSortedArray(nums1,nums2))\n",
    "\n",
    "\n",
    "\n",
    "\n"
   ]
  }
 ],
 "metadata": {
  "kernelspec": {
   "display_name": "Python 3",
   "language": "python",
   "name": "python3"
  },
  "language_info": {
   "codemirror_mode": {
    "name": "ipython",
    "version": 3
   },
   "file_extension": ".py",
   "mimetype": "text/x-python",
   "name": "python",
   "nbconvert_exporter": "python",
   "pygments_lexer": "ipython3",
   "version": "3.12.2"
  }
 },
 "nbformat": 4,
 "nbformat_minor": 2
}
