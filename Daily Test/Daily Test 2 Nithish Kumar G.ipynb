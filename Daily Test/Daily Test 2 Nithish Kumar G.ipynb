{
 "cells": [
  {
   "cell_type": "markdown",
   "metadata": {},
   "source": [
    "# DAILY TEST 2 "
   ]
  },
  {
   "cell_type": "markdown",
   "metadata": {},
   "source": [
    "1- Python | Sum of number digits in List,  Using loop + str() "
   ]
  },
  {
   "cell_type": "code",
   "execution_count": 16,
   "metadata": {},
   "outputs": [
    {
     "name": "stdout",
     "output_type": "stream",
     "text": [
      "11\n"
     ]
    }
   ],
   "source": [
    "num=1235\n",
    "num2=str(num)\n",
    "sum=0\n",
    "for i in num2:\n",
    "    sum+=int(i)\n",
    "print(sum)"
   ]
  },
  {
   "cell_type": "markdown",
   "metadata": {},
   "source": [
    "2- Python program to find second largest number in a list"
   ]
  },
  {
   "cell_type": "code",
   "execution_count": 10,
   "metadata": {},
   "outputs": [
    {
     "name": "stdout",
     "output_type": "stream",
     "text": [
      "87\n"
     ]
    }
   ],
   "source": [
    "x=[23,76,87,100]\n",
    "m=max(x)\n",
    "x.remove(m)\n",
    "print(max(x))"
   ]
  },
  {
   "cell_type": "markdown",
   "metadata": {},
   "source": [
    "3- Python | Print an Inverted Star Pattern"
   ]
  },
  {
   "cell_type": "code",
   "execution_count": 13,
   "metadata": {},
   "outputs": [
    {
     "name": "stdout",
     "output_type": "stream",
     "text": [
      " *****\n",
      "  ****\n",
      "   ***\n",
      "    **\n",
      "     *\n"
     ]
    }
   ],
   "source": [
    "#    *****\n",
    "#     ****\n",
    "#      ***\n",
    "#       **\n",
    "#        *\n",
    "rows=5\n",
    "\n",
    "for i in range(0,rows):\n",
    "    print(\" \"*i,\"*\"*(rows-i))\n",
    "    "
   ]
  },
  {
   "cell_type": "markdown",
   "metadata": {},
   "source": [
    "4- Program for Insertion Sort [12, 11, 13, 5, 6]"
   ]
  },
  {
   "cell_type": "code",
   "execution_count": 3,
   "metadata": {},
   "outputs": [
    {
     "name": "stdout",
     "output_type": "stream",
     "text": [
      "[5, 6, 11, 12, 13]\n"
     ]
    }
   ],
   "source": [
    "x=[12,11,13,5,6]\n",
    "def inseertionSort(arr):\n",
    "    n=len(arr)\n",
    "    for i in range(n):\n",
    "        insert=arr[i]\n",
    "        j=i-1\n",
    "        while j>=0 and arr[j]>insert:\n",
    "            arr[j+1]=arr[j]\n",
    "            j-=1\n",
    "        arr[j+1]=insert\n",
    "    return arr\n",
    "print(inseertionSort(x))\n"
   ]
  },
  {
   "cell_type": "markdown",
   "metadata": {},
   "source": [
    "5 - Python program to print even length words in a string"
   ]
  },
  {
   "cell_type": "code",
   "execution_count": 17,
   "metadata": {},
   "outputs": [
    {
     "name": "stdout",
     "output_type": "stream",
     "text": [
      "aaigsiemn"
     ]
    }
   ],
   "source": [
    "s=\"amazing spiderman\"\n",
    "for i in range(0,len(s)+1,2):\n",
    "    print(s[i],end=\"\")"
   ]
  },
  {
   "cell_type": "code",
   "execution_count": 1,
   "metadata": {},
   "outputs": [
    {
     "name": "stdout",
     "output_type": "stream",
     "text": [
      "Hi\n",
      "everyone\n"
     ]
    }
   ],
   "source": [
    "txt='Hi hello everyone'\n",
    "txt1=txt.split()\n",
    "for i in txt1:\n",
    "    if len(i)%2==0:\n",
    "        print(i)"
   ]
  },
  {
   "cell_type": "markdown",
   "metadata": {},
   "source": [
    "6- Python – Least Frequent Character in String"
   ]
  },
  {
   "cell_type": "code",
   "execution_count": 19,
   "metadata": {},
   "outputs": [
    {
     "name": "stdout",
     "output_type": "stream",
     "text": [
      "Least Frequent Character in the String is  m\n"
     ]
    }
   ],
   "source": [
    "ni=\"moon\"\n",
    "lit={}\n",
    "for i in ni:\n",
    "    lit.update({i:ni.count(i)})\n",
    "print(\"Least Frequent Character in the String is \", min(lit))\n"
   ]
  }
 ],
 "metadata": {
  "kernelspec": {
   "display_name": "Python 3",
   "language": "python",
   "name": "python3"
  },
  "language_info": {
   "codemirror_mode": {
    "name": "ipython",
    "version": 3
   },
   "file_extension": ".py",
   "mimetype": "text/x-python",
   "name": "python",
   "nbconvert_exporter": "python",
   "pygments_lexer": "ipython3",
   "version": "3.12.2"
  }
 },
 "nbformat": 4,
 "nbformat_minor": 2
}
