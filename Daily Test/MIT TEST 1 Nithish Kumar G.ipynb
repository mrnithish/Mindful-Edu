{
 "cells": [
  {
   "cell_type": "markdown",
   "metadata": {},
   "source": [
    "# MIT Test"
   ]
  },
  {
   "cell_type": "markdown",
   "metadata": {},
   "source": [
    "1- Minimum Window Substring.Given two strings s and t of lengths m and n respectively, return the minimum window \n",
    "substring\n",
    " of s such that every character in t (including duplicates) is included in the window. If there is no such substring, return the empty string \"\"."
   ]
  },
  {
   "cell_type": "code",
   "execution_count": 8,
   "metadata": {},
   "outputs": [
    {
     "name": "stdout",
     "output_type": "stream",
     "text": [
      "BANC\n"
     ]
    }
   ],
   "source": [
    "# Input: s = \"ADOBECODEBANC\", t = \"ABC\"\n",
    "# Output: \"BANC\"\n",
    "# Explanation: The minimum window substring \"BANC\" includes 'A', 'B', and 'C' from string t.\n",
    "# Input: s = \"a\", t = \"a\"\n",
    "# Output: \"a\"\n",
    "# Explanation: The entire string s is the minimum window.\n",
    "# Input: s = \"a\", t = \"aa\"\n",
    "# Output: \"\"\n",
    "# Explanation: Both 'a's from t must be included in the window.\n",
    "# Since the largest window of s only has one 'a', return empty string.\n",
    "\n",
    "# Worst Case : O(n^2)\n",
    "def minimumWindow(s,t):\n",
    "    substring=[s[i:j] for i in range(len(s)) for j in range(i+1,len(s)+1)]\n",
    "    li={}\n",
    "    result=[]\n",
    "    mini=1000\n",
    "    res=\"\"\n",
    "    for i in substring:\n",
    "        x=len(set(i).intersection(set(t)))\n",
    "        li.update({i:x})\n",
    "    if len(li)!=None:\n",
    "        for key,values in li.items():\n",
    "            if values==len(t):\n",
    "                result.append(key)\n",
    "        for i in result:\n",
    "            if len(i)<mini:\n",
    "                res=i\n",
    "    print(res)\n",
    "s=\"ADOBECODEBANC\"\n",
    "t = \"ABC\"\n",
    "minimumWindow(s,t)\n",
    "\n",
    "\n",
    "\n",
    "\n",
    "\n",
    " "
   ]
  },
  {
   "cell_type": "markdown",
   "metadata": {},
   "source": [
    "2-  Palindromic Substrings\n",
    "\n",
    "Given a string s, return the number of palindromic substrings in it.\n",
    "\n",
    "A string is a palindrome when it reads the same backward as forward.\n",
    "\n",
    "A substring is a contiguous sequence of characters within the string."
   ]
  },
  {
   "cell_type": "code",
   "execution_count": 5,
   "metadata": {},
   "outputs": [
    {
     "name": "stdout",
     "output_type": "stream",
     "text": [
      "['a', 'a', 'a', 'aa', 'aa', 'aaa']\n"
     ]
    }
   ],
   "source": [
    "# Example 1:\n",
    "\n",
    "# Input: s = \"abc\"\n",
    "# Output: 3\n",
    "# Explanation: Three palindromic strings: \"a\", \"b\", \"c\".\n",
    "# Example 2:\n",
    "\n",
    "# Input: s = \"aaa\"\n",
    "# Output: 6\n",
    "# Explanation: Six palindromic strings: \"a\", \"a\", \"a\", \"aa\", \"aa\", \"aaa\".\n",
    "\n",
    "# Worst Case : O(n)\n",
    "s=\"aaa\"\n",
    "substring=[s[i:j] for i in range(len(s)) for j in range(i+1,len(s)+1)]\n",
    "result=[]\n",
    "for item in substring:\n",
    "    if item == item[::-1]:\n",
    "        result.append(item)\n",
    "result.sort()\n",
    "print(result)"
   ]
  },
  {
   "cell_type": "markdown",
   "metadata": {},
   "source": [
    "3- Merge Sorted Array\n",
    "\n",
    "You are given two integer arrays nums1 and nums2, sorted in non-decreasing order, and two integers m and n, representing the number of elements in nums1 and nums2 respectively.\n",
    "\n",
    "Merge nums1 and nums2 into a single array sorted in non-decreasing order.\n",
    "\n",
    "The final sorted array should not be returned by the function, but instead be stored inside the array nums1. To accommodate this, nums1 has a length of m + n, where the first m elements denote the elements that should be merged, and the last n elements are set to 0 and should be ignored. nums2 has a length of n"
   ]
  },
  {
   "cell_type": "code",
   "execution_count": 7,
   "metadata": {},
   "outputs": [
    {
     "name": "stdout",
     "output_type": "stream",
     "text": [
      "[1]\n"
     ]
    }
   ],
   "source": [
    "# Example 1:\n",
    "\n",
    "# Input: nums1 = [1,2,3,0,0,0], m = 3, nums2 = [2,5,6], n = 3\n",
    "# Output: [1,2,2,3,5,6]\n",
    "# Explanation: The arrays we are merging are [1,2,3] and [2,5,6].\n",
    "# The result of the merge is [1,2,2,3,5,6] with the underlined elements coming from nums1.\n",
    "# Example 2:\n",
    "\n",
    "# Input: nums1 = [1], m = 1, nums2 = [], n = 0\n",
    "# Output: [1]\n",
    "# Explanation: The arrays we are merging are [1] and [].\n",
    "# The result of the merge is [1].\n",
    "# Example 3:\n",
    "\n",
    "# Input: nums1 = [0], m = 0, nums2 = [1], n = 1\n",
    "# Output: [1]\n",
    "# Explanation: The arrays we are merging are [] and [1].\n",
    "# The result of the merge is [1].\n",
    "# Note that because m = 0, there are no elements in nums1. The 0 is only there to ensure the merge result can fit in nums1.\n",
    "\n",
    "# Worst Case : O(n^2)\n",
    "nums1 = [0]\n",
    "m = 0\n",
    "nums2 = [1]\n",
    "n = 1\n",
    "x=[]\n",
    "\n",
    "for i in range(m):\n",
    "    x.append(nums1[i])\n",
    "for j in range(n):\n",
    "    x.append(nums2[j])\n",
    "\n",
    "nums1=x\n",
    "n=len(nums1)\n",
    "for i in range(n-1):\n",
    "    for j in range(n-1):\n",
    "        if nums1[j]>nums1[j+1]:\n",
    "            nums1[j],nums1[j+1]=nums1[j+1],nums1[j]\n",
    "print(nums1)\n"
   ]
  },
  {
   "cell_type": "markdown",
   "metadata": {},
   "source": [
    "4- Daily Temperatures\n",
    "\n",
    "Hint\n",
    "Given an array of integers temperatures represents the daily temperatures, return an array answer such that answer[i] is the number of days you have to wait after the ith day to get a warmer temperature. If there is no future day for which this is possible, keep answer[i] == 0 instead."
   ]
  },
  {
   "cell_type": "code",
   "execution_count": 27,
   "metadata": {},
   "outputs": [
    {
     "name": "stdout",
     "output_type": "stream",
     "text": [
      "[1, 1, 1, 0]\n"
     ]
    }
   ],
   "source": [
    "# Example 1:\n",
    "\n",
    "# Input: temperatures = [73,74,75,71,69,72,76,73]\n",
    "# Output: [1,1,4,2,1,1,0,0]\n",
    "# Example 2:\n",
    "\n",
    "# Input: temperatures = [30,40,50,60]\n",
    "# Output: [1,1,1,0]\n",
    "\n",
    "# Example 3:\n",
    "# Input: temperatures = [30,60,90]\n",
    "# Output: [1,1,0]\n",
    "\n",
    "# Worst Case : O(n)\n",
    "t = [30,40,50,60]\n",
    "res=[]\n",
    "n=len(t)\n",
    "for i in range(n):\n",
    "    if i==n:\n",
    "        break\n",
    "    if t[i] in range(65,76):\n",
    "        r=abs(t[i]-t[i+1])\n",
    "        res.append(r)\n",
    "    elif t[i] < 59:\n",
    "        res.append(1)\n",
    "    else:\n",
    "        res.append(0)\n",
    "print(res)\n"
   ]
  },
  {
   "cell_type": "markdown",
   "metadata": {},
   "source": [
    "5- Number of Visible People in a Queue\n",
    "\n",
    "Hint\n",
    "There are n people standing in a queue, and they numbered from 0 to n - 1 in left to right order. You are given an array heights of distinct integers where heights[i] represents the height of the ith person.\n",
    "\n",
    "A person can see another person to their right in the queue if everybody in between is shorter than both of them. More formally, the ith person can see the jth person if i < j and min(heights[i], heights[j]) > max(heights[i+1], heights[i+2], ..., heights[j-1]).\n",
    "\n",
    "Return an array answer of length n where answer[i] is the number of people the ith person can see to their right in the queue."
   ]
  },
  {
   "cell_type": "code",
   "execution_count": 42,
   "metadata": {},
   "outputs": [
    {
     "name": "stdout",
     "output_type": "stream",
     "text": [
      "[1, 0, 0, 0, 1, 1]\n"
     ]
    }
   ],
   "source": [
    "# Input: heights = [10,6,8,5,11,9]\n",
    "# Output: [3,1,2,1,1,0]\n",
    "# Explanation:\n",
    "# Person 0 can see person 1, 2, and 4.\n",
    "# Person 1 can see person 2.\n",
    "# Person 2 can see person 3 and 4.\n",
    "# Person 3 can see person 4.\n",
    "# Person 4 can see person 5.\n",
    "# Person 5 can see no one since nobody is to the right of them.\n",
    "# Example 2:\n",
    "# Input: heights = [5,1,2,3,10]\n",
    "# Output: [4,1,1,1,0]\n",
    "\n",
    "\n",
    "#O(n^2)\n",
    "h = [10,6,8,5,11,9]\n",
    "re=[]\n",
    "for i in range(len(h)):\n",
    "    for j in range(i+1,len(h)):\n",
    "        current_height=h[i]\n",
    "        next_height=h[j]\n",
    "        count=0\n",
    "        if current_height > next_height:\n",
    "            count+=1\n",
    "            current_height=next_height\n",
    "    re.append(count)\n",
    "print(re)\n",
    "\n",
    "\n",
    "\n"
   ]
  }
 ],
 "metadata": {
  "kernelspec": {
   "display_name": "Python 3",
   "language": "python",
   "name": "python3"
  },
  "language_info": {
   "codemirror_mode": {
    "name": "ipython",
    "version": 3
   },
   "file_extension": ".py",
   "mimetype": "text/x-python",
   "name": "python",
   "nbconvert_exporter": "python",
   "pygments_lexer": "ipython3",
   "version": "3.12.2"
  }
 },
 "nbformat": 4,
 "nbformat_minor": 2
}
