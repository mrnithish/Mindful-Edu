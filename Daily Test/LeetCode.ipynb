{
 "cells": [
  {
   "cell_type": "markdown",
   "metadata": {},
   "source": [
    "# 3Sum\n",
    "Given an integer array nums, return all the triplets [nums[i], nums[j], nums[k]] such that i != j, i != k, and j != k, and nums[i] + nums[j] + nums[k] == 0.\n",
    "Notice that the solution set must not contain duplicate triplets.\n",
    "\n",
    "Example 1:\n",
    "\n",
    "Input: nums = [-1,0,1,2,-1,-4]\n",
    "Output: [[-1,-1,2],[-1,0,1]]\n",
    "Explanation: \n",
    "nums[0] + nums[1] + nums[2] = (-1) + 0 + 1 = 0.\n",
    "nums[1] + nums[2] + nums[4] = 0 + 1 + (-1) = 0.\n",
    "nums[0] + nums[3] + nums[4] = (-1) + 2 + (-1) = 0.\n",
    "The distinct triplets are [-1,0,1] and [-1,-1,2].\n",
    "Notice that the order of the output and the order of the triplets does not matter.\n",
    "Example 2:\n",
    "\n",
    "Input: nums = [0,1,1]\n",
    "Output: []\n",
    "Explanation: The only possible triplet does not sum up to 0.\n",
    "Example 3:\n",
    "\n",
    "Input: nums = [0,0,0]\n",
    "Output: [[0,0,0]]\n",
    "Explanation: The only possible triplet sums up to 0.\n",
    " \n",
    "\n",
    "Constraints:\n",
    "\n",
    "3 <= nums.length <= 3000\n",
    "-105 <= nums[i] <= 105"
   ]
  },
  {
   "cell_type": "code",
   "execution_count": 1,
   "metadata": {},
   "outputs": [
    {
     "data": {
      "text/plain": [
       "[[-1, 0, 1], [-1, -1, 2]]"
      ]
     },
     "execution_count": 1,
     "metadata": {},
     "output_type": "execute_result"
    }
   ],
   "source": [
    "#Time Limit Exceeded\n",
    "class Solution:\n",
    "    def threeSum(self, nums):\n",
    "        result=[]\n",
    "        n=len(nums)\n",
    "        for i in range(n):\n",
    "            for j in range(i+1,n):\n",
    "                for k in range(j+1,n):\n",
    "                    sum=nums[i]+nums[j]+nums[k]\n",
    "                    if i!=j and i!=k and j!=k and sum==0:\n",
    "                        x=[nums[i],nums[j],nums[k]]\n",
    "                        x.sort()\n",
    "                        if x not in result:\n",
    "                            result.append(x)\n",
    "        return result\n",
    "\n",
    "nums=[-1,0,1,2,-1,-4]  \n",
    "obj=Solution()\n",
    "obj.threeSum(nums)\n"
   ]
  },
  {
   "cell_type": "markdown",
   "metadata": {},
   "source": [
    "## 121. Best Time to Buy and Sell Stock\n",
    "Easy\n",
    "Topics\n",
    "Companies\n",
    "You are given an array prices where prices[i] is the price of a given stock on the ith day.\n",
    "\n",
    "You want to maximize your profit by choosing a single day to buy one stock and choosing a different day in the future to sell that stock.\n",
    "\n",
    "Return the maximum profit you can achieve from this transaction. If you cannot achieve any profit, return 0.\n",
    "\n",
    " \n",
    "\n",
    "Example 1:\n",
    "\n",
    "Input: prices = [7,1,5,3,6,4]\n",
    "Output: 5\n",
    "Explanation: Buy on day 2 (price = 1) and sell on day 5 (price = 6), profit = 6-1 = 5.\n",
    "Note that buying on day 2 and selling on day 1 is not allowed because you must buy before you sell.\n",
    "Example 2:\n",
    "\n",
    "Input: prices = [7,6,4,3,1]\n",
    "Output: 0\n",
    "Explanation: In this case, no transactions are done and the max profit = 0.\n",
    "\n",
    "Constraints:\n",
    "\n",
    "1 <= prices.length <= 105\n",
    "\n",
    "\n",
    "0 <= prices[i] <= 104"
   ]
  },
  {
   "cell_type": "code",
   "execution_count": 14,
   "metadata": {},
   "outputs": [
    {
     "name": "stdout",
     "output_type": "stream",
     "text": [
      "5\n"
     ]
    }
   ],
   "source": [
    "#Run Time Error\n",
    "def besttime(arr):\n",
    "    n=len(arr)\n",
    "    buy=min(arr)\n",
    "    buy_index=0\n",
    "    for i,j in enumerate(arr):\n",
    "        if j== buy:\n",
    "            buy_index=i\n",
    "    if buy_index==n-1:\n",
    "        print(\"0\")\n",
    "    else:\n",
    "        arr2=[arr[i] for i in range(buy_index,n)]\n",
    "        sell=max(arr2)\n",
    "        print(abs(sell-buy))\n",
    "\n",
    "prices = [7,1,5,3,6,4]\n",
    "besttime(prices)"
   ]
  },
  {
   "cell_type": "code",
   "execution_count": 17,
   "metadata": {},
   "outputs": [
    {
     "name": "stdout",
     "output_type": "stream",
     "text": [
      "5\n"
     ]
    }
   ],
   "source": [
    "def besttime(prices):\n",
    "    n=len(prices)\n",
    "    profit=0\n",
    "    buy=prices[0]\n",
    "    for i in range(1,n):\n",
    "        if prices[i]<buy:\n",
    "            buy=prices[i]\n",
    "        elif prices[i]- buy > profit:\n",
    "            profit=prices[i]- buy\n",
    "    return profit\n",
    "\n",
    "prices = [7,1,5,3,6,4]\n",
    "print(besttime(prices))"
   ]
  },
  {
   "cell_type": "code",
   "execution_count": 27,
   "metadata": {},
   "outputs": [
    {
     "name": "stdout",
     "output_type": "stream",
     "text": [
      "5\n",
      "True\n"
     ]
    }
   ],
   "source": [
    "def besttime(prices):\n",
    "        mi, ma = float('inf'), 0\n",
    "        for p in prices:\n",
    "            if p < mi:\n",
    "                mi = p\n",
    "            elif p - mi > ma:\n",
    "                ma = p - mi\n",
    "        return ma\n",
    "\n",
    "prices = [7,1,5,3,6,4]\n",
    "print(besttime(prices))\n",
    "mi=float('inf')\n",
    "print(mi>=40)"
   ]
  },
  {
   "cell_type": "markdown",
   "metadata": {},
   "source": [
    "## 205. Isomorphic Strings\n",
    "\n",
    "Given two strings s and t, determine if they are isomorphic.\n",
    "\n",
    "Two strings s and t are isomorphic if the characters in s can be replaced to get t.\n",
    "\n",
    "All occurrences of a character must be replaced with another character while preserving the order of characters. No two characters may map to the same character, but a character may map to itself.\n",
    "\n",
    " \n",
    "\n",
    "Example 1:\n",
    "\n",
    "Input: s = \"egg\", t = \"add\"\n",
    "\n",
    "Output: true\n",
    "\n",
    "Example 2:\n",
    "\n",
    "Input: s = \"foo\", t = \"bar\"\n",
    "\n",
    "Output: false\n",
    "\n",
    "Example 3:\n",
    "\n",
    "Input: s = \"paper\", t = \"title\"\n",
    "\n",
    "Output: true"
   ]
  },
  {
   "cell_type": "code",
   "execution_count": 11,
   "metadata": {},
   "outputs": [
    {
     "name": "stdout",
     "output_type": "stream",
     "text": [
      "True\n"
     ]
    }
   ],
   "source": [
    "def iso(s,t):\n",
    "    sdi=[]\n",
    "    tdi=[]\n",
    "    for i in s:\n",
    "        sdi.append(s.count(i))\n",
    "    for j in t:\n",
    "        tdi.append(t.count(j))\n",
    "    if sdi == tdi:\n",
    "        return True\n",
    "    return False\n",
    "\n",
    "s = \"paper\"\n",
    "t = \"title\"\n",
    "print(iso(s,t))"
   ]
  },
  {
   "cell_type": "code",
   "execution_count": 3,
   "metadata": {},
   "outputs": [
    {
     "name": "stdout",
     "output_type": "stream",
     "text": [
      "2\n",
      "5\n",
      "0\n",
      "1\n"
     ]
    }
   ],
   "source": [
    "nums=[2,3,-5]\n",
    "sums=0\n",
    "count=0\n",
    "for i in nums:\n",
    "    sums+=i\n",
    "    print(sums)\n",
    "    if sums==0:\n",
    "        count+=1\n",
    "print(count)"
   ]
  },
  {
   "cell_type": "markdown",
   "metadata": {},
   "source": [
    "# Permutations"
   ]
  },
  {
   "cell_type": "code",
   "execution_count": null,
   "metadata": {},
   "outputs": [],
   "source": [
    "def permutations(string,i=0):\n",
    "    if i==len(string):\n",
    "        print(\"\".join(string))\n",
    "    for j in range(i,len(string)):\n",
    "        \n",
    "        words=[c for c in string]\n",
    "        words[i],words[j]=words[j],words[i]\n",
    "        \n",
    "        permutations(words,i+1)\n",
    "        \n",
    "print(permutations(\"epa\"))"
   ]
  }
 ],
 "metadata": {
  "kernelspec": {
   "display_name": "Python 3",
   "language": "python",
   "name": "python3"
  },
  "language_info": {
   "codemirror_mode": {
    "name": "ipython",
    "version": 3
   },
   "file_extension": ".py",
   "mimetype": "text/x-python",
   "name": "python",
   "nbconvert_exporter": "python",
   "pygments_lexer": "ipython3",
   "version": "3.12.2"
  }
 },
 "nbformat": 4,
 "nbformat_minor": 2
}
