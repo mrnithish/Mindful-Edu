{
 "cells": [
  {
   "cell_type": "markdown",
   "metadata": {},
   "source": [
    "# Daily Test 4"
   ]
  },
  {
   "cell_type": "markdown",
   "metadata": {},
   "source": [
    "1-Write a Python function to find the kth smallest element in an unsorted list of integers.\n"
   ]
  },
  {
   "cell_type": "code",
   "execution_count": 2,
   "metadata": {},
   "outputs": [
    {
     "name": "stdout",
     "output_type": "stream",
     "text": [
      "7\n"
     ]
    }
   ],
   "source": [
    "# Description: Given an unsorted list of integers, the task is to find the kth smallest element efficiently.\n",
    "# Sample Input/Output:\n",
    "# Input: [7, 10, 4, 3, 20, 15], k = 3\n",
    "# Output: 7\n",
    "arr=[7, 10, 4, 3, 20, 15]\n",
    "k = 3\n",
    "arr.sort()\n",
    "print(arr[k-1])"
   ]
  },
  {
   "cell_type": "markdown",
   "metadata": {},
   "source": [
    "2- Write a Python function to implement insertion sort algorithm to sort a list of integers."
   ]
  },
  {
   "cell_type": "code",
   "execution_count": 2,
   "metadata": {},
   "outputs": [
    {
     "data": {
      "text/plain": [
       "[5, 6, 7, 11, 12, 13]"
      ]
     },
     "execution_count": 2,
     "metadata": {},
     "output_type": "execute_result"
    }
   ],
   "source": [
    "# Description: Merge sort is a divide-and-conquer algorithm that recursively divides the list into halves until each sublist contains only one element, then merges them back together in sorted order.\n",
    "# Sample Input/Output:\n",
    "# Input: [12, 11, 13, 5, 6, 7]\n",
    "# Output: [5, 6, 7, 11, 12, 13]\n",
    "def insertionSort(arr):\n",
    "    n=len(arr)\n",
    "    for i in range(n):\n",
    "        insert_element=arr[i]\n",
    "        j=i-1\n",
    "        while  j>=0 and  arr[j]>insert_element:\n",
    "            arr[j+1]=arr[j]\n",
    "            j-=1\n",
    "        arr[j+1]=insert_element\n",
    "    return arr\n",
    "x = [12, 11, 13, 5, 6, 7]\n",
    "insertionSort(x)\n"
   ]
  },
  {
   "cell_type": "markdown",
   "metadata": {},
   "source": [
    "3-  Write a Python function to find the frequency of each word in a given text, excluding common stop words like 'the', 'is', 'and', etc."
   ]
  },
  {
   "cell_type": "code",
   "execution_count": 68,
   "metadata": {},
   "outputs": [
    {
     "name": "stdout",
     "output_type": "stream",
     "text": [
      "{'quick': 1, 'brown': 1, 'fox': 1, 'jumps': 1, 'over': 2, 'lazy': 1, 'dog': 1}\n"
     ]
    }
   ],
   "source": [
    "# Description: The task is to count the occurrences of each word in the text excluding commonly occurring stop words.\n",
    "# Sample Input/Output:\n",
    "# Input: \"The quick brown fox jumps over the lazy dog\"\n",
    "# Output: {'quick': 1, 'brown': 1, 'fox': 1, 'jumps': 1, 'over': 1, 'lazy': 1, 'dog': 1}\n",
    "x=\"The quick brown fox jumps over the lazy dog over\"\n",
    "lix=x.split(\" \")\n",
    "di={}\n",
    "for i in lix:\n",
    "    if i.lower()==\"is\" or i.lower()==\"the\" or i.lower()==\"and\":\n",
    "        pass\n",
    "    else:\n",
    "        di.update({i:lix.count(i)})\n",
    "print(di)"
   ]
  },
  {
   "cell_type": "markdown",
   "metadata": {},
   "source": [
    "4- Write a Python program to print a diamond pattern of asterisks of a given size n"
   ]
  },
  {
   "cell_type": "code",
   "execution_count": 1,
   "metadata": {},
   "outputs": [
    {
     "name": "stdout",
     "output_type": "stream",
     "text": [
      "      *\n",
      "    * * *\n",
      "  * * * * *\n",
      "    * * *\n",
      "      *\n"
     ]
    }
   ],
   "source": [
    "# Description: The task is to print a diamond pattern where the number of rows is equal to n.\n",
    "# Sample Input/Output:\n",
    "# Input: n = 5\n",
    "# Output:\n",
    "#     *\n",
    "#    ***\n",
    "#   *****\n",
    "#    ***\n",
    "#     *\n",
    "\n",
    "n=5\n",
    "for i in range(1,n+1,2):\n",
    "    print(\" \"*(n-i),\" *\"*i)\n",
    "for i in range(n-2,0,-2):\n",
    "    print(\" \"*(n-i),\" *\"*i)"
   ]
  },
  {
   "cell_type": "code",
   "execution_count": 5,
   "metadata": {},
   "outputs": [
    {
     "name": "stdout",
     "output_type": "stream",
     "text": [
      "      *\n",
      "    * * *\n",
      "  * * * * *\n",
      "    * * *\n",
      "      *\n"
     ]
    }
   ],
   "source": [
    "n=5\n",
    "for i in range(1,n+1,2):\n",
    "    print(\" \"*(n-i),\" *\"*i)\n",
    "for i in range(n-2,0,-2):\n",
    "    print(\" \"*(n-i),\" *\"*i)"
   ]
  },
  {
   "cell_type": "markdown",
   "metadata": {},
   "source": [
    "5- Write a Python function to find the longest palindromic substring in a given string."
   ]
  },
  {
   "cell_type": "code",
   "execution_count": 9,
   "metadata": {},
   "outputs": [],
   "source": [
    "# Description: A palindrome is a word, phrase, number, or other sequence of characters that reads the same forward and backward. The task is to find the longest palindromic substring in the given string.\n",
    "# Sample Input/Output:\n",
    "# Input: \"babad\"\n",
    "# Output: \"bab\" or \"aba\"\n",
    "\n",
    "\n"
   ]
  },
  {
   "cell_type": "code",
   "execution_count": 11,
   "metadata": {},
   "outputs": [
    {
     "name": "stdout",
     "output_type": "stream",
     "text": [
      "bab\n"
     ]
    }
   ],
   "source": [
    "x=\"babad\"\n",
    "sub=[x[i:j] for i in range(len(x)) for  j in range(i+1,len(x)+1)]\n",
    "res=\"\"\n",
    "for i in sub:\n",
    "    if i==i[::-1] and len(res)<len(i):\n",
    "        res=i\n",
    "print(res)"
   ]
  },
  {
   "cell_type": "code",
   "execution_count": 1,
   "metadata": {},
   "outputs": [
    {
     "name": "stdout",
     "output_type": "stream",
     "text": [
      "['b', 'ba', 'bab', 'baba', 'babad', 'a', 'ab', 'aba', 'abad', 'b', 'ba', 'bad', 'a', 'ad', 'd']\n"
     ]
    }
   ],
   "source": [
    "x=\"babad\"\n",
    "sub=[x[i:j] for i in range(len(x)) for j in range(i+1,len(x)+1)]\n",
    "print(sub)"
   ]
  },
  {
   "cell_type": "markdown",
   "metadata": {},
   "source": [
    "6- Write a Python program to find all possible combinations of k numbers out of 1...n.\n"
   ]
  },
  {
   "cell_type": "code",
   "execution_count": 42,
   "metadata": {},
   "outputs": [
    {
     "name": "stdout",
     "output_type": "stream",
     "text": [
      "[[1, 2], [1, 3], [1, 4], [2, 3], [2, 4], [3, 4]]\n"
     ]
    }
   ],
   "source": [
    "# Description: Given two integers n and k, return all possible combinations of k numbers out of 1...n.\n",
    "# Sample Input/Output:\n",
    "# Input: n = 4, k = 2\n",
    "# Output: [[1, 2], [1, 3], [1, 4], [2, 3], [2, 4], [3, 4]]\n",
    "n=4\n",
    "k=2\n",
    "li=[]\n",
    "fli=[]\n",
    "for  i in range(1,n+1):\n",
    "    li.append(i)\n",
    "for i in range(n):\n",
    "    for j in range(i+1,n):\n",
    "        fli.append([li[i],li[j]])\n",
    "print(fli)"
   ]
  }
 ],
 "metadata": {
  "kernelspec": {
   "display_name": "Python 3",
   "language": "python",
   "name": "python3"
  },
  "language_info": {
   "codemirror_mode": {
    "name": "ipython",
    "version": 3
   },
   "file_extension": ".py",
   "mimetype": "text/x-python",
   "name": "python",
   "nbconvert_exporter": "python",
   "pygments_lexer": "ipython3",
   "version": "3.12.2"
  }
 },
 "nbformat": 4,
 "nbformat_minor": 2
}
