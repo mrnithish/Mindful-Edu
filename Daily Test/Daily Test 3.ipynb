{
 "cells": [
  {
   "cell_type": "markdown",
   "metadata": {},
   "source": [
    "# Daily Test 3"
   ]
  },
  {
   "cell_type": "markdown",
   "metadata": {},
   "source": [
    "1 - Given an integer array nums, return true if any value appears at least twice in the array, and return false if every element is distinct.\n",
    "\n",
    " "
   ]
  },
  {
   "cell_type": "code",
   "execution_count": 3,
   "metadata": {},
   "outputs": [
    {
     "name": "stdout",
     "output_type": "stream",
     "text": [
      "True\n"
     ]
    }
   ],
   "source": [
    "# Example 1:\n",
    "\n",
    "# Input: nums = [1,2,3,1]\n",
    "# Output: true\n",
    "# Example 2:\n",
    "\n",
    "# Input: nums = [1,2,3,4]\n",
    "# Output: false\n",
    "# Example 3:\n",
    "\n",
    "# Input: nums = [1,1,1,3,3,4,3,2,4,2]\n",
    "# Output: true\n",
    "\n",
    "def duplicateArray(nums):\n",
    "    print(len(nums)!=len(set(nums)))\n",
    "nums = [1,2,3,1]\n",
    "duplicateArray(nums)\n"
   ]
  },
  {
   "cell_type": "markdown",
   "metadata": {},
   "source": [
    "2 - Given two strings s and t, return true if t is an anagram of s, and false otherwise.\n",
    "\n",
    "An Anagram is a word or phrase formed by rearranging the letters of a different word or phrase, typically using all the original letters exactly once.\n",
    "\n",
    " "
   ]
  },
  {
   "cell_type": "code",
   "execution_count": 8,
   "metadata": {},
   "outputs": [
    {
     "name": "stdout",
     "output_type": "stream",
     "text": [
      "False\n"
     ]
    }
   ],
   "source": [
    "# Example 1:\n",
    "\n",
    "# Input: s = \"anagram\", t = \"nagaram\"\n",
    "# Output: true\n",
    "# Example 2:\n",
    "\n",
    "# Input: s = \"rat\", t = \"car\"\n",
    "# Output: false\n",
    "\n",
    "s,t = \"rat\",\"car\"\n",
    "list1=list(s.lower())\n",
    "list1.sort()\n",
    "list2=list(t.lower())\n",
    "list2.sort()\n",
    "print(list1==list2)"
   ]
  },
  {
   "cell_type": "markdown",
   "metadata": {},
   "source": [
    "3 - Given a List. The task is to find the sum and average of the list. The average of the list is defined as the sum of the elements divided by the number of elements."
   ]
  },
  {
   "cell_type": "code",
   "execution_count": 10,
   "metadata": {},
   "outputs": [
    {
     "name": "stdout",
     "output_type": "stream",
     "text": [
      "Sum :  286\n",
      "Avg :  35.75\n"
     ]
    }
   ],
   "source": [
    "# Input: [4, 5, 1, 2, 9, 7, 10, 8]\n",
    "# Output:\n",
    "# sum =  46\n",
    "# average =  5.75\n",
    "\n",
    "# Input: [15, 9, 55, 41, 35, 20, 62, 49]\n",
    "# Output:\n",
    "# sum =  286\n",
    "# average =  35.75\n",
    "\n",
    "x=[15, 9, 55, 41, 35, 20, 62, 49]\n",
    "sum=0\n",
    "for i in x:\n",
    "    sum+=i\n",
    "print(\"Sum : \",sum)\n",
    "print(\"Avg : \",sum/len(x))"
   ]
  },
  {
   "cell_type": "markdown",
   "metadata": {},
   "source": [
    "4 - Given the string, the task is to generate the same string using the random combination of special character, numbers, and alphabets."
   ]
  },
  {
   "cell_type": "code",
   "execution_count": 34,
   "metadata": {},
   "outputs": [],
   "source": [
    "# Input : GFG\n",
    "# Output :n4W\n",
    "#         mK7\n",
    "#         k1x\n",
    "#         q;;, !g\n",
    "#         .\n",
    "#         .\n",
    "#         .\n",
    "#         .\n",
    "#         .\n",
    "#         GF,\n",
    "#         GFf\n",
    "#         GFp\n",
    "#         GFG\n",
    "\n",
    "# Target matched after 167 iterations\n"
   ]
  },
  {
   "cell_type": "markdown",
   "metadata": {},
   "source": [
    "5- Given an array of N strings, find the longest common prefix among all strings present in the array."
   ]
  },
  {
   "cell_type": "code",
   "execution_count": 19,
   "metadata": {},
   "outputs": [
    {
     "name": "stdout",
     "output_type": "stream",
     "text": [
      "4\n",
      "g\n",
      "e\n",
      "e\n",
      "k\n",
      "Longest common prefix:  gee\n"
     ]
    }
   ],
   "source": [
    "# Input:\n",
    "# N = 4\n",
    "# arr[] = {geeksforgeeks, geeks, geek,\n",
    "#          geezer}\n",
    "# Output: gee\n",
    "# Explanation: \"gee\" is the longest common\n",
    "# prefix in all the given strings.\n",
    "def lcp(arr):\n",
    "    if not arr:\n",
    "        return \"\"\n",
    "    mini = min(len(s) for s in arr)\n",
    "    print(mini)\n",
    "    for i in range(mini):\n",
    "        char = arr[0][i]\n",
    "        print(char)\n",
    "        for string in arr[1:]:\n",
    "            if string[i] != char:\n",
    "                return arr[0][:i]\n",
    "    return arr[0][:mini]\n",
    "\n",
    "x= ['geeksforgeeks', 'geeks', 'geek','geezer']\n",
    "print(\"Longest common prefix: \", lcp(x))"
   ]
  },
  {
   "cell_type": "markdown",
   "metadata": {},
   "source": [
    "6- Given an array a of size N which contains elements from 0 to N-1, you need to find all the elements occurring more than once in the given array. Return the answer in ascending order. If no such element is found, return list containing [-1]. \n",
    "\n",
    "Note: The extra space is only for the array to be returned. Try and perform all operations within the provided array. "
   ]
  },
  {
   "cell_type": "code",
   "execution_count": 5,
   "metadata": {},
   "outputs": [
    {
     "name": "stdout",
     "output_type": "stream",
     "text": [
      "Elements occurring more than once: [1, 3, 6]\n"
     ]
    }
   ],
   "source": [
    "# Input:\n",
    "# N = 4\n",
    "# a[] = {0,3,1,2}\n",
    "# Output: \n",
    "# -1\n",
    "# Explanation: \n",
    "# There is no repeating element in the array. Therefore output is -1.\n",
    "\n",
    "def find_duplicates(arr):\n",
    "    duplicates = []\n",
    "    for i in range(len(arr)):\n",
    "        index = abs(arr[i])\n",
    "        if arr[index] < 0:\n",
    "            duplicates.append(index)\n",
    "        arr[index] = -arr[index]\n",
    "    if not duplicates:\n",
    "        return [-1]\n",
    "    \n",
    "    return sorted(duplicates)\n",
    "\n",
    "arr = [1, 2, 3, 1, 3, 6, 6]\n",
    "print(\"Elements occurring more than once:\", find_duplicates(arr))\n",
    "\n",
    "\n",
    "\n"
   ]
  }
 ],
 "metadata": {
  "kernelspec": {
   "display_name": "Python 3",
   "language": "python",
   "name": "python3"
  },
  "language_info": {
   "codemirror_mode": {
    "name": "ipython",
    "version": 3
   },
   "file_extension": ".py",
   "mimetype": "text/x-python",
   "name": "python",
   "nbconvert_exporter": "python",
   "pygments_lexer": "ipython3",
   "version": "3.12.2"
  }
 },
 "nbformat": 4,
 "nbformat_minor": 2
}
