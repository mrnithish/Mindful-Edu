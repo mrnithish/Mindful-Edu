{
 "cells": [
  {
   "cell_type": "markdown",
   "metadata": {},
   "source": [
    "# Daily Test 6"
   ]
  },
  {
   "cell_type": "markdown",
   "metadata": {},
   "source": [
    "1 - Find the missing and repeating number"
   ]
  },
  {
   "cell_type": "markdown",
   "metadata": {},
   "source": [
    "Given an unsorted array of size n. Array elements are in the range of 1 to n. One number from set {1, 2, …n} is missing and one number occurs twice in the array. Find these two numbers."
   ]
  },
  {
   "cell_type": "code",
   "execution_count": 6,
   "metadata": {},
   "outputs": [
    {
     "name": "stdout",
     "output_type": "stream",
     "text": [
      "Missing: 2 Repeating: 3\n"
     ]
    }
   ],
   "source": [
    "# Input: arr[] = {3, 1, 3}\n",
    "# Output: Missing = 2, Repeating = 3\n",
    "# Explanation: In the array, 2 is missing and 3 occurs twice \n",
    "\n",
    "# Input: arr[] = {4, 3, 6, 2, 1, 1}\n",
    "# Output: Missing = 5, Repeating = 1\n",
    "# Miss and repeating\n",
    "arr = [3,1,3]\n",
    "arr.sort()\n",
    "repeat = 0\n",
    "miss = 0\n",
    "for i in range(len(arr)):\n",
    "    if i == len(arr)-1:\n",
    "        break\n",
    "    if arr[i] == arr[i+1]:\n",
    "        repeat = arr[i]\n",
    "    if arr[i+1] - arr[i]!= 1:\n",
    "        miss = i+1\n",
    "print(\"Missing:\",miss,\"Repeating:\",repeat)\n"
   ]
  },
  {
   "cell_type": "markdown",
   "metadata": {},
   "source": [
    "2- Sort an array in wave form\n"
   ]
  },
  {
   "cell_type": "markdown",
   "metadata": {},
   "source": [
    "Given an unsorted array of integers, sort the array into a wave array. An array arr[0..n-1] is sorted in wave form if:\n",
    "arr[0] >= arr[1] <= arr[2] >= arr[3] <= arr[4] >= ….."
   ]
  },
  {
   "cell_type": "code",
   "execution_count": 15,
   "metadata": {},
   "outputs": [
    {
     "name": "stdout",
     "output_type": "stream",
     "text": [
      "[10, 5, 6, 2, 20, 3, 100, 80]\n"
     ]
    }
   ],
   "source": [
    "# Input:  arr[] = {10, 5, 6, 3, 2, 20, 100, 80}\n",
    "# Output: arr[] = {10, 5, 6, 2, 20, 3, 100, 80} \n",
    "# Explanation: \n",
    "# here you can see {10, 5, 6, 2, 20, 3, 100, 80} first element is larger than the second and the same thing is repeated again and again. large element – small element-large element -small element and so on .it can be small element-larger element – small element-large element -small element too. all you need to maintain is the up-down fashion which represents a wave. there can be multiple answers.\n",
    "\n",
    "# Input: arr[] = {20, 10, 8, 6, 4, 2}\n",
    "# Output: arr[] = {20, 8, 10, 4, 6, 2}\n",
    "\n",
    "\n",
    "def sort_wave_array(arr):\n",
    "    n = len(arr)\n",
    "    for i in range(0, n - 1, 2):\n",
    "        if i > 0 and arr[i] < arr[i - 1]:\n",
    "            arr[i], arr[i - 1] = arr[i - 1], arr[i]\n",
    "        if i < n - 1 and arr[i] < arr[i + 1]:\n",
    "            arr[i], arr[i + 1] = arr[i + 1], arr[i]\n",
    "\n",
    "arr = [10, 5, 6, 3, 2, 20, 100, 80]\n",
    "sort_wave_array(arr)\n",
    "print(arr)\n"
   ]
  },
  {
   "cell_type": "markdown",
   "metadata": {},
   "source": [
    "3 - Mirror characters of a string"
   ]
  },
  {
   "cell_type": "markdown",
   "metadata": {},
   "source": [
    "Given a string and a number N, we need to mirror the characters from N-th position up to the length of the string in the alphabetical order. In mirror operation, we change ‘a’ to ‘z’, ‘b’ to ‘y’, and so on."
   ]
  },
  {
   "cell_type": "code",
   "execution_count": 7,
   "metadata": {},
   "outputs": [
    {
     "name": "stdout",
     "output_type": "stream",
     "text": [
      "paizwlc\n"
     ]
    }
   ],
   "source": [
    "# Input : N = 3\n",
    "#         paradox\n",
    "# Output : paizwlc\n",
    "# We mirror characters from position 3 to end.\n",
    "\n",
    "def mirror_characters(string, N):\n",
    "    result = []\n",
    "    for i, char in enumerate(string):\n",
    "        if i >= N - 1:\n",
    "            if char.islower():\n",
    "                mirrored_char = chr(ord('a') + ord('z') - ord(char))\n",
    "            elif char.isupper():\n",
    "                mirrored_char = chr(ord('A') + ord('Z') - ord(char))\n",
    "            else:\n",
    "                mirrored_char = char\n",
    "            result.append(mirrored_char)\n",
    "        else:\n",
    "            result.append(char)\n",
    "    return ''.join(result)\n",
    "\n",
    "N = 3\n",
    "string = \"paradox\"\n",
    "print(mirror_characters(string, N))\n",
    "\n",
    "\n",
    "# Input : N = 6\n",
    "#         pneumonia\n",
    "# Output : pnefnlmrz"
   ]
  },
  {
   "cell_type": "markdown",
   "metadata": {},
   "source": [
    "4 - Minimum Swaps for Bracket Balancing"
   ]
  },
  {
   "cell_type": "markdown",
   "metadata": {},
   "source": [
    "You are given a string of 2N characters consisting of N ‘[‘ brackets and N ‘]’ brackets. A string is considered balanced if it can be represented in the form S2[S1] where S1 and S2 are balanced strings. We can make an unbalanced string balanced by swapping adjacent characters. Calculate the minimum number of swaps necessary to make a string balanced."
   ]
  },
  {
   "cell_type": "code",
   "execution_count": 9,
   "metadata": {},
   "outputs": [
    {
     "name": "stdout",
     "output_type": "stream",
     "text": [
      "2\n"
     ]
    }
   ],
   "source": [
    "# Input  : []][][\n",
    "# Output : 2\n",
    "# First swap: Position 3 and 4\n",
    "# [][]][\n",
    "# Second swap: Position 5 and 6\n",
    "# [][][]\n",
    "# Input  : [[][]]\n",
    "# Output : 0\n",
    "# The string is already balanced.\n",
    "\n",
    "def swap_count(s):\n",
    "\tans = 0\n",
    "\tcount = 0\n",
    "\tn = len(s)\n",
    "\tfor i in range(n):\n",
    "\t\tif s[i] == '[':\n",
    "\t\t\tcount += 1\n",
    "\t\telse:\n",
    "\t\t\tcount -= 1\n",
    "\t\tif count < 0:\n",
    "\t\t\tj = i + 1\n",
    "\t\t\twhile j < n:\n",
    "\t\t\t\tif s[j] == '[':\n",
    "\t\t\t\t\tbreak\n",
    "\t\t\t\tj += 1\n",
    "\t\t\tans += j - i\n",
    "\t\t\t# count = 1\n",
    "\t\t\t# ch = s[j]\n",
    "\t\t\t# for k in range(j, i, -1):\n",
    "\t\t\t# \ts[k] = s[k - 1]\n",
    "\t\t\t# s[i] = ch\n",
    "\treturn ans\n",
    "\n",
    "\n",
    "s = \"[]][][\"\n",
    "print(swap_count(list(s)))\n",
    "\n",
    "\n",
    "\n"
   ]
  }
 ],
 "metadata": {
  "kernelspec": {
   "display_name": "Python 3",
   "language": "python",
   "name": "python3"
  },
  "language_info": {
   "codemirror_mode": {
    "name": "ipython",
    "version": 3
   },
   "file_extension": ".py",
   "mimetype": "text/x-python",
   "name": "python",
   "nbconvert_exporter": "python",
   "pygments_lexer": "ipython3",
   "version": "3.12.2"
  }
 },
 "nbformat": 4,
 "nbformat_minor": 2
}
