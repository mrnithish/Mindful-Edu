{
 "cells": [
  {
   "cell_type": "markdown",
   "metadata": {},
   "source": [
    "# Daily Test 5\n"
   ]
  },
  {
   "cell_type": "markdown",
   "metadata": {},
   "source": [
    "1 - Given an array nums with n objects colored red, white, or blue, sort them in-place so that objects of the same color are adjacent, with the colors in the order red, white, and blue.\n",
    "\n",
    "We will use the integers 0, 1, and 2 to represent the color red, white, and blue, respectively.\n",
    "\n",
    "You must solve this problem without using the library's sort function."
   ]
  },
  {
   "cell_type": "code",
   "execution_count": 15,
   "metadata": {},
   "outputs": [
    {
     "name": "stdout",
     "output_type": "stream",
     "text": [
      "[0, 0, 1, 1, 1, 2, 2]\n"
     ]
    }
   ],
   "source": [
    "#O(n^2)\n",
    "def sortColors(a):\n",
    "    n = len(a)\n",
    "    for i in range(n-1):\n",
    "        min = i\n",
    "        for j in range(i+1,n):\n",
    "            if a[j]<a[min]:\n",
    "                a[j],a[min] = a[min],a[j]\n",
    "    return a\n",
    "\n",
    "nums = [2,1,0, 2, 1, 1, 0]\n",
    "\n",
    "sortColors(nums)\n",
    "print(nums)"
   ]
  },
  {
   "cell_type": "markdown",
   "metadata": {},
   "source": [
    "<!-- Example 1:\n",
    "\n",
    "Input: nums = [2,0,2,1,1,0]\n",
    "Output: [0,0,1,1,2,2]\n",
    "Example 2:\n",
    "\n",
    "Input: nums = [2,0,1]\n",
    "Output: [0,1,2] -->"
   ]
  },
  {
   "cell_type": "markdown",
   "metadata": {},
   "source": [
    "2- Given an integer array nums and an integer val, remove all occurrences of val in nums in-place. The order of the elements may be changed. Then return the number of elements in nums which are not equal to val.\n",
    "\n",
    "Consider the number of elements in nums which are not equal to val be k, to get accepted, you need to do the following things:\n",
    "\n",
    "Change the array nums such that the first k elements of nums contain the elements which are not equal to val. The remaining elements of nums are not important as well as the size of nums.\n",
    "Return k."
   ]
  },
  {
   "cell_type": "code",
   "execution_count": 17,
   "metadata": {},
   "outputs": [
    {
     "name": "stdout",
     "output_type": "stream",
     "text": [
      "5 [0, 1, 3, 0, 4]\n"
     ]
    }
   ],
   "source": [
    "# Example 1:\n",
    "\n",
    "# Input: nums = [3,2,2,3], val = 3\n",
    "# Output: 2, nums = [2,2,_,_]\n",
    "# Explanation: Your function should return k = 2, with the first two elements of nums being 2.\n",
    "# It does not matter what you leave beyond the returned k (hence they are underscores).\n",
    "# Example 2:\n",
    "\n",
    "# Input: nums = [0,1,2,2,3,0,4,2], val = 2\n",
    "# Output: 5, nums = [0,1,4,0,3,_,_,_]\n",
    "# Explanation: Your function should return k = 5, with the first five elements of nums containing 0, 0, 1, 3, and 4.\n",
    "# Note that the five elements can be returned in any order.\n",
    "# It does not matter what you leave beyond the returned k (hence they are underscores).\n",
    "\n",
    "\n",
    "#O(n)\n",
    "def removeElement(nums, val):\n",
    "    j = 0\n",
    "    for i in range(len(nums)):\n",
    "        if nums[i] != val:\n",
    "            nums[j] = nums[i]\n",
    "            j += 1\n",
    "    return j\n",
    "\n",
    "nums = [0,1,2,2,3,0,4,2]\n",
    "val = 2\n",
    "\n",
    "result = removeElement(nums, val)\n",
    "print(result, nums[:result])"
   ]
  },
  {
   "cell_type": "markdown",
   "metadata": {},
   "source": [
    "3- Count subarrays with equal number of 1’s and 0’s\n",
    "Given an array arr[] of size n containing 0 and 1 only. The problem is to count the subarrays having an equal number of 0’s and 1’s."
   ]
  },
  {
   "cell_type": "code",
   "execution_count": 7,
   "metadata": {},
   "outputs": [
    {
     "name": "stdout",
     "output_type": "stream",
     "text": [
      "8\n"
     ]
    }
   ],
   "source": [
    "# Input: arr[] = {1, 0, 0, 1, 0, 1, 1}\n",
    "# Output: 8\n",
    "# Explanation: The index range for the 8 sub-arrays are: (0, 1), (2, 3), (0, 3), (3, 4), (4, 5)(2, 5), (0, 5), (1, 6)\n",
    "\n",
    "# Input: arr = { 1, 0, 0, 1, 1, 0, 0, 1}\n",
    "# Output: 12\n",
    "\n",
    "#O(n)\n",
    "def count_subarrays(arr):\n",
    "    count = 0\n",
    "    n = len(arr)\n",
    "    freq = {0: 1}\n",
    "    diff = 0\n",
    "    for i in range(n):\n",
    "        diff += 1 if arr[i] == 1 else -1\n",
    "        if diff in freq:\n",
    "            count += freq[diff]\n",
    "        freq[diff] = freq.get(diff, 0) + 1\n",
    "\n",
    "    return count\n",
    "\n",
    "arr = [1, 0, 0, 1, 0, 1, 1]\n",
    "print( count_subarrays(arr))\n"
   ]
  },
  {
   "cell_type": "markdown",
   "metadata": {},
   "source": [
    "4- Longest Consecutive Subsequence, Given an array of integers, find the length of the longest sub-sequence such that elements in the subsequence are consecutive integers, the consecutive numbers can be in any order. "
   ]
  },
  {
   "cell_type": "code",
   "execution_count": 10,
   "metadata": {},
   "outputs": [
    {
     "name": "stdout",
     "output_type": "stream",
     "text": [
      "4\n"
     ]
    }
   ],
   "source": [
    "# Input: arr[] = {1, 9, 3, 10, 4, 20, 2}\n",
    "# Output: 4\n",
    "# Explanation: The subsequence 1, 3, 4, 2 is the longest subsequence of consecutive elements\n",
    "\n",
    "# Input: arr[] = {36, 41, 56, 35, 44, 33, 34, 92, 43, 32, 42}\n",
    "# Output: 5\n",
    "# Explanation: The subsequence 36, 35, 33, 34, 32 is the longest subsequence of consecutive elements.\n",
    "\n",
    "# O(n^2)\n",
    "#longest consecutive elements\n",
    "def lcs(arr):\n",
    "    num_set = set(arr)\n",
    "    max_length = 0\n",
    "    for num in arr:\n",
    "        if num - 1 not in num_set:\n",
    "            current_num = num\n",
    "            current_length = 1\n",
    "            while current_num + 1 in num_set:\n",
    "                current_num += 1\n",
    "                current_length += 1\n",
    "            max_length = max(max_length, current_length)\n",
    "\n",
    "    return max_length\n",
    "\n",
    "arr = [1, 9, 3, 10, 4, 20, 2]\n",
    "print(lcs(arr))\n"
   ]
  }
 ],
 "metadata": {
  "kernelspec": {
   "display_name": "Python 3",
   "language": "python",
   "name": "python3"
  },
  "language_info": {
   "codemirror_mode": {
    "name": "ipython",
    "version": 3
   },
   "file_extension": ".py",
   "mimetype": "text/x-python",
   "name": "python",
   "nbconvert_exporter": "python",
   "pygments_lexer": "ipython3",
   "version": "3.12.2"
  }
 },
 "nbformat": 4,
 "nbformat_minor": 2
}
