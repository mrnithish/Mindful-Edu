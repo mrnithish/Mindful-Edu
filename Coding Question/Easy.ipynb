{
 "cells": [
  {
   "cell_type": "markdown",
   "metadata": {},
   "source": [
    "# Subarray sum equals to K"
   ]
  },
  {
   "cell_type": "code",
   "execution_count": 4,
   "metadata": {},
   "outputs": [
    {
     "name": "stdout",
     "output_type": "stream",
     "text": [
      "[1]\n",
      "[1, 2]\n",
      "[1, 2, 3]\n",
      "[2]\n",
      "[2, 3]\n",
      "[3]\n",
      "1\n"
     ]
    }
   ],
   "source": [
    "def suma(nums,k):\n",
    "    n=len(nums)\n",
    "    count=0\n",
    "    for i in range(n):\n",
    "        for j in range(i+1,n+1):\n",
    "            print(nums[i:j])\n",
    "            if sum(nums[i:j])==k:\n",
    "                count+=1\n",
    "    print(count)\n",
    "nums=[1,2,3]\n",
    "k=2\n",
    "suma(nums,k)"
   ]
  },
  {
   "cell_type": "code",
   "execution_count": 18,
   "metadata": {},
   "outputs": [
    {
     "name": "stdout",
     "output_type": "stream",
     "text": [
      "2\n"
     ]
    }
   ],
   "source": [
    "def suma(nums,k):\n",
    "    res=0\n",
    "    curSum=0\n",
    "    prefixSum={0:1}\n",
    "    for i in nums:\n",
    "        curSum+=i\n",
    "        diff=curSum-k\n",
    "        res+=prefixSum.get(diff,0)\n",
    "        prefixSum[curSum]=1+prefixSum.get(curSum,0)\n",
    "    return res\n",
    "nums=[1,2,3]\n",
    "k=3\n",
    "print(suma(nums,k))"
   ]
  },
  {
   "cell_type": "markdown",
   "metadata": {},
   "source": [
    "# Sliding Window"
   ]
  },
  {
   "cell_type": "code",
   "execution_count": 13,
   "metadata": {},
   "outputs": [
    {
     "name": "stdout",
     "output_type": "stream",
     "text": [
      "ei\n",
      "id\n",
      "db\n",
      "ba\n",
      "ao\n",
      "oo\n",
      "oo\n"
     ]
    }
   ],
   "source": [
    "s = \"eidbaooo\"\n",
    "def sliding_window(elements, window_size):\n",
    "    \n",
    "    if len(elements) <= window_size:\n",
    "       return elements\n",
    "    for i in range(len(elements)- window_size + 1):\n",
    "        #print(i, i+window_size)\n",
    "        print(elements[i:i+window_size])\n",
    "sliding_window(s, 2)"
   ]
  },
  {
   "cell_type": "markdown",
   "metadata": {},
   "source": [
    "# Two Pointer"
   ]
  },
  {
   "cell_type": "code",
   "execution_count": null,
   "metadata": {},
   "outputs": [],
   "source": [
    "def isPairSum(A: List[int], N: int, X: int) -> bool:\n",
    "    # represents first pointer\n",
    "    i = 0\n",
    "\n",
    "    # represents second pointer\n",
    "    j = N - 1\n",
    "\n",
    "    while i < j:\n",
    "        # If we find a pair\n",
    "        if A[i] + A[j] == X:\n",
    "            return True\n",
    "\n",
    "        # If sum of elements at current\n",
    "        # pointers is less, we move towards\n",
    "        # higher values by doing i++\n",
    "        elif A[i] + A[j] < X:\n",
    "            i += 1\n",
    "\n",
    "        # If sum of elements at current\n",
    "        # pointers is more, we move towards\n",
    "        # lower values by doing j--\n",
    "        else:\n",
    "            j -= 1\n",
    "\n",
    "    return False\n",
    "\n"
   ]
  },
  {
   "cell_type": "markdown",
   "metadata": {},
   "source": [
    "# Group Anagrams"
   ]
  },
  {
   "cell_type": "code",
   "execution_count": 29,
   "metadata": {},
   "outputs": [
    {
     "name": "stdout",
     "output_type": "stream",
     "text": [
      "dict_items([('aet', ['eat', 'tea', 'ate']), ('ant', ['tan', 'nat']), ('abt', ['bat'])])\n"
     ]
    }
   ],
   "source": [
    "from collections import defaultdict\n",
    "\n",
    "def gana(strs):\n",
    "        anagram_map = defaultdict(list)\n",
    "        \n",
    "        for word in strs:\n",
    "            sorted_word = ''.join(sorted(word))\n",
    "            anagram_map[sorted_word].append(word)\n",
    "        \n",
    "        print(anagram_map.items())\n",
    "\n",
    "strs=[\"eat\",\"tea\",\"tan\",\"ate\",\"nat\",\"bat\"]\n",
    "gana(strs)"
   ]
  },
  {
   "cell_type": "markdown",
   "metadata": {},
   "source": [
    "28. Find the Index of the First Occurrence in a String"
   ]
  },
  {
   "cell_type": "code",
   "execution_count": null,
   "metadata": {},
   "outputs": [],
   "source": [
    "class Solution:\n",
    "    def strStr(self, haystack: str, needle: str) -> int:\n",
    "        m=len(haystack)\n",
    "        n=len(needle)\n",
    "        if m >=n:\n",
    "            for i in range(m):\n",
    "                if haystack[i:i+n] == needle:\n",
    "                    return i\n",
    "        return -1"
   ]
  },
  {
   "cell_type": "markdown",
   "metadata": {},
   "source": [
    "13. Roman to Integer"
   ]
  },
  {
   "cell_type": "code",
   "execution_count": null,
   "metadata": {},
   "outputs": [],
   "source": [
    "class Solution:\n",
    "    def romanToInt(self, s: str) -> int:\n",
    "        roman ={\"I\":1,\"V\":5,\"X\":10,\"L\":50,\"C\":100,\"D\":500,\"M\":1000}\n",
    "        res=0\n",
    "        for i in range(len(s)):\n",
    "            if i+1<len(s) and roman[s[i]] < roman[s[i+1]]:\n",
    "                res-=roman[s[i]]\n",
    "            else:\n",
    "                res+=roman[s[i]] \n",
    "        return res   "
   ]
  }
 ],
 "metadata": {
  "kernelspec": {
   "display_name": "Python 3",
   "language": "python",
   "name": "python3"
  },
  "language_info": {
   "codemirror_mode": {
    "name": "ipython",
    "version": 3
   },
   "file_extension": ".py",
   "mimetype": "text/x-python",
   "name": "python",
   "nbconvert_exporter": "python",
   "pygments_lexer": "ipython3",
   "version": "3.12.2"
  }
 },
 "nbformat": 4,
 "nbformat_minor": 2
}
