{
 "cells": [
  {
   "cell_type": "markdown",
   "metadata": {},
   "source": [
    "# Linked List"
   ]
  },
  {
   "cell_type": "code",
   "execution_count": 22,
   "metadata": {},
   "outputs": [
    {
     "name": "stdout",
     "output_type": "stream",
     "text": [
      "23 -> 73 -> 65 -> 43 -> 2 -> \n",
      "Length of the List :  5\n",
      "65\n",
      "2\n"
     ]
    }
   ],
   "source": [
    "class Node:\n",
    "    def __init__(self,data):\n",
    "        self.data=data\n",
    "        self.next=None\n",
    "\n",
    "class LinkedList:\n",
    "    # head\n",
    "    def __init__(self):\n",
    "        self.head=None\n",
    "    \n",
    "    def insertAtEnd(self,value):\n",
    "        newNode=Node(value)\n",
    "        node=self.head\n",
    "        if self.head==None:\n",
    "            self.head=newNode\n",
    "        else:\n",
    "            while node.next is not None:\n",
    "                node=node.next\n",
    "            node.next=newNode\n",
    "\n",
    "    def display(self):\n",
    "        node=self.head\n",
    "        count=0\n",
    "        if node is None:\n",
    "            print(\"Empty List\")\n",
    "        else:\n",
    "            while node is not None:\n",
    "                print(node.data,end=\" -> \")\n",
    "                count+=1\n",
    "                node=node.next\n",
    "        print(\"\\nLength of the List : \",count)\n",
    "\n",
    "    def lengthofList(self):\n",
    "        node=self.head\n",
    "        count=0\n",
    "        if node is not None:\n",
    "            while node is not None:\n",
    "                count+=1\n",
    "                node=node.next\n",
    "        return count\n",
    "\n",
    "\n",
    "    def middleOfList(self):\n",
    "        len=self.lengthofList()\n",
    "        mid=len//2 +1\n",
    "        node=self.head\n",
    "        count=0\n",
    "        if node is None:\n",
    "            print(\"Empty\")\n",
    "        else:\n",
    "            while node is not None:\n",
    "                count+=1\n",
    "                if count==mid:\n",
    "                    print(node.data)\n",
    "                else:\n",
    "                    node=node.next\n",
    "    \n",
    "    def reverseList(self):\n",
    "        prev,curr=None,self.head\n",
    "        while curr is not None:\n",
    "            temp=curr.next\n",
    "            curr.next=prev\n",
    "            prev=curr\n",
    "            curr=temp\n",
    "        print(prev.data)\n",
    "\n",
    "\n",
    "\n",
    "\n",
    "\n",
    "obj=LinkedList()\n",
    "obj.insertAtEnd(23)\n",
    "obj.insertAtEnd(73)\n",
    "obj.insertAtEnd(65)\n",
    "obj.insertAtEnd(43)\n",
    "obj.insertAtEnd(2)\n",
    "obj.display()\n",
    "obj.middleOfList()\n",
    "obj.reverseList()\n",
    "\n",
    "                \n",
    "\n"
   ]
  },
  {
   "cell_type": "markdown",
   "metadata": {},
   "source": [
    "## Print the Middle of a given linked list\n"
   ]
  },
  {
   "cell_type": "code",
   "execution_count": 28,
   "metadata": {},
   "outputs": [
    {
     "name": "stdout",
     "output_type": "stream",
     "text": [
      "3\n",
      "2 4\n"
     ]
    }
   ],
   "source": [
    "s=[1,2,3,4,5]\n",
    "slow,fast=0,0\n",
    "for i in range(len(s)):\n",
    "    slow+=1\n",
    "    fast+=2\n",
    "    if fast >= len(s):\n",
    "        print(s[slow])\n",
    "        break\n",
    "print(slow,fast)"
   ]
  }
 ],
 "metadata": {
  "kernelspec": {
   "display_name": "Python 3",
   "language": "python",
   "name": "python3"
  },
  "language_info": {
   "codemirror_mode": {
    "name": "ipython",
    "version": 3
   },
   "file_extension": ".py",
   "mimetype": "text/x-python",
   "name": "python",
   "nbconvert_exporter": "python",
   "pygments_lexer": "ipython3",
   "version": "3.12.2"
  }
 },
 "nbformat": 4,
 "nbformat_minor": 2
}
