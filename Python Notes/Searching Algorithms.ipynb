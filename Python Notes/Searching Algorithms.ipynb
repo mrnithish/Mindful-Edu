{
 "cells": [
  {
   "cell_type": "markdown",
   "id": "1a7d8cf0",
   "metadata": {},
   "source": [
    "# Liner Search"
   ]
  },
  {
   "cell_type": "code",
   "execution_count": 3,
   "id": "f407e6fc",
   "metadata": {},
   "outputs": [
    {
     "name": "stdout",
     "output_type": "stream",
     "text": [
      "-1\n"
     ]
    }
   ],
   "source": [
    "arr = [1,3,5,7,8]\n",
    "def linearsearch(arr,k):\n",
    "    n = len(arr)\n",
    "    for i in range(n):\n",
    "        if(arr[i]==k):\n",
    "            return i\n",
    "    return -1\n",
    "print(linearsearch(arr,11))"
   ]
  },
  {
   "cell_type": "markdown",
   "id": "ef0ba016",
   "metadata": {},
   "source": [
    "# Binary Search"
   ]
  },
  {
   "cell_type": "markdown",
   "id": "017d866d",
   "metadata": {},
   "source": [
    "## Iterative Approach"
   ]
  },
  {
   "cell_type": "code",
   "execution_count": 10,
   "id": "78fb97b5",
   "metadata": {},
   "outputs": [],
   "source": [
    "def binarysearch(arr, left, right, k):\n",
    " \n",
    "    while left <= right: # right = 4, left = 4\n",
    "        mid = left + ((right - left) // 2) # mid = 4 // just means you are taking a floor\n",
    "        print(left,mid,right)\n",
    "        if arr[mid] == k:\n",
    "            return mid\n",
    " \n",
    "        elif arr[mid] < k:\n",
    "            left = mid + 1 # left = 4\n",
    "\n",
    "        else:\n",
    "            right = mid - 1 # right = 4\n",
    "\n",
    "    return -1"
   ]
  },
  {
   "cell_type": "code",
   "execution_count": 11,
   "id": "a66bcee1",
   "metadata": {},
   "outputs": [
    {
     "name": "stdout",
     "output_type": "stream",
     "text": [
      "0 3 7\n",
      "4 5 7\n",
      "4 4 4\n"
     ]
    },
    {
     "data": {
      "text/plain": [
       "4"
      ]
     },
     "execution_count": 11,
     "metadata": {},
     "output_type": "execute_result"
    }
   ],
   "source": [
    "arr = [3,7,9,11,15,18,21,23]\n",
    "k = 15\n",
    "binarysearch(arr,0,len(arr)-1,k)"
   ]
  },
  {
   "cell_type": "code",
   "execution_count": 29,
   "id": "cf14b9ce",
   "metadata": {},
   "outputs": [],
   "source": [
    "def binarysearchrec(arr, left, right, k):\n",
    "    if left <= right:\n",
    " \n",
    "        mid = left + (right - left) // 2\n",
    " \n",
    "        if arr[mid] == k:\n",
    "            return mid\n",
    " \n",
    "        elif arr[mid] < k:\n",
    "            return binarysearchrec(arr,mid+1,right,k)\n",
    "\n",
    "        else:\n",
    "            return binarysearchrec(arr,left,mid-1,k)\n",
    "    else:\n",
    "        return -1"
   ]
  },
  {
   "cell_type": "code",
   "execution_count": 30,
   "id": "4537d2c4",
   "metadata": {},
   "outputs": [
    {
     "data": {
      "text/plain": [
       "2"
      ]
     },
     "execution_count": 30,
     "metadata": {},
     "output_type": "execute_result"
    }
   ],
   "source": [
    "arr = [1,3,5,7,9,11,15]\n",
    "k = 5\n",
    "binarysearchrec(arr,0,len(arr)-1,k)"
   ]
  },
  {
   "cell_type": "code",
   "execution_count": null,
   "id": "0d21d9f6",
   "metadata": {},
   "outputs": [],
   "source": []
  }
 ],
 "metadata": {
  "kernelspec": {
   "display_name": "Python 3 (ipykernel)",
   "language": "python",
   "name": "python3"
  },
  "language_info": {
   "codemirror_mode": {
    "name": "ipython",
    "version": 3
   },
   "file_extension": ".py",
   "mimetype": "text/x-python",
   "name": "python",
   "nbconvert_exporter": "python",
   "pygments_lexer": "ipython3",
   "version": "3.10.9"
  }
 },
 "nbformat": 4,
 "nbformat_minor": 5
}
