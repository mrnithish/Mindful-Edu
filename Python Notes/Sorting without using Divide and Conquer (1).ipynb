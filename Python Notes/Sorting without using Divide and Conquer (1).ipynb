{
 "cells": [
  {
   "cell_type": "markdown",
   "id": "d012c3dd",
   "metadata": {},
   "source": [
    "# In this file you will find all the sorts which might be asked to you in interviews"
   ]
  },
  {
   "cell_type": "markdown",
   "id": "12043707",
   "metadata": {},
   "source": [
    "# Swapping two elements"
   ]
  },
  {
   "cell_type": "code",
   "execution_count": 1,
   "id": "ca4b4e4a",
   "metadata": {},
   "outputs": [
    {
     "name": "stdout",
     "output_type": "stream",
     "text": [
      "10 20\n",
      "20 10\n"
     ]
    }
   ],
   "source": [
    "x = 10\n",
    "y = 20\n",
    "print(x,y)\n",
    "x,y = y,x\n",
    "print(x,y)"
   ]
  },
  {
   "cell_type": "markdown",
   "id": "5e173453",
   "metadata": {},
   "source": [
    "# Compare all the elements of list with each other"
   ]
  },
  {
   "cell_type": "code",
   "execution_count": 9,
   "id": "fd6409bc",
   "metadata": {},
   "outputs": [
    {
     "name": "stdout",
     "output_type": "stream",
     "text": [
      "7 7\n",
      "3 3\n"
     ]
    }
   ],
   "source": [
    "a = [1,4,7,3,2,3,7]\n",
    "n = len(a)\n",
    "for i in range(n):\n",
    "    for j in range(i+1,n):\n",
    "        if(a[i]==a[j]):\n",
    "            print(a[i],a[j])"
   ]
  },
  {
   "cell_type": "markdown",
   "id": "ad2394fa",
   "metadata": {},
   "source": [
    "# Bubble Sort"
   ]
  },
  {
   "cell_type": "code",
   "execution_count": 10,
   "id": "6d24bbfc",
   "metadata": {},
   "outputs": [
    {
     "name": "stdout",
     "output_type": "stream",
     "text": [
      "[1, 2, 3, 3, 4, 4, 6, 7, 9]\n"
     ]
    }
   ],
   "source": [
    "arr = [3,2,7,4,9,1,3,4,6]\n",
    "def bubblesort(arr):\n",
    "    n = len(arr)\n",
    "    for i in range(n):\n",
    "        for j in range(0, n-i-1):\n",
    "            if arr[j] > arr[j+1]:\n",
    "                arr[j], arr[j+1] = arr[j+1], arr[j]\n",
    "    return arr\n",
    " \n",
    "print(bubblesort(arr))"
   ]
  },
  {
   "cell_type": "markdown",
   "id": "8f7bd5e7",
   "metadata": {},
   "source": [
    "# Making it more time Efficient"
   ]
  },
  {
   "cell_type": "code",
   "execution_count": 29,
   "id": "cc326377",
   "metadata": {},
   "outputs": [
    {
     "name": "stdout",
     "output_type": "stream",
     "text": [
      "2024-03-20 10:11:52.780114\n"
     ]
    }
   ],
   "source": [
    "from datetime import datetime\n",
    "print(datetime.now())"
   ]
  },
  {
   "cell_type": "code",
   "execution_count": 31,
   "id": "4b7497ac",
   "metadata": {},
   "outputs": [
    {
     "name": "stdout",
     "output_type": "stream",
     "text": [
      "1 Iteration\n",
      "4 3\n",
      "[3, 4, 1, 6, 7, 8, 9, 10, 11, 12, 13]\n",
      "4 1\n",
      "[3, 1, 4, 6, 7, 8, 9, 10, 11, 12, 13]\n",
      "4 6\n",
      "[3, 1, 4, 6, 7, 8, 9, 10, 11, 12, 13]\n",
      "6 7\n",
      "[3, 1, 4, 6, 7, 8, 9, 10, 11, 12, 13]\n",
      "7 8\n",
      "[3, 1, 4, 6, 7, 8, 9, 10, 11, 12, 13]\n",
      "8 9\n",
      "[3, 1, 4, 6, 7, 8, 9, 10, 11, 12, 13]\n",
      "9 10\n",
      "[3, 1, 4, 6, 7, 8, 9, 10, 11, 12, 13]\n",
      "10 11\n",
      "[3, 1, 4, 6, 7, 8, 9, 10, 11, 12, 13]\n",
      "11 12\n",
      "[3, 1, 4, 6, 7, 8, 9, 10, 11, 12, 13]\n",
      "12 13\n",
      "[3, 1, 4, 6, 7, 8, 9, 10, 11, 12, 13]\n",
      "2 Iteration\n",
      "3 1\n",
      "[1, 3, 4, 6, 7, 8, 9, 10, 11, 12, 13]\n",
      "3 4\n",
      "[1, 3, 4, 6, 7, 8, 9, 10, 11, 12, 13]\n",
      "4 6\n",
      "[1, 3, 4, 6, 7, 8, 9, 10, 11, 12, 13]\n",
      "6 7\n",
      "[1, 3, 4, 6, 7, 8, 9, 10, 11, 12, 13]\n",
      "7 8\n",
      "[1, 3, 4, 6, 7, 8, 9, 10, 11, 12, 13]\n",
      "8 9\n",
      "[1, 3, 4, 6, 7, 8, 9, 10, 11, 12, 13]\n",
      "9 10\n",
      "[1, 3, 4, 6, 7, 8, 9, 10, 11, 12, 13]\n",
      "10 11\n",
      "[1, 3, 4, 6, 7, 8, 9, 10, 11, 12, 13]\n",
      "11 12\n",
      "[1, 3, 4, 6, 7, 8, 9, 10, 11, 12, 13]\n",
      "3 Iteration\n",
      "1 3\n",
      "[1, 3, 4, 6, 7, 8, 9, 10, 11, 12, 13]\n",
      "3 4\n",
      "[1, 3, 4, 6, 7, 8, 9, 10, 11, 12, 13]\n",
      "4 6\n",
      "[1, 3, 4, 6, 7, 8, 9, 10, 11, 12, 13]\n",
      "6 7\n",
      "[1, 3, 4, 6, 7, 8, 9, 10, 11, 12, 13]\n",
      "7 8\n",
      "[1, 3, 4, 6, 7, 8, 9, 10, 11, 12, 13]\n",
      "8 9\n",
      "[1, 3, 4, 6, 7, 8, 9, 10, 11, 12, 13]\n",
      "9 10\n",
      "[1, 3, 4, 6, 7, 8, 9, 10, 11, 12, 13]\n",
      "10 11\n",
      "[1, 3, 4, 6, 7, 8, 9, 10, 11, 12, 13]\n",
      "[1, 3, 4, 6, 7, 8, 9, 10, 11, 12, 13]\n",
      "0:00:00.001994\n"
     ]
    }
   ],
   "source": [
    "# arr = [8,1,8,7,4]\n",
    "arr = [4,3,1,6,7,8,9,10,11,12,13]\n",
    "def bubblesort(a):\n",
    "    n = len(a)\n",
    "    for i in range(n-1):\n",
    "        print(i+1,\"Iteration\")\n",
    "        swap = False\n",
    "        for j in range(n-i-1):\n",
    "            print(a[j],a[j+1])\n",
    "            if(a[j]>=a[j+1]):\n",
    "                a[j],a[j+1] = a[j+1],a[j]\n",
    "                swap = True\n",
    "            print(a)\n",
    "        if(swap==False):\n",
    "            return a\n",
    "    return a\n",
    "x = datetime.now()\n",
    "print(bubblesort(arr))\n",
    "print(datetime.now() - x)"
   ]
  },
  {
   "cell_type": "markdown",
   "id": "a2fd8e50",
   "metadata": {},
   "source": [
    "# Selection Sort"
   ]
  },
  {
   "cell_type": "code",
   "execution_count": 24,
   "id": "2dddac96",
   "metadata": {},
   "outputs": [
    {
     "name": "stdout",
     "output_type": "stream",
     "text": [
      "[4, 3, 1, 6, 7, 8, 9, 10, 11, 12, 13]\n",
      "[4, 3, 1, 6, 7, 8, 9, 10, 11, 12, 13]\n",
      "[4, 3, 1, 6, 7, 8, 9, 10, 11, 12, 13]\n",
      "[4, 3, 1, 6, 7, 8, 9, 10, 11, 12, 13]\n",
      "[4, 3, 1, 6, 7, 8, 9, 10, 11, 12, 13]\n",
      "[4, 3, 1, 6, 7, 8, 9, 10, 11, 12, 13]\n",
      "[4, 3, 1, 6, 7, 8, 9, 10, 11, 12, 13]\n",
      "[4, 3, 1, 6, 7, 8, 9, 10, 11, 12, 13]\n",
      "[4, 3, 1, 6, 7, 8, 9, 10, 11, 12, 13]\n",
      "[4, 3, 1, 6, 7, 8, 9, 10, 11, 12, 13]\n",
      "1 Iteration:  2\n",
      "[1, 3, 4, 6, 7, 8, 9, 10, 11, 12, 13]\n",
      "[1, 3, 4, 6, 7, 8, 9, 10, 11, 12, 13]\n",
      "[1, 3, 4, 6, 7, 8, 9, 10, 11, 12, 13]\n",
      "[1, 3, 4, 6, 7, 8, 9, 10, 11, 12, 13]\n",
      "[1, 3, 4, 6, 7, 8, 9, 10, 11, 12, 13]\n",
      "[1, 3, 4, 6, 7, 8, 9, 10, 11, 12, 13]\n",
      "[1, 3, 4, 6, 7, 8, 9, 10, 11, 12, 13]\n",
      "[1, 3, 4, 6, 7, 8, 9, 10, 11, 12, 13]\n",
      "[1, 3, 4, 6, 7, 8, 9, 10, 11, 12, 13]\n",
      "[1, 3, 4, 6, 7, 8, 9, 10, 11, 12, 13]\n",
      "2 Iteration:  1\n",
      "[1, 3, 4, 6, 7, 8, 9, 10, 11, 12, 13]\n",
      "[1, 3, 4, 6, 7, 8, 9, 10, 11, 12, 13]\n",
      "[1, 3, 4, 6, 7, 8, 9, 10, 11, 12, 13]\n",
      "[1, 3, 4, 6, 7, 8, 9, 10, 11, 12, 13]\n",
      "[1, 3, 4, 6, 7, 8, 9, 10, 11, 12, 13]\n",
      "[1, 3, 4, 6, 7, 8, 9, 10, 11, 12, 13]\n",
      "[1, 3, 4, 6, 7, 8, 9, 10, 11, 12, 13]\n",
      "[1, 3, 4, 6, 7, 8, 9, 10, 11, 12, 13]\n",
      "[1, 3, 4, 6, 7, 8, 9, 10, 11, 12, 13]\n",
      "3 Iteration:  2\n",
      "[1, 3, 4, 6, 7, 8, 9, 10, 11, 12, 13]\n",
      "[1, 3, 4, 6, 7, 8, 9, 10, 11, 12, 13]\n",
      "[1, 3, 4, 6, 7, 8, 9, 10, 11, 12, 13]\n",
      "[1, 3, 4, 6, 7, 8, 9, 10, 11, 12, 13]\n",
      "[1, 3, 4, 6, 7, 8, 9, 10, 11, 12, 13]\n",
      "[1, 3, 4, 6, 7, 8, 9, 10, 11, 12, 13]\n",
      "[1, 3, 4, 6, 7, 8, 9, 10, 11, 12, 13]\n",
      "[1, 3, 4, 6, 7, 8, 9, 10, 11, 12, 13]\n",
      "4 Iteration:  3\n",
      "[1, 3, 4, 6, 7, 8, 9, 10, 11, 12, 13]\n",
      "[1, 3, 4, 6, 7, 8, 9, 10, 11, 12, 13]\n",
      "[1, 3, 4, 6, 7, 8, 9, 10, 11, 12, 13]\n",
      "[1, 3, 4, 6, 7, 8, 9, 10, 11, 12, 13]\n",
      "[1, 3, 4, 6, 7, 8, 9, 10, 11, 12, 13]\n",
      "[1, 3, 4, 6, 7, 8, 9, 10, 11, 12, 13]\n",
      "[1, 3, 4, 6, 7, 8, 9, 10, 11, 12, 13]\n",
      "5 Iteration:  4\n",
      "[1, 3, 4, 6, 7, 8, 9, 10, 11, 12, 13]\n",
      "[1, 3, 4, 6, 7, 8, 9, 10, 11, 12, 13]\n",
      "[1, 3, 4, 6, 7, 8, 9, 10, 11, 12, 13]\n",
      "[1, 3, 4, 6, 7, 8, 9, 10, 11, 12, 13]\n",
      "[1, 3, 4, 6, 7, 8, 9, 10, 11, 12, 13]\n",
      "[1, 3, 4, 6, 7, 8, 9, 10, 11, 12, 13]\n",
      "6 Iteration:  5\n",
      "[1, 3, 4, 6, 7, 8, 9, 10, 11, 12, 13]\n",
      "[1, 3, 4, 6, 7, 8, 9, 10, 11, 12, 13]\n",
      "[1, 3, 4, 6, 7, 8, 9, 10, 11, 12, 13]\n",
      "[1, 3, 4, 6, 7, 8, 9, 10, 11, 12, 13]\n",
      "[1, 3, 4, 6, 7, 8, 9, 10, 11, 12, 13]\n",
      "7 Iteration:  6\n",
      "[1, 3, 4, 6, 7, 8, 9, 10, 11, 12, 13]\n",
      "[1, 3, 4, 6, 7, 8, 9, 10, 11, 12, 13]\n",
      "[1, 3, 4, 6, 7, 8, 9, 10, 11, 12, 13]\n",
      "[1, 3, 4, 6, 7, 8, 9, 10, 11, 12, 13]\n",
      "8 Iteration:  7\n",
      "[1, 3, 4, 6, 7, 8, 9, 10, 11, 12, 13]\n",
      "[1, 3, 4, 6, 7, 8, 9, 10, 11, 12, 13]\n",
      "[1, 3, 4, 6, 7, 8, 9, 10, 11, 12, 13]\n",
      "9 Iteration:  8\n",
      "[1, 3, 4, 6, 7, 8, 9, 10, 11, 12, 13]\n",
      "[1, 3, 4, 6, 7, 8, 9, 10, 11, 12, 13]\n",
      "10 Iteration:  9\n",
      "[1, 3, 4, 6, 7, 8, 9, 10, 11, 12, 13]\n",
      "Sorted Array [1, 3, 4, 6, 7, 8, 9, 10, 11, 12, 13]\n"
     ]
    }
   ],
   "source": [
    "# arr = [3,2,7,4,9,1,3,4,6]\n",
    "arr = [4,3,1,6,7,8,9,10,11,12,13]\n",
    "def selectionsort(arr):\n",
    "    n = len(arr)\n",
    "    for i in range(n-1): # Iterations\n",
    "        min_index = i\n",
    "        for j in range(i+1, n): # For getting the lowest value element index\n",
    "            if arr[j] < arr[min_index]:\n",
    "                min_index = j\n",
    "        print(i+1,\"Iteration: \",min_index)\n",
    "        arr[i],arr[min_index] = arr[min_index],arr[i]\n",
    "        print(arr)\n",
    "    return arr\n",
    " \n",
    "print(\"Sorted Array\",selectionsort(arr))"
   ]
  },
  {
   "cell_type": "markdown",
   "id": "224abc8b",
   "metadata": {},
   "source": [
    "# Insertion Sort"
   ]
  },
  {
   "cell_type": "code",
   "execution_count": 33,
   "id": "3b5b45bb",
   "metadata": {},
   "outputs": [
    {
     "name": "stdout",
     "output_type": "stream",
     "text": [
      "[4, 4, 1, 6, 7]\n",
      "1 Iteration:  [3, 4, 1, 6, 7]\n",
      "[3, 4, 4, 6, 7]\n",
      "[3, 3, 4, 6, 7]\n",
      "2 Iteration:  [1, 3, 4, 6, 7]\n",
      "3 Iteration:  [1, 3, 4, 6, 7]\n",
      "4 Iteration:  [1, 3, 4, 6, 7]\n",
      "[1, 3, 4, 6, 7]\n"
     ]
    }
   ],
   "source": [
    "arr = [4,3,1,6,7]\n",
    "def insertionsort(arr):\n",
    "    n = len(arr)\n",
    "    for i in range(1,n): # i = 4\n",
    "        insert_element = arr[i] # insert_element = 7\n",
    "        j = i - 1 # j = 3\n",
    "        while(j>=0 and insert_element<arr[j]): # arr[j] = 6 \n",
    "            arr[j+1] = arr[j] # j+1 = 1\n",
    "            j = j - 1 # j = -1\n",
    "            print(arr)\n",
    "        # j = 3\n",
    "        arr[j+1] = insert_element\n",
    "        print(i,\"Iteration: \",arr)\n",
    "    return arr\n",
    "print(insertionsort(arr))"
   ]
  },
  {
   "cell_type": "code",
   "execution_count": 28,
   "id": "83393257",
   "metadata": {},
   "outputs": [
    {
     "name": "stdout",
     "output_type": "stream",
     "text": [
      "2024-03-20 10:11:29.906157\n"
     ]
    }
   ],
   "source": [
    "from datetime import datetime\n",
    "print(datetime.now())"
   ]
  },
  {
   "cell_type": "code",
   "execution_count": null,
   "id": "178c56cb",
   "metadata": {},
   "outputs": [],
   "source": []
  }
 ],
 "metadata": {
  "kernelspec": {
   "display_name": "Python 3 (ipykernel)",
   "language": "python",
   "name": "python3"
  },
  "language_info": {
   "codemirror_mode": {
    "name": "ipython",
    "version": 3
   },
   "file_extension": ".py",
   "mimetype": "text/x-python",
   "name": "python",
   "nbconvert_exporter": "python",
   "pygments_lexer": "ipython3",
   "version": "3.10.9"
  }
 },
 "nbformat": 4,
 "nbformat_minor": 5
}
