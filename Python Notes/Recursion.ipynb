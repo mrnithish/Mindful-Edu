{
 "cells": [
  {
   "cell_type": "markdown",
   "id": "30967b70",
   "metadata": {},
   "source": [
    "# Recursion is just a function calling itself"
   ]
  },
  {
   "cell_type": "markdown",
   "id": "b3f89b1c",
   "metadata": {},
   "source": [
    "# Finonnaci Series Formula"
   ]
  },
  {
   "cell_type": "markdown",
   "id": "02e4aae1",
   "metadata": {},
   "source": [
    "## f(n) = f(n-1) + f(n-2)\n",
    "## f(0) = f(1) = 1\n",
    "## n >= 2"
   ]
  },
  {
   "cell_type": "markdown",
   "id": "7d7175dc",
   "metadata": {},
   "source": [
    "# Example for Fibonnaci of n = 5\n",
    "# f(5) = f(4) + f(3) = 5 + 3 = 8\n",
    "# f(4) = f(3) + f(2) = 3 + 2 = 5\n",
    "# f(3) = f(2) + f(1) = 2 + 1 = 3\n",
    "# f(2) = f(1) + f(0) = 1 + 1 = 2"
   ]
  },
  {
   "cell_type": "markdown",
   "id": "2748d916",
   "metadata": {},
   "source": [
    "## Fibonnaci using loop"
   ]
  },
  {
   "cell_type": "code",
   "execution_count": 8,
   "id": "efed8af6",
   "metadata": {},
   "outputs": [
    {
     "name": "stdout",
     "output_type": "stream",
     "text": [
      "Fibonnachi Number: 200\n",
      "280571172992510140037611932413038677189525\n"
     ]
    }
   ],
   "source": [
    "def loopfib(n):\n",
    "    num0,num1,result = 0,1,0\n",
    "    for i in range(2,n+1):\n",
    "        result = num0 + num1\n",
    "        num0 = num1\n",
    "        num1 = result\n",
    "    return result\n",
    "n = int(input(\"Fibonnachi Number: \"))\n",
    "print(loopfib(n))"
   ]
  },
  {
   "cell_type": "markdown",
   "id": "c8a8c54f",
   "metadata": {},
   "source": [
    "## Fibonnaci using Recursion"
   ]
  },
  {
   "cell_type": "code",
   "execution_count": 12,
   "id": "6fc1495f",
   "metadata": {},
   "outputs": [
    {
     "name": "stdout",
     "output_type": "stream",
     "text": [
      "Fibonnachi Number: 5\n",
      "8\n"
     ]
    }
   ],
   "source": [
    "def fibonnaci(n):\n",
    "    # n = 1\n",
    "    if(n<=1):\n",
    "        return 1\n",
    "    else:\n",
    "        return fibonnaci(n-1) + fibonnaci(n-2)\n",
    "n = int(input(\"Fibonnachi Number: \"))\n",
    "print(fibonnaci(n))"
   ]
  },
  {
   "cell_type": "markdown",
   "id": "f32c8b8d",
   "metadata": {},
   "source": [
    "## Fibonnaci using memoization"
   ]
  },
  {
   "cell_type": "code",
   "execution_count": 10,
   "id": "e43e96e8",
   "metadata": {},
   "outputs": [],
   "source": [
    "memdict = {0:1,1:1}"
   ]
  },
  {
   "cell_type": "code",
   "execution_count": 13,
   "id": "476f5af7",
   "metadata": {},
   "outputs": [
    {
     "name": "stdout",
     "output_type": "stream",
     "text": [
      "Fibonnachi Number: 200\n",
      "453973694165307953197296969697410619233826\n"
     ]
    }
   ],
   "source": [
    "def fibonnaci(n):\n",
    "    # n = 1\n",
    "    if n in memdict:\n",
    "        return memdict[n]\n",
    "    else:\n",
    "        result = fibonnaci(n-1) + fibonnaci(n-2)\n",
    "        memdict[n] = result\n",
    "        return result\n",
    "n = int(input(\"Fibonnachi Number: \"))\n",
    "print(fibonnaci(n))"
   ]
  },
  {
   "cell_type": "markdown",
   "id": "8a958cdf",
   "metadata": {},
   "source": [
    "# Factorial Problem"
   ]
  },
  {
   "cell_type": "markdown",
   "id": "9d824d06",
   "metadata": {},
   "source": [
    "# Factorial = n! = n*(n-1)*(n-2)*....*1"
   ]
  },
  {
   "cell_type": "code",
   "execution_count": 32,
   "id": "cbc53074",
   "metadata": {},
   "outputs": [
    {
     "name": "stdout",
     "output_type": "stream",
     "text": [
      "Factorial Number: 5\n",
      "120\n"
     ]
    }
   ],
   "source": [
    "def factorial(n):\n",
    "    result = 1\n",
    "    for i in range(2,n+1):\n",
    "        result = i * result\n",
    "    return result\n",
    "n = int(input(\"Factorial Number: \"))\n",
    "print(factorial(n))"
   ]
  },
  {
   "cell_type": "markdown",
   "id": "ccc5c756",
   "metadata": {},
   "source": [
    "## Using Recursion"
   ]
  },
  {
   "cell_type": "code",
   "execution_count": 33,
   "id": "22a9a621",
   "metadata": {},
   "outputs": [
    {
     "name": "stdout",
     "output_type": "stream",
     "text": [
      "Factorial Number: 5\n",
      "120\n"
     ]
    }
   ],
   "source": [
    "def factorial(n):\n",
    "    if(n==1):\n",
    "        return 1\n",
    "    else:\n",
    "        return n*factorial(n-1)\n",
    "n = int(input(\"Factorial Number: \"))\n",
    "print(factorial(n))"
   ]
  },
  {
   "cell_type": "code",
   "execution_count": null,
   "id": "9638725b",
   "metadata": {},
   "outputs": [],
   "source": []
  }
 ],
 "metadata": {
  "kernelspec": {
   "display_name": "Python 3 (ipykernel)",
   "language": "python",
   "name": "python3"
  },
  "language_info": {
   "codemirror_mode": {
    "name": "ipython",
    "version": 3
   },
   "file_extension": ".py",
   "mimetype": "text/x-python",
   "name": "python",
   "nbconvert_exporter": "python",
   "pygments_lexer": "ipython3",
   "version": "3.10.9"
  }
 },
 "nbformat": 4,
 "nbformat_minor": 5
}
