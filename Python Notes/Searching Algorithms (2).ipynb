{
 "cells": [
  {
   "cell_type": "markdown",
   "id": "1a7d8cf0",
   "metadata": {},
   "source": [
    "# Liner Search"
   ]
  },
  {
   "cell_type": "code",
   "execution_count": 14,
   "id": "f407e6fc",
   "metadata": {},
   "outputs": [
    {
     "name": "stdout",
     "output_type": "stream",
     "text": [
      "0 1\n",
      "1 3\n",
      "2 5\n",
      "3 7\n",
      "4 8\n",
      "-1\n"
     ]
    }
   ],
   "source": [
    "arr = [1,3,5,7,8]\n",
    "def linearsearch(arr,k):\n",
    "    n = len(arr)\n",
    "    for i in range(n):\n",
    "        print(i,arr[i])\n",
    "        if(arr[i]==k):\n",
    "            return i\n",
    "    return -1\n",
    "print(linearsearch(arr,11))"
   ]
  },
  {
   "cell_type": "markdown",
   "id": "ef0ba016",
   "metadata": {},
   "source": [
    "# Binary Search"
   ]
  },
  {
   "cell_type": "markdown",
   "id": "017d866d",
   "metadata": {},
   "source": [
    "## Iterative Approach"
   ]
  },
  {
   "cell_type": "code",
   "execution_count": 10,
   "id": "78fb97b5",
   "metadata": {},
   "outputs": [],
   "source": [
    "def binarysearch(arr, left, right, k):\n",
    " \n",
    "    while left <= right: # right = 4, left = 4\n",
    "        mid = left + ((right - left) // 2) # mid = 4 // just means you are taking a floor\n",
    "        print(left,mid,right)\n",
    "        if arr[mid] == k:\n",
    "            return mid\n",
    " \n",
    "        elif arr[mid] < k:\n",
    "            left = mid + 1 # left = 4\n",
    "\n",
    "        else:\n",
    "            right = mid - 1 # right = 4\n",
    "\n",
    "    return -1"
   ]
  },
  {
   "cell_type": "code",
   "execution_count": 17,
   "id": "a66bcee1",
   "metadata": {},
   "outputs": [
    {
     "name": "stdout",
     "output_type": "stream",
     "text": [
      "0 3 7\n",
      "4 5 7\n",
      "6 6 7\n",
      "7 7 7\n"
     ]
    },
    {
     "data": {
      "text/plain": [
       "-1"
      ]
     },
     "execution_count": 17,
     "metadata": {},
     "output_type": "execute_result"
    }
   ],
   "source": [
    "arr = [3,7,9,11,15,18,21,23]\n",
    "k = 24\n",
    "binarysearch(arr,0,len(arr)-1,k)"
   ]
  },
  {
   "cell_type": "code",
   "execution_count": 29,
   "id": "cf14b9ce",
   "metadata": {},
   "outputs": [],
   "source": [
    "def binarysearchrec(arr, left, right, k):\n",
    "    if left <= right:\n",
    " \n",
    "        mid = left + (right - left) // 2\n",
    " \n",
    "        if arr[mid] == k:\n",
    "            return mid\n",
    " \n",
    "        elif arr[mid] < k:\n",
    "            return binarysearchrec(arr,mid+1,right,k)\n",
    "\n",
    "        else:\n",
    "            return binarysearchrec(arr,left,mid-1,k)\n",
    "    else:\n",
    "        return -1"
   ]
  },
  {
   "cell_type": "code",
   "execution_count": 26,
   "id": "4537d2c4",
   "metadata": {},
   "outputs": [
    {
     "name": "stdout",
     "output_type": "stream",
     "text": [
      "64\n",
      "0 31 63\n",
      "32 47 63\n",
      "48 55 63\n",
      "56 59 63\n",
      "60 61 63\n",
      "62 62 63\n",
      "63 63 63\n"
     ]
    },
    {
     "data": {
      "text/plain": [
       "63"
      ]
     },
     "execution_count": 26,
     "metadata": {},
     "output_type": "execute_result"
    }
   ],
   "source": [
    "arr = [1,2,3,4,5,6,7,8,9,10,11,12,13,14,15,16,17,18,19,20,21,22,23,24,25,26,27,28,29,30,31,32,33,34,35,36,37,38,39,40,41,42,43,44,45,46,47,48,49,50,51,52,53,54,55,56,57,58,59,60,61,62,63,64]\n",
    "print(len(arr))\n",
    "k = 64\n",
    "binarysearch(arr,0,len(arr)-1,k)\n"
   ]
  },
  {
   "cell_type": "code",
   "execution_count": null,
   "id": "0d21d9f6",
   "metadata": {},
   "outputs": [],
   "source": []
  }
 ],
 "metadata": {
  "kernelspec": {
   "display_name": "Python 3 (ipykernel)",
   "language": "python",
   "name": "python3"
  },
  "language_info": {
   "codemirror_mode": {
    "name": "ipython",
    "version": 3
   },
   "file_extension": ".py",
   "mimetype": "text/x-python",
   "name": "python",
   "nbconvert_exporter": "python",
   "pygments_lexer": "ipython3",
   "version": "3.10.9"
  }
 },
 "nbformat": 4,
 "nbformat_minor": 5
}
