{
 "cells": [
  {
   "cell_type": "code",
   "execution_count": 40,
   "id": "b0a1f164",
   "metadata": {},
   "outputs": [],
   "source": [
    "newdict = {\n",
    "    \"apple\":\"Fruit\",\n",
    "    \"banana\":\"AnotherFruit\",\n",
    "    2:\"Number\",\n",
    "    1.34:\"Float\",\n",
    "    \"colours\":[\"red\",\"green\",\"blue\"],\n",
    "    \"interdict\":{\"internal\":\"dict\"}\n",
    "}"
   ]
  },
  {
   "cell_type": "markdown",
   "id": "b849b307",
   "metadata": {},
   "source": [
    "# Access Elements in Dictionary"
   ]
  },
  {
   "cell_type": "code",
   "execution_count": 41,
   "id": "e7f8dc5a",
   "metadata": {},
   "outputs": [
    {
     "name": "stdout",
     "output_type": "stream",
     "text": [
      "Number\n"
     ]
    }
   ],
   "source": [
    "print(newdict[2])"
   ]
  },
  {
   "cell_type": "code",
   "execution_count": 42,
   "id": "ae09a541",
   "metadata": {},
   "outputs": [
    {
     "name": "stdout",
     "output_type": "stream",
     "text": [
      "Fruit\n"
     ]
    }
   ],
   "source": [
    "print(newdict.get(\"apple\"))"
   ]
  },
  {
   "cell_type": "markdown",
   "id": "366b01f1",
   "metadata": {},
   "source": [
    "## Get all Keys"
   ]
  },
  {
   "cell_type": "code",
   "execution_count": 43,
   "id": "89329a6c",
   "metadata": {},
   "outputs": [
    {
     "name": "stdout",
     "output_type": "stream",
     "text": [
      "dict_keys(['apple', 'banana', 2, 1.34, 'colours', 'interdict'])\n"
     ]
    }
   ],
   "source": [
    "print(newdict.keys())"
   ]
  },
  {
   "cell_type": "markdown",
   "id": "9aa3324e",
   "metadata": {},
   "source": [
    "## Get all Values"
   ]
  },
  {
   "cell_type": "code",
   "execution_count": 44,
   "id": "62983724",
   "metadata": {},
   "outputs": [
    {
     "name": "stdout",
     "output_type": "stream",
     "text": [
      "dict_values(['Fruit', 'AnotherFruit', 'Number', 'Float', ['red', 'green', 'blue'], {'internal': 'dict'}])\n"
     ]
    }
   ],
   "source": [
    "print(newdict.values())"
   ]
  },
  {
   "cell_type": "markdown",
   "id": "a03913cd",
   "metadata": {},
   "source": [
    "## Get all Key Value pairs"
   ]
  },
  {
   "cell_type": "code",
   "execution_count": 45,
   "id": "076ea4dd",
   "metadata": {},
   "outputs": [
    {
     "name": "stdout",
     "output_type": "stream",
     "text": [
      "dict_items([('apple', 'Fruit'), ('banana', 'AnotherFruit'), (2, 'Number'), (1.34, 'Float'), ('colours', ['red', 'green', 'blue']), ('interdict', {'internal': 'dict'})])\n"
     ]
    }
   ],
   "source": [
    "print(newdict.items())"
   ]
  },
  {
   "cell_type": "markdown",
   "id": "d69898ee",
   "metadata": {},
   "source": [
    "## Check Existance of a key"
   ]
  },
  {
   "cell_type": "code",
   "execution_count": 46,
   "id": "7443cbd6",
   "metadata": {},
   "outputs": [
    {
     "name": "stdout",
     "output_type": "stream",
     "text": [
      "Exists\n"
     ]
    }
   ],
   "source": [
    "if \"colours\" in newdict:\n",
    "    print(\"Exists\")"
   ]
  },
  {
   "cell_type": "markdown",
   "id": "d219ec02",
   "metadata": {},
   "source": [
    "## Update Dictionary Value"
   ]
  },
  {
   "cell_type": "code",
   "execution_count": 47,
   "id": "b4475dea",
   "metadata": {},
   "outputs": [
    {
     "name": "stdout",
     "output_type": "stream",
     "text": [
      "{'apple': 'FruitUpdate', 'banana': 'AnotherFruit', 2: 'Number', 1.34: 'Float', 'colours': ['red', 'green', 'blue'], 'interdict': {'internal': 'dict'}}\n"
     ]
    }
   ],
   "source": [
    "newdict[\"apple\"] = \"FruitUpdate\"\n",
    "print(newdict)"
   ]
  },
  {
   "cell_type": "markdown",
   "id": "51a04763",
   "metadata": {},
   "source": [
    "## Add Key Value Pair in dictionary"
   ]
  },
  {
   "cell_type": "code",
   "execution_count": 48,
   "id": "43d25577",
   "metadata": {},
   "outputs": [
    {
     "name": "stdout",
     "output_type": "stream",
     "text": [
      "{'apple': 'FruitUpdate', 'banana': 'AnotherFruit', 2: 'Number', 1.34: 'Float', 'colours': ['red', 'green', 'blue'], 'interdict': {'internal': 'dict'}, 'cat': 'Animal'}\n"
     ]
    }
   ],
   "source": [
    "newdict[\"cat\"] = \"Animal\"\n",
    "print(newdict)"
   ]
  },
  {
   "cell_type": "markdown",
   "id": "a63110c6",
   "metadata": {},
   "source": [
    "## Remove Key Value pair"
   ]
  },
  {
   "cell_type": "code",
   "execution_count": 49,
   "id": "bda53917",
   "metadata": {},
   "outputs": [
    {
     "name": "stdout",
     "output_type": "stream",
     "text": [
      "{'apple': 'FruitUpdate', 'banana': 'AnotherFruit', 2: 'Number', 1.34: 'Float', 'colours': ['red', 'green', 'blue'], 'interdict': {'internal': 'dict'}}\n"
     ]
    }
   ],
   "source": [
    "newdict.pop(\"cat\")\n",
    "print(newdict)"
   ]
  },
  {
   "cell_type": "code",
   "execution_count": 50,
   "id": "b723320e",
   "metadata": {},
   "outputs": [
    {
     "name": "stdout",
     "output_type": "stream",
     "text": [
      "{'apple': 'FruitUpdate', 'banana': 'AnotherFruit', 2: 'Number', 1.34: 'Float', 'colours': ['red', 'green', 'blue']}\n"
     ]
    }
   ],
   "source": [
    "newdict.popitem()\n",
    "print(newdict)"
   ]
  },
  {
   "cell_type": "code",
   "execution_count": 51,
   "id": "7b7b0c72",
   "metadata": {},
   "outputs": [
    {
     "name": "stdout",
     "output_type": "stream",
     "text": [
      "{'apple': 'FruitUpdate', 'banana': 'AnotherFruit', 2: 'Number', 1.34: 'Float'}\n"
     ]
    }
   ],
   "source": [
    "del newdict[\"colours\"]\n",
    "print(newdict)"
   ]
  },
  {
   "cell_type": "code",
   "execution_count": 54,
   "id": "52c414d5",
   "metadata": {},
   "outputs": [
    {
     "name": "stdout",
     "output_type": "stream",
     "text": [
      "{}\n"
     ]
    }
   ],
   "source": [
    "newdict.clear()\n",
    "print(newdict)"
   ]
  },
  {
   "cell_type": "markdown",
   "id": "868f450e",
   "metadata": {},
   "source": [
    "# Loop through dictionaries"
   ]
  },
  {
   "cell_type": "code",
   "execution_count": 56,
   "id": "2911fb36",
   "metadata": {},
   "outputs": [],
   "source": [
    "newdict = {\n",
    "    \"apple\":\"Fruit\",\n",
    "    \"banana\":\"AnotherFruit\",\n",
    "    2:\"Number\",\n",
    "    1.34:\"Float\",\n",
    "    \"colours\":[\"red\",\"green\",\"blue\"],\n",
    "    \"interdict\":{\"internal\":\"dict\"}\n",
    "}"
   ]
  },
  {
   "cell_type": "code",
   "execution_count": 57,
   "id": "3a1335ac",
   "metadata": {},
   "outputs": [
    {
     "name": "stdout",
     "output_type": "stream",
     "text": [
      "apple\n",
      "banana\n",
      "2\n",
      "1.34\n",
      "colours\n",
      "interdict\n"
     ]
    }
   ],
   "source": [
    "for key in newdict:\n",
    "    print(key)"
   ]
  },
  {
   "cell_type": "code",
   "execution_count": 58,
   "id": "4f0b8b8a",
   "metadata": {},
   "outputs": [
    {
     "name": "stdout",
     "output_type": "stream",
     "text": [
      "Fruit\n",
      "AnotherFruit\n",
      "Number\n",
      "Float\n",
      "['red', 'green', 'blue']\n",
      "{'internal': 'dict'}\n"
     ]
    }
   ],
   "source": [
    "for key in newdict:\n",
    "    print(newdict[key])"
   ]
  },
  {
   "cell_type": "code",
   "execution_count": 59,
   "id": "a7f3d229",
   "metadata": {},
   "outputs": [
    {
     "name": "stdout",
     "output_type": "stream",
     "text": [
      "apple Fruit\n",
      "banana AnotherFruit\n",
      "2 Number\n",
      "1.34 Float\n",
      "colours ['red', 'green', 'blue']\n",
      "interdict {'internal': 'dict'}\n"
     ]
    }
   ],
   "source": [
    "for key,value in newdict.items():\n",
    "    print(key,value)"
   ]
  },
  {
   "cell_type": "markdown",
   "id": "913028c1",
   "metadata": {},
   "source": [
    "## Copy a dictionary"
   ]
  },
  {
   "cell_type": "code",
   "execution_count": 60,
   "id": "79ecb7c6",
   "metadata": {},
   "outputs": [],
   "source": [
    "newdict_copy = dict(newdict)"
   ]
  },
  {
   "cell_type": "code",
   "execution_count": 61,
   "id": "c0c9c3d6",
   "metadata": {},
   "outputs": [],
   "source": [
    "newdict_copy1 = newdict.copy()"
   ]
  },
  {
   "cell_type": "markdown",
   "id": "3f33df4a",
   "metadata": {},
   "source": [
    "## We are using the .copy() everytime we copy something in python data structures . So, that the copy is not a reference."
   ]
  },
  {
   "cell_type": "markdown",
   "id": "4e0e23fd",
   "metadata": {},
   "source": [
    "# Why is searching in dictionary O(1) ?"
   ]
  },
  {
   "cell_type": "code",
   "execution_count": null,
   "id": "402c0db1",
   "metadata": {},
   "outputs": [],
   "source": []
  }
 ],
 "metadata": {
  "kernelspec": {
   "display_name": "Python 3 (ipykernel)",
   "language": "python",
   "name": "python3"
  },
  "language_info": {
   "codemirror_mode": {
    "name": "ipython",
    "version": 3
   },
   "file_extension": ".py",
   "mimetype": "text/x-python",
   "name": "python",
   "nbconvert_exporter": "python",
   "pygments_lexer": "ipython3",
   "version": "3.10.9"
  }
 },
 "nbformat": 4,
 "nbformat_minor": 5
}
