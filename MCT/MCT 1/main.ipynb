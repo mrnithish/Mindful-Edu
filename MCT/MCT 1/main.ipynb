{
 "cells": [
  {
   "cell_type": "code",
   "execution_count": 3,
   "metadata": {},
   "outputs": [
    {
     "name": "stdout",
     "output_type": "stream",
     "text": [
      "[8, 2345, 1, 2, 3, 4, 5, 7]\n"
     ]
    }
   ],
   "source": [
    "#1- Question: Write a Python function that takes a list of numbers and returns\n",
    "#a new list containing only the unique elements. Use list methods like\n",
    "#append and a set to achieve this. Analyze the time complexity.\n",
    "\n",
    "x=[8,2345,1,2,3,1,4,1,4,5,7,]\n",
    "y=[]\n",
    "for i in x:\n",
    "    if i not in y:\n",
    "        y.append(i)\n",
    "print(y)"
   ]
  },
  {
   "cell_type": "markdown",
   "metadata": {},
   "source": [
    "Factorial\n",
    "Palindrome\n",
    "Fibnocci\n",
    "Greatest of three numbers\n",
    "Odd or even\n",
    "Check for prime\n",
    "Armstrong\n",
    "GCD \n",
    "LCM\n",
    "Sum of digits\n",
    "Reverse a number\n",
    "Count vowels and consonants"
   ]
  },
  {
   "cell_type": "code",
   "execution_count": null,
   "metadata": {},
   "outputs": [
    {
     "data": {
      "text/plain": [
       "'Factorial is not defined for negative numbers.'"
      ]
     },
     "metadata": {},
     "output_type": "display_data"
    }
   ],
   "source": [
    "# Factorial\n",
    "\n",
    "def fac(n):\n",
    "    s=1\n",
    "    for i in range(2,n+1):\n",
    "        s=s*i\n",
    "    return s\n",
    "\n",
    "fac(4)\n",
    "\n",
    "\n",
    "#recursion\n",
    "\n",
    "def fac(n):\n",
    "    if n < 0:\n",
    "        return \"Factorial is not defined for negative numbers.\"\n",
    "    elif n <= 1:\n",
    "        return 1\n",
    "    else:\n",
    "        return n*fac(n-1)\n",
    "    \n",
    "fac(-4)"
   ]
  },
  {
   "cell_type": "code",
   "execution_count": null,
   "metadata": {},
   "outputs": [
    {
     "name": "stdout",
     "output_type": "stream",
     "text": [
      "not palidrome\n"
     ]
    }
   ],
   "source": [
    "# Palindrome\n",
    "\n",
    "def pal(n):\n",
    "    r=n\n",
    "    s=0\n",
    "    while(n>0):\n",
    "        s=s*10+n%10\n",
    "        n//=10\n",
    "\n",
    "    if r == s:\n",
    "        return True\n",
    "    return False\n",
    "\n",
    "if(pal(1001)):\n",
    "    print('palindrome')\n",
    "else:\n",
    "    print('not palidrome')"
   ]
  },
  {
   "cell_type": "code",
   "execution_count": null,
   "metadata": {},
   "outputs": [
    {
     "name": "stdout",
     "output_type": "stream",
     "text": [
      "[0, 1, 1, 2, 3, 5, 8, 13, 21, 34, 55, 89]\n",
      "89\n"
     ]
    }
   ],
   "source": [
    "# Fibnocci\n",
    "\n",
    "def fib(n):\n",
    "    a =0\n",
    "    b =1\n",
    "    fibno = [a,b]\n",
    "    for i in range(n-1):\n",
    "        c=a+b\n",
    "        fibno.append(c)\n",
    "        a=b\n",
    "        b=c\n",
    "    return fibno\n",
    "\n",
    "print(fib(11))\n",
    "\n",
    "\n",
    "#recursion\n",
    "def fibo(n):\n",
    "    if n < 0:\n",
    "        return \"Fibonacci sequence is not defined for negative integers.\"\n",
    "    elif n <= 1:\n",
    "        return n\n",
    "    else:\n",
    "        return fibo(n-1) + fibo(n-2)\n",
    "\n",
    "# Example usage\n",
    "print(fibo(11))\n",
    "\n"
   ]
  },
  {
   "cell_type": "code",
   "execution_count": null,
   "metadata": {},
   "outputs": [
    {
     "name": "stdout",
     "output_type": "stream",
     "text": [
      "89\n"
     ]
    }
   ],
   "source": [
    "\n",
    "def f(n):\n",
    "    num0,num1 = 0,1\n",
    "    if n < 0 :\n",
    "        return \"not possible\"\n",
    "    elif( n<=1 ):\n",
    "        return 1\n",
    "    else:\n",
    "        for i in range(2,n+1):\n",
    "            res = num0+num1\n",
    "            num0=num1\n",
    "            num1=res\n",
    "\n",
    "        return res\n",
    "    \n",
    "\n",
    "print(f(11))"
   ]
  },
  {
   "cell_type": "code",
   "execution_count": 3,
   "metadata": {},
   "outputs": [
    {
     "name": "stdout",
     "output_type": "stream",
     "text": [
      "6 is greater\n"
     ]
    }
   ],
   "source": [
    "# Greatest of three numbers\n",
    "\n",
    "def maximum(a,b,c):\n",
    "    if (a>b and a>c):\n",
    "        return a\n",
    "    elif(c>b and c>a):\n",
    "        return c\n",
    "    else:\n",
    "        return b\n",
    "\n",
    "a,b,c = map(int,input('enter 3 numbers : ').split())\n",
    "\n",
    "print(f'{maximum(a,b,c)} is greater')\n",
    "\n"
   ]
  },
  {
   "cell_type": "code",
   "execution_count": null,
   "metadata": {},
   "outputs": [
    {
     "name": "stdout",
     "output_type": "stream",
     "text": [
      "5 is odd no.\n"
     ]
    }
   ],
   "source": [
    "# Odd or even\n",
    "\n",
    "def oe(n):\n",
    "    if n%2==0:\n",
    "        return 'even'\n",
    "    else:\n",
    "        return 'odd'\n",
    "\n",
    "n = 5 \n",
    "print(f'{n} is {oe(n)} no.')"
   ]
  },
  {
   "cell_type": "code",
   "execution_count": null,
   "metadata": {},
   "outputs": [
    {
     "name": "stdout",
     "output_type": "stream",
     "text": [
      "6 is not prime no.\n"
     ]
    }
   ],
   "source": [
    "# Check for prime\n",
    "\n",
    "def prime(n):\n",
    "    if n == 0 or n == 1 :\n",
    "        return 'not prime'\n",
    "    else:\n",
    "        for i in range(2,n//2):\n",
    "            if n%i==0:\n",
    "                return 'not prime'\n",
    "        return 'prime'\n",
    "    \n",
    "n =6\n",
    "print(f'{n} is {prime(n)} no.')"
   ]
  },
  {
   "cell_type": "code",
   "execution_count": 7,
   "metadata": {},
   "outputs": [
    {
     "name": "stdout",
     "output_type": "stream",
     "text": [
      "153 is Armstrong no.\n"
     ]
    }
   ],
   "source": [
    "# Armstrong\n",
    "\n",
    "def Arms(n):\n",
    "    r=n\n",
    "    s=0\n",
    "    l = len(str(n))\n",
    "    while(n>0):\n",
    "        s=s+(n%10)**l\n",
    "        n//=10\n",
    "    if r == s:\n",
    "        print(f'{r} is Armstrong no.')\n",
    "    else:\n",
    "        print(f'{r} is not a Armstrong no.')\n",
    "\n",
    "Arms(153)"
   ]
  },
  {
   "cell_type": "code",
   "execution_count": null,
   "metadata": {},
   "outputs": [
    {
     "name": "stdout",
     "output_type": "stream",
     "text": [
      "0 is Armstrong no\n",
      "1 is Armstrong no\n",
      "2 is Armstrong no\n",
      "3 is Armstrong no\n",
      "4 is Armstrong no\n",
      "5 is Armstrong no\n",
      "6 is Armstrong no\n",
      "7 is Armstrong no\n",
      "8 is Armstrong no\n",
      "9 is Armstrong no\n",
      "153 is Armstrong no\n",
      "370 is Armstrong no\n",
      "371 is Armstrong no\n",
      "407 is Armstrong no\n",
      "1634 is Armstrong no\n",
      "8208 is Armstrong no\n",
      "9474 is Armstrong no\n",
      "54748 is Armstrong no\n",
      "92727 is Armstrong no\n",
      "93084 is Armstrong no\n",
      "548834 is Armstrong no\n",
      "1741725 is Armstrong no\n",
      "4210818 is Armstrong no\n",
      "9800817 is Armstrong no\n",
      "9926315 is Armstrong no\n"
     ]
    }
   ],
   "source": [
    "# for i in range(10000000):\n",
    "#     n=i\n",
    "#     r=n\n",
    "#     s=0\n",
    "#     l = len(str(n))\n",
    "#     while(n>0):\n",
    "#         s=s+(n%10)**l\n",
    "#         n//=10\n",
    "#     if r == s:\n",
    "#         print(f'{r} is Armstrong no')"
   ]
  },
  {
   "cell_type": "code",
   "execution_count": 8,
   "metadata": {},
   "outputs": [
    {
     "name": "stdout",
     "output_type": "stream",
     "text": [
      "gcd of 13,25 is 1\n"
     ]
    }
   ],
   "source": [
    "# GCD\n",
    "\n",
    "# a , b = map(int, input('enter 2 numbers : ').split())\n",
    "\n",
    "a,b = 13,25\n",
    "\n",
    "result = min(a,b)\n",
    "while(result>0):\n",
    "\n",
    "    if (a%result == 0 and b%result == 0):\n",
    "        break\n",
    "    result-=1\n",
    "\n",
    "\n",
    "print(f'gcd of {a},{b} is {result}')"
   ]
  },
  {
   "cell_type": "code",
   "execution_count": null,
   "metadata": {},
   "outputs": [
    {
     "name": "stdout",
     "output_type": "stream",
     "text": [
      "lcm of 13,26 is 26.0\n"
     ]
    }
   ],
   "source": [
    "# lcm\n",
    "\n",
    "# a , b = map(int, input('enter 2 numbers : ').split())\n",
    "\n",
    "a,b = 13,26\n",
    "\n",
    "result = min(a,b)\n",
    "while(result>0):\n",
    "\n",
    "    if (a%result == 0 and b%result == 0):\n",
    "        break\n",
    "    result-=1\n",
    "\n",
    "r = a*b/result\n",
    "\n",
    "print(f'lcm of {a},{b} is {r}')"
   ]
  },
  {
   "cell_type": "code",
   "execution_count": null,
   "metadata": {},
   "outputs": [
    {
     "data": {
      "text/plain": [
       "13"
      ]
     },
     "metadata": {},
     "output_type": "display_data"
    }
   ],
   "source": [
    "\n",
    "# def gcd(a,b):\n",
    "#     if b == 0 :\n",
    "#         return a\n",
    "#     else:\n",
    "#         return gcd(b,a%b)\n",
    "    \n",
    "# a,b = 26,13\n",
    "\n",
    "# gcd(a,b)"
   ]
  },
  {
   "cell_type": "code",
   "execution_count": null,
   "metadata": {},
   "outputs": [
    {
     "name": "stdout",
     "output_type": "stream",
     "text": [
      "given : 143\n",
      "reversed : 8\n"
     ]
    }
   ],
   "source": [
    "# Sum of digits\n",
    "\n",
    "def sod(n):\n",
    "\n",
    "    s=0\n",
    "    while(n>0):\n",
    "        s=s+(n%10)\n",
    "        n//=10\n",
    "\n",
    "    return s\n",
    "\n",
    "n = int(input('Enter a number :'))\n",
    "\n",
    "print(f'given : {n}')\n",
    "print(f'reversed : {sod(n)}')"
   ]
  },
  {
   "cell_type": "code",
   "execution_count": null,
   "metadata": {},
   "outputs": [
    {
     "name": "stdout",
     "output_type": "stream",
     "text": [
      "reversed : 321\n"
     ]
    }
   ],
   "source": [
    "# Reverse a number\n",
    "\n",
    "\n",
    "def reverse(n):\n",
    "\n",
    "    r=n\n",
    "    s=0\n",
    "    while(n>0):\n",
    "        s=s*10+(n%10)\n",
    "        n//=10\n",
    "    return s\n",
    "\n",
    "\n",
    "n = int(input('Enter a number :'))\n",
    "\n",
    "print(f'given : {n}')\n",
    "print(f'reversed : {reverse(n)}')\n"
   ]
  },
  {
   "cell_type": "code",
   "execution_count": null,
   "metadata": {},
   "outputs": [
    {
     "name": "stdout",
     "output_type": "stream",
     "text": [
      " text : hfdsiogkjf \n",
      " vowels: 2 - ['i', 'o'] \n",
      " consonants: 8 - ['h', 'f', 'd', 's', 'g', 'k', 'j', 'f']\n"
     ]
    }
   ],
   "source": [
    "# Count vowels and consonants\n",
    "\n",
    "txt = input('Enter a text : ')\n",
    "\n",
    "V = ['a','e','i','o','u','A','E','I','O','U']\n",
    "\n",
    "vo=co=0\n",
    "v=[]\n",
    "c=[]\n",
    "for i in txt:\n",
    "    if i in V:\n",
    "       vo+=1\n",
    "       v.append(i)\n",
    "    else: \n",
    "        co+=1\n",
    "        c.append(i)\n",
    "\n",
    "print(f\" text : {txt} \\n vowels: {vo} - {v} \\n consonants: {co} - {c}\")\n",
    "\n"
   ]
  },
  {
   "cell_type": "code",
   "execution_count": 4,
   "metadata": {},
   "outputs": [
    {
     "name": "stdout",
     "output_type": "stream",
     "text": [
      "[1, 2, 3, 4, 5, 7, 8, 2345]\n"
     ]
    }
   ],
   "source": [
    "x=[8,2345,1,2,3,1,4,1,4,5,7,]\n",
    "y=set(x)\n",
    "print(list(y))"
   ]
  },
  {
   "cell_type": "markdown",
   "metadata": {},
   "source": [
    "### Bubble Sort "
   ]
  },
  {
   "cell_type": "code",
   "execution_count": 7,
   "metadata": {},
   "outputs": [
    {
     "name": "stdout",
     "output_type": "stream",
     "text": [
      "[78, 56, 45, 34, 12, 2]\n"
     ]
    }
   ],
   "source": [
    "#2- Question: Implement the Bubble Sort algorithm in Python for sorting a list\n",
    "#of numbers in descending order. Analyze its average and worst-case time\n",
    "#Time Complexity: - Average: O(nA2) - Nested loops compare elements in each\n",
    "#complexities.\n",
    "#pass, potentially making many swaps.\n",
    "#sorted lists.\n",
    "#- Worst: O(nA2) - Required for reverse-\n",
    "\n",
    "\n",
    "x=[12,34,56,78,45,2]\n",
    "\n",
    "def bubblesort(x):\n",
    "    n=len(x)\n",
    "    for i in range(0,n-1):  \n",
    "        for j in range(n-1):  \n",
    "            if(x[j]<x[j+1]):    \n",
    "                x[j],x[j+1] = x[j+1], x[j]  \n",
    "    return x\n",
    "print(bubblesort(x))"
   ]
  },
  {
   "cell_type": "markdown",
   "metadata": {},
   "source": [
    "### Selection Sort"
   ]
  },
  {
   "cell_type": "code",
   "execution_count": 10,
   "metadata": {},
   "outputs": [
    {
     "name": "stdout",
     "output_type": "stream",
     "text": [
      "['Q', 'a', 'e', 'q', 'z']\n"
     ]
    }
   ],
   "source": [
    "#3- Question: Implement the Selection Sort algorithm in Python for sorting a\n",
    "#list of strings in alphabetical order. Analyze its time complexity.\n",
    "#Time Complexity: - Average: O(nA2) - Similar nested loops for comparisons and\n",
    "#swaps. - Worst: O(nA2) - Consistent for any input order.\n",
    "\n",
    "x=['q','Q','a','z','e']\n",
    "\n",
    "def selectionSort(arr):\n",
    "    n=len(arr)\n",
    "    for i in range(n-1):\n",
    "        mini_index=i\n",
    "        for j in range(i+1,n):\n",
    "            if arr[j]<arr[mini_index]:\n",
    "                mini_index=j\n",
    "        arr[i],arr[mini_index]=arr[mini_index],arr[i]\n",
    "    return arr\n",
    "print(selectionSort(x))"
   ]
  },
  {
   "cell_type": "code",
   "execution_count": 13,
   "metadata": {},
   "outputs": [
    {
     "name": "stdout",
     "output_type": "stream",
     "text": [
      "[1, 3, 11, 14, 512] ['hi', 'nith']\n"
     ]
    }
   ],
   "source": [
    "### Insertion Sort\n",
    "#4- Question: Implement the Insertion Sort algorithm in Python for sorting a\n",
    "#list of mixed data types (numbers and strings) in ascending order. Analyze\n",
    "#its time complexity. Explain how Insertion Sort works intuitively.\n",
    "#Time Complexity: - Average: O(nA2) - Depends on the initial data order (more\n",
    "#swaps for unsorted lists). - Worst: O(nA2) - Required for reverse-sorted lists.\n",
    "\n",
    "## Separate\n",
    "x=[3,1,14,11,512]\n",
    "y=[\"nith\",\"hi\"]\n",
    "def insertionSort(arr):\n",
    "    n=len(arr)\n",
    "    for i in range(1,n):\n",
    "        insert_element=arr[i]\n",
    "        j=i-1\n",
    "        while(j>=0 and insert_element<arr[j]):\n",
    "            arr[j+1]=arr[j]\n",
    "            j-=1\n",
    "        arr[j+1]=insert_element\n",
    "    return arr\n",
    "insertionSort(y)\n",
    "insertionSort(x)\n",
    "print(x,y)"
   ]
  },
  {
   "cell_type": "code",
   "execution_count": 15,
   "metadata": {},
   "outputs": [
    {
     "name": "stdout",
     "output_type": "stream",
     "text": [
      "Sorted Array: [2, 3, 5, 7, 'apple', 'banana', 'grape', 'orange']\n"
     ]
    }
   ],
   "source": [
    "# mixed List\n",
    "def insertion_sort(arr):\n",
    "    for i in range(1, len(arr)):\n",
    "        key = arr[i]\n",
    "        j = i - 1\n",
    "        while j >= 0 and ((isinstance(arr[j], str) and isinstance(key, int)) or\n",
    "                          (isinstance(arr[j], int) and isinstance(key, int) and arr[j] > key) or\n",
    "                          (isinstance(arr[j], str) and isinstance(key, str) and arr[j] > key)):\n",
    "            arr[j + 1] = arr[j]\n",
    "            j -= 1\n",
    "        arr[j + 1] = key\n",
    "\n",
    "# Example usage:\n",
    "mixed_list = [5, 'apple', 2, 'banana', 7, 'orange', 3, 'grape']\n",
    "insertion_sort(mixed_list)\n",
    "print(\"Sorted Array:\", mixed_list)"
   ]
  },
  {
   "cell_type": "code",
   "execution_count": 6,
   "metadata": {},
   "outputs": [
    {
     "name": "stdout",
     "output_type": "stream",
     "text": [
      "Brand Audi\n",
      "Color Red\n",
      "Model 1241\n"
     ]
    }
   ],
   "source": [
    "#5- Question: Write a Python function that takes a dictionary and returns a\n",
    "#new dictionary containing only the key-value pairs where the values are\n",
    "#greater than a certain threshold. Analyze the time complexity.\n",
    "#Time Complexity: O(n) due to iterating through the dictionary once to check and\n",
    "#filter key-value pairs.\n",
    "\n",
    "ld={\"Brand\":\"Audi\",\"Color\":\"Red\",\"Model\":1241}\n",
    "for key,value in ld.items():\n",
    "    print(key,value)"
   ]
  },
  {
   "cell_type": "code",
   "execution_count": 14,
   "metadata": {},
   "outputs": [
    {
     "name": "stdout",
     "output_type": "stream",
     "text": [
      "{'b': 20, 'd': 25}\n"
     ]
    }
   ],
   "source": [
    "def filter_dict(input_dict, threshold):\n",
    "    filtered_dict = {}\n",
    "    for key, value in input_dict.items():\n",
    "        if value > threshold:\n",
    "            filtered_dict[key] = value\n",
    "    return filtered_dict\n",
    "\n",
    "# Example usage:\n",
    "x = {'a': 10, 'b': 20, 'c': 5, 'd': 25}\n",
    "threshold = 15\n",
    "result = filter_dict(x, threshold)\n",
    "print(result)\n"
   ]
  },
  {
   "cell_type": "code",
   "execution_count": 5,
   "metadata": {},
   "outputs": [
    {
     "name": "stdout",
     "output_type": "stream",
     "text": [
      "Audi\n",
      "Audi\n"
     ]
    }
   ],
   "source": [
    "#6- Question: How do you access the values of a dictionary in Python?\n",
    "#Explain the difference between get() and []l for accessing values,\n",
    "#considering potential errors.\n",
    "\n",
    "ld={\"Brand\":\"Audi\",\"Color\":\"Red\",\"Model\":1241}\n",
    "print(ld.get(\"Brand\"))\n",
    "print(ld[\"Brand\"])"
   ]
  },
  {
   "cell_type": "code",
   "execution_count": null,
   "metadata": {},
   "outputs": [],
   "source": [
    "# Use Bubble sort to sort the given array [12,34,56,78,45,2]\n",
    "\n",
    "x=[12,34,56,78,45,2]\n",
    "\n",
    "def bubblesort(x):\n",
    "    n=len(x)\n",
    "    for i in range(0,n-1):  \n",
    "        for j in range(n-1):  \n",
    "            if(x[j]>x[j+1]):    \n",
    "                x[j],x[j+1] = x[j+1], x[j]  \n",
    "    return x\n",
    "print(bubblesort(x))"
   ]
  },
  {
   "cell_type": "code",
   "execution_count": null,
   "metadata": {},
   "outputs": [],
   "source": [
    "# use selection sort to sort the given array [34,21,52,43,12,3]\n",
    "\n",
    "x=[34,21,52,43,12,3]\n",
    "\n",
    "def selectionSort(arr):\n",
    "    n=len(arr)\n",
    "    for i in range(n-1):\n",
    "        mini_index=i\n",
    "        for j in range(i+1,n):\n",
    "            if arr[j]<arr[mini_index]:\n",
    "                mini_index=j\n",
    "        arr[i],arr[mini_index]=arr[mini_index],arr[i]\n",
    "    return arr\n",
    "print(selectionSort(x))"
   ]
  },
  {
   "cell_type": "code",
   "execution_count": null,
   "metadata": {},
   "outputs": [],
   "source": [
    "# Adding and Retrieving Items (Fruit Basket):\n",
    "# Imagine you have a basket with different fruits. \n",
    "# Let's create a dictionary to keep track of them:  \n",
    "# Creating the Dictionary called fruits:  \n",
    "# add apple and orange with the count of 2 and 3:  \n",
    "# retrive the fruit apple:\n",
    "\n",
    "fruits = {}\n",
    "\n",
    "def add_fruit(fruit, count):\n",
    "    if fruit in fruits:\n",
    "        fruits[fruit] += count\n",
    "    else:\n",
    "        fruits[fruit] = count\n",
    "\n",
    "def get_fruit_count(fruit):\n",
    "    return fruits.get(fruit, 0)\n",
    "\n",
    "\n",
    "add_fruit('apple', 2)\n",
    "add_fruit('orange', 3)\n",
    "\n",
    "count_of_apple = get_fruit_count('apple')\n",
    "print(\"Count of apple:\", count_of_apple)\n",
    "\n",
    "\n",
    "\n",
    "print(\"Fruits in the basket:\")\n",
    "for fruit, count in fruits.items():\n",
    "    print(fruit, \":\", count)"
   ]
  },
  {
   "cell_type": "code",
   "execution_count": null,
   "metadata": {},
   "outputs": [],
   "source": [
    "# Counting Letters (Simple Histogram):\n",
    "# Let's count the frequency of letters in a short word:\n",
    "# Creating the Dictionary:\n",
    "# Counting Letters:\n",
    "# Checking Counts:\n",
    "\n",
    "word=input(\"Enter the String: \")\n",
    "\n",
    "let_counts = {}\n",
    "\n",
    "\n",
    "for letter in word:\n",
    "    if letter in let_counts:\n",
    "        let_counts[letter] += 1\n",
    "    else:\n",
    "        let_counts[letter] = 1\n",
    "\n",
    "print(\"Letter counts:\")\n",
    "for letter, count in let_counts.items():\n",
    "    print(f\"{letter}: {count}\")"
   ]
  },
  {
   "cell_type": "code",
   "execution_count": null,
   "metadata": {},
   "outputs": [],
   "source": [
    "# Use Bubble sort to sort the given array [12,34,56,78,45,2]\n",
    "x=[12,34,56,78,45,2]\n",
    "\n",
    "def bubblesort(x):\n",
    "    n=len(x)\n",
    "    for i in range(0,n-1):  \n",
    "        for j in range(n-1):  \n",
    "            if(x[j]>x[j+1]):    \n",
    "                x[j],x[j+1] = x[j+1], x[j]  \n",
    "    return x\n",
    "print(bubblesort(x))\n",
    "\n",
    "            \n",
    "# use selection sort to sort the given array [34,21,52,43,12,3]\n",
    "x=[34,21,52,43,12,3]\n",
    "\n",
    "def selectionSort(arr):\n",
    "    n=len(arr)\n",
    "    for i in range(n-1):\n",
    "        mini_index=i\n",
    "        for j in range(i+1,n):\n",
    "            if arr[j]<arr[mini_index]:\n",
    "                mini_index=j\n",
    "        arr[i],arr[mini_index]=arr[mini_index],arr[i]\n",
    "    return arr\n",
    "print(selectionSort(x))\n",
    "# Adding and Retrieving Items (Fruit Basket):\n",
    "# Imagine you have a basket with different fruits. \n",
    "# Let's create a dictionary to keep track of them:  \n",
    "# Creating the Dictionary called fruits:  \n",
    "# add apple and orange with the count of 2 and 3:  \n",
    "# retrive the fruit apple:\n",
    "fruits = {}\n",
    "\n",
    "def add_fruit(fruit, count):\n",
    "    if fruit in fruits:\n",
    "        fruits[fruit] += count\n",
    "    else:\n",
    "        fruits[fruit] = count\n",
    "\n",
    "def get_fruit_count(fruit):\n",
    "    return fruits.get(fruit, 0)\n",
    "\n",
    "\n",
    "add_fruit('apple', 2)\n",
    "add_fruit('orange', 3)\n",
    "\n",
    "count_of_apple = get_fruit_count('apple')\n",
    "print(\"Count of apple:\", count_of_apple)\n",
    "\n",
    "\n",
    "\n",
    "print(\"Fruits in the basket:\")\n",
    "for fruit, count in fruits.items():\n",
    "    print(fruit, \":\", count)\n",
    "\n",
    "# Counting Letters (Simple Histogram):\n",
    "# Let's count the frequency of letters in a short word:\n",
    "# Creating the Dictionary:\n",
    "# Counting Letters:\n",
    "# Checking Counts:\n",
    "word=input(\"Enter the String: \")\n",
    "\n",
    "let_counts = {}\n",
    "\n",
    "\n",
    "for letter in word:\n",
    "    if letter in let_counts:\n",
    "        let_counts[letter] += 1\n",
    "    else:\n",
    "        let_counts[letter] = 1\n",
    "\n",
    "print(\"Letter counts:\")\n",
    "for letter, count in let_counts.items():\n",
    "    print(f\"{letter}: {count}\")\n"
   ]
  },
  {
   "cell_type": "code",
   "execution_count": null,
   "metadata": {},
   "outputs": [
    {
     "name": "stdout",
     "output_type": "stream",
     "text": [
      "s\n"
     ]
    }
   ],
   "source": [
    "#palindrome string\n",
    "def palindrome(string):\n",
    "    return string==string[::-1]\n",
    "string=\"dad\"\n",
    "answer=palindrome(string)\n",
    "if answer:\n",
    "    print(\"s\")\n",
    "else:\n",
    "    print(\"no\")"
   ]
  },
  {
   "cell_type": "code",
   "execution_count": null,
   "metadata": {},
   "outputs": [
    {
     "name": "stdout",
     "output_type": "stream",
     "text": [
      "6 does not exist in the list data\n",
      "Modified list: [26, 15, 13, 12, 11, 0]\n",
      "Sublist: [11, 12]\n",
      "Reversed list: [26, 15, 13, 12, 11, 0]\n"
     ]
    }
   ],
   "source": [
    "def my_list_operations(data):\n",
    "    # Create a list\n",
    "    data.extend([11, 12, 13, 15, 26])\n",
    "    \n",
    "    # Add elements\n",
    "    data.append(18)  # Append 18 to the end\n",
    "    data.insert(0, 0)  # Prepend 0 to the beginning\n",
    "    \n",
    "    # Remove elements\n",
    "    if 3 in data:\n",
    "        data.remove(3)  # Remove 3 if it exists\n",
    "    data.pop()  # Remove the last element\n",
    "    \n",
    "    # Slice operation\n",
    "    sublist = data[1:3]\n",
    "    \n",
    "    # Reverse\n",
    "    data.reverse()\n",
    "    \n",
    "    # Check for elements\n",
    "    exists_6 = 6 in data\n",
    "    if exists_6:\n",
    "        print(\"6 exists in the list data\")\n",
    "    else:\n",
    "        print(\"6 does not exist in the list data\")\n",
    "    \n",
    "    # Print the results\n",
    "    print(\"Modified list:\", data)\n",
    "    print(\"Sublist:\", sublist)\n",
    "    print(\"Reversed list:\", data)\n",
    "\n",
    "# Test the function\n",
    "my_list = []\n",
    "my_list_operations(my_list)\n"
   ]
  },
  {
   "cell_type": "code",
   "execution_count": null,
   "metadata": {},
   "outputs": [
    {
     "name": "stdout",
     "output_type": "stream",
     "text": [
      "the no of vowels: 3\n",
      "the no of consonants: 5\n"
     ]
    }
   ],
   "source": [
    "str=\"sundhar\"\n",
    "str.islower()\n",
    "vowel_count=0\n",
    "consonant_count=0\n",
    "vowel={'a','e','i','o','u'}\n",
    "for char in str:\n",
    "    if char.isalpha():\n",
    "        if char in vowel:\n",
    "            vowel_count+=1\n",
    "        else:\n",
    "            consonant_count+=1\n",
    "print(\"the no of vowels:\",vowel_count)\n",
    "print(\"the no of consonants:\",consonant_count)"
   ]
  },
  {
   "cell_type": "code",
   "execution_count": null,
   "metadata": {},
   "outputs": [
    {
     "ename": "NameError",
     "evalue": "name 'data' is not defined",
     "output_type": "error",
     "traceback": [
      "\u001b[1;31m---------------------------------------------------------------------------\u001b[0m\n",
      "\u001b[1;31mNameError\u001b[0m                                 Traceback (most recent call last)\n",
      "Cell \u001b[1;32mIn[4], line 5\u001b[0m\n",
      "\u001b[0;32m      3\u001b[0m     data\u001b[38;5;241m.\u001b[39mappend(\u001b[38;5;241m12\u001b[39m)\n",
      "\u001b[0;32m      4\u001b[0m     data\u001b[38;5;241m.\u001b[39minsert(\u001b[38;5;241m0\u001b[39m,\u001b[38;5;241m0\u001b[39m)\n",
      "\u001b[1;32m----> 5\u001b[0m exists_6\u001b[38;5;241m=\u001b[39m\u001b[38;5;241m6\u001b[39m \u001b[38;5;129;01min\u001b[39;00m \u001b[43mdata\u001b[49m\n",
      "\u001b[0;32m      6\u001b[0m \u001b[38;5;28;01mif\u001b[39;00m exists_6:\n",
      "\u001b[0;32m      7\u001b[0m     \u001b[38;5;28mprint\u001b[39m(\u001b[38;5;124m\"\u001b[39m\u001b[38;5;124m6 exists\u001b[39m\u001b[38;5;124m\"\u001b[39m)\n",
      "\n",
      "\u001b[1;31mNameError\u001b[0m: name 'data' is not defined"
     ]
    }
   ],
   "source": [
    "def list_operations(data):\n",
    "    data.extend([11,12,14,56,78])\n",
    "    data.append(12)\n",
    "    data.insert(0,0)\n",
    "exists_6=6 in data\n",
    "if exists_6:\n",
    "    print(\"6 exists\")\n",
    "else:\n",
    "    print(\"does not exists\")\n",
    "sublist=data[1:3]\n",
    "data.reverse\n",
    "if 3 in data:\n",
    "    data.remove(3)\n",
    "    data.pop()\n",
    "print(\"modified list:\",data)\n",
    "print(\"sublist:\",sublist)\n",
    "print(\"reversed list:\",data)\n",
    "list=[]\n",
    "list_operations(data)\n",
    "\n"
   ]
  },
  {
   "cell_type": "code",
   "execution_count": null,
   "metadata": {},
   "outputs": [
    {
     "name": "stdout",
     "output_type": "stream",
     "text": [
      "{'c': 30, 'd': 40}\n"
     ]
    }
   ],
   "source": [
    "def dict(dictionary, threshold):\n",
    "    dict = {}\n",
    "    for key, value in dictionary.items():\n",
    "        if value > threshold:\n",
    "           dict[key] = value\n",
    "    return dict\n",
    "dictionary={'a':10,'b':20,'c':30,'d':40}\n",
    "threshold=25\n",
    "print(dict(dictionary, threshold))\n"
   ]
  },
  {
   "cell_type": "code",
   "execution_count": null,
   "metadata": {},
   "outputs": [
    {
     "name": "stdout",
     "output_type": "stream",
     "text": [
      "* * * * * * * * \n",
      "*             * \n",
      "*             * \n",
      "*             * \n",
      "* * * * * * * * \n"
     ]
    }
   ],
   "source": [
    "#get row and column \n",
    "rows=int(input(\"Enter the rows:\"))\n",
    "col=int(input(\"Enter the columns:\"))\n",
    "#use for loop\n",
    "for i in range(rows):\n",
    "    for j in range(col):\n",
    "        #if the value of i and j and rows-i,col-i equals to 0 then print *\n",
    "        if i == 0 or j == 0 or i == rows-1 or j == col-1:\n",
    "            print('*', end = \" \")\n",
    "        \n",
    "        #print \"\"\n",
    "        else:\n",
    "            print(' ', end = ' ')\n",
    "    print()"
   ]
  },
  {
   "cell_type": "code",
   "execution_count": null,
   "metadata": {},
   "outputs": [
    {
     "name": "stdout",
     "output_type": "stream",
     "text": [
      " * * * * \n",
      "  * * * \n",
      "   * * \n",
      "    * \n",
      "\n",
      "\n",
      "\n",
      "\n"
     ]
    }
   ],
   "source": [
    "\n",
    "rows= int(input(\" enter a number : \"))\n",
    "k = rows \n",
    "for i in range(rows):\n",
    "    for j in range(k):\n",
    "        print(\" \"*j,'* '*k)\n",
    "        k-=1\n",
    "    print()"
   ]
  },
  {
   "cell_type": "code",
   "execution_count": null,
   "metadata": {},
   "outputs": [
    {
     "name": "stdout",
     "output_type": "stream",
     "text": [
      "[1, 2, 3, 4]\n",
      "[1, 2, 3, 4]\n"
     ]
    }
   ],
   "source": [
    "# 1- Question: Write a Python function that takes a list of numbers and returns\n",
    "# a new list containing only the unique elements. Use list methods like\n",
    "# append and a set to achieve this. Analyze the time complexity.\n",
    "# Complexity: O(n) due to iterating through the list once and using a set for fast\n",
    "# membership checks (average case).\n",
    "\n",
    "\n",
    "a = [1,2,3,4,3,3,4,2]\n",
    "\n",
    "#set method\n",
    "print(list(set(a)))\n",
    "\n",
    "#list method\n",
    "unique = []\n",
    "for i in a:\n",
    "    if i not in unique:\n",
    "        unique.append(i)\n",
    "\n",
    "print(unique)"
   ]
  },
  {
   "cell_type": "code",
   "execution_count": null,
   "metadata": {},
   "outputs": [
    {
     "name": "stdout",
     "output_type": "stream",
     "text": [
      "[4, 3, 3, 3, 2, 2, 1, 1]\n"
     ]
    }
   ],
   "source": [
    "# Sorting Algorithms:\n",
    "# Bubble Sort:\n",
    "# 2- Question: Implement the Bubble Sort algorithm in Python for sorting a list\n",
    "# of numbers in descending order. Analyze its average and worst-case time\n",
    "# complexities.\n",
    "# Time Complexity: - Average: O(n^2) - Nested loops compare elements in each\n",
    "# pass, potentially making many swaps. - Worst: O(n^2) - Required for reversesorted lists.\n",
    "\n",
    "a = [ 4, 3, 3,1, 3, 2, 2, 1]\n",
    "n = len(a)\n",
    "\n",
    "for i in range(n-1):\n",
    "    f = 0\n",
    "    for j in range(n-i-1):\n",
    "        if a[j]<a[j+1]:\n",
    "            a[j],a[j+1] = a[j+1],a[j]\n",
    "            f=1\n",
    "    if f ==0 :\n",
    "        break\n",
    "\n",
    "print(a)\n",
    "\n",
    "\n"
   ]
  },
  {
   "cell_type": "code",
   "execution_count": null,
   "metadata": {},
   "outputs": [
    {
     "name": "stdout",
     "output_type": "stream",
     "text": [
      "['a', 'a', 'd', 'd', 'f', 'n', 'w', 'z']\n"
     ]
    }
   ],
   "source": [
    "# Selection Sort:\n",
    "# 3- Question: Implement the Selection Sort algorithm in Python for sorting a\n",
    "# list of strings in alphabetical order. Analyze its time complexity.\n",
    "# Time Complexity: - Average: O(n^2) - Similar nested loops for comparisons and\n",
    "# swaps. - Worst: O(n^2) - Consistent for any input order.\n",
    "\n",
    "a = ['z','f','w','d','n','a','a','d']\n",
    "n = len(a)\n",
    "\n",
    "for i in range(n-1):\n",
    "    mid = i\n",
    "    for j in range(i+1,n):\n",
    "        if ord(a[j])<ord(a[mid]):\n",
    "            a[j],a[mid] = a[mid],a[j]\n",
    "\n",
    "print(a)\n",
    "\n"
   ]
  },
  {
   "cell_type": "code",
   "execution_count": null,
   "metadata": {},
   "outputs": [
    {
     "name": "stdout",
     "output_type": "stream",
     "text": [
      "[2, 3, 4, 'a', 'b', 'z']\n"
     ]
    }
   ],
   "source": [
    "# Insertion Sort:\n",
    "# 4- Question: Implement the Insertion Sort algorithm in Python for sorting a\n",
    "# list of mixed data types (numbers and strings) in ascending order. Analyze\n",
    "# its time complexity. Explain how Insertion Sort works intuitively.\n",
    "# Time Complexity: - Average: O(n^2) - Depends on the initial data order (more\n",
    "# swaps for unsorted lists). - Worst: O(n^2) - Required for reverse-sorted lists.\n",
    "# Explanation: Insertion Sort iterates through the list, inserting each element into\n",
    "# its correct position in the already sorted sub-list at the beginning.\n",
    "\n",
    "\n",
    "a = [4, 'z', 2, 'a', 3, 'b']\n",
    "ints,str=[],[]\n",
    "\n",
    "def insertion_intsort(a):\n",
    "    n = len(a)\n",
    "    for i in range(1,n):\n",
    "        j=i-1\n",
    "        insert = a[i]\n",
    "        while(j>=0 and a[j]>insert):\n",
    "            a[j+1] = a[j]\n",
    "            j-=1\n",
    "\n",
    "        a[j+1]=insert\n",
    "\n",
    "    return a\n",
    "\n",
    "def insertion_strsort(a):\n",
    "    n = len(a)\n",
    "    for i in range(1,n):\n",
    "        j=i-1\n",
    "        insert = a[i]\n",
    "        while(j>=0 and ord(a[j])>ord(insert)):\n",
    "            a[j+1] = a[j]\n",
    "            j-=1\n",
    "\n",
    "        a[j+1]=insert\n",
    "\n",
    "    return a\n",
    "\n",
    "for i in a:\n",
    "    if type(i)==int:\n",
    "        ints.append(i)\n",
    "    else: \n",
    "        str.append(i)\n",
    "\n",
    "print(insertion_intsort(ints)+insertion_strsort(str))\n"
   ]
  },
  {
   "cell_type": "code",
   "execution_count": null,
   "metadata": {},
   "outputs": [],
   "source": [
    "# Basic Dictionary Questions:\n",
    "# 5- Question: Write a Python function that takes a dictionary and returns a\n",
    "# new dictionary containing only the key-value pairs where the values are\n",
    "# greater than a certain threshold. Analyze the time complexity.\n",
    "# Time Complexity: O(n) due to iterating through the dictionary once to check and\n",
    "# filter key-value pairs.\n",
    "\n",
    "\n"
   ]
  },
  {
   "cell_type": "code",
   "execution_count": null,
   "metadata": {},
   "outputs": [
    {
     "name": "stdout",
     "output_type": "stream",
     "text": [
      "1\n",
      "None\n",
      "1\n"
     ]
    },
    {
     "ename": "KeyError",
     "evalue": "'z'",
     "output_type": "error",
     "traceback": [
      "\u001b[1;31m---------------------------------------------------------------------------\u001b[0m\n",
      "\u001b[1;31mKeyError\u001b[0m                                  Traceback (most recent call last)\n",
      "Cell \u001b[1;32mIn[83], line 12\u001b[0m\n",
      "\u001b[0;32m      8\u001b[0m \u001b[38;5;28mprint\u001b[39m(dic\u001b[38;5;241m.\u001b[39mget(\u001b[38;5;124m'\u001b[39m\u001b[38;5;124mz\u001b[39m\u001b[38;5;124m'\u001b[39m))\n",
      "\u001b[0;32m     11\u001b[0m \u001b[38;5;28mprint\u001b[39m(dic[\u001b[38;5;124m'\u001b[39m\u001b[38;5;124ma\u001b[39m\u001b[38;5;124m'\u001b[39m])\n",
      "\u001b[1;32m---> 12\u001b[0m \u001b[38;5;28mprint\u001b[39m(\u001b[43mdic\u001b[49m\u001b[43m[\u001b[49m\u001b[38;5;124;43m'\u001b[39;49m\u001b[38;5;124;43mz\u001b[39;49m\u001b[38;5;124;43m'\u001b[39;49m\u001b[43m]\u001b[49m) \u001b[38;5;66;03m# <- This results key error\u001b[39;00m\n",
      "\u001b[0;32m     14\u001b[0m \u001b[38;5;66;03m# so to prevent this, get() method is used.\u001b[39;00m\n",
      "\n",
      "\u001b[1;31mKeyError\u001b[0m: 'z'"
     ]
    }
   ],
   "source": [
    "# 6- Question: How do you access the values of a dictionary in Python?\n",
    "# Explain the difference between get() and [] for accessing values,\n",
    "# considering potential errors.\n",
    "\n",
    "dic = {'a' : 1,'b' : 1}\n",
    "\n",
    "print(dic.get('a'))\n",
    "print(dic.get('z'))\n",
    "\n",
    "\n",
    "print(dic['a'])\n",
    "print(dic['z']) # <- This results key error\n",
    "\n",
    "# so to prevent this, get() method is used."
   ]
  },
  {
   "cell_type": "markdown",
   "metadata": {},
   "source": [
    "# 1- Print a Square of stars"
   ]
  },
  {
   "cell_type": "code",
   "execution_count": null,
   "metadata": {},
   "outputs": [
    {
     "name": "stdout",
     "output_type": "stream",
     "text": [
      "* * * * * \n",
      "* * * * * \n",
      "* * * * * \n",
      "* * * * * \n",
      "* * * * * \n"
     ]
    }
   ],
   "source": [
    "def printsquarestars(rows):\n",
    "    for i in range(rows):\n",
    "        print('* '*rows)\n",
    "rows=int(input(\"Enter the Number of rows:\"))\n",
    "printsquarestars(rows)\n"
   ]
  },
  {
   "cell_type": "code",
   "execution_count": null,
   "metadata": {},
   "outputs": [
    {
     "name": "stdout",
     "output_type": "stream",
     "text": [
      "* * * * * \n",
      "* * * * * \n",
      "* * * * * \n",
      "* * * * * \n",
      "* * * * * \n"
     ]
    }
   ],
   "source": [
    "rows=int(input(\"Enter the Number of rows:\"))\n",
    "for i in range(rows):\n",
    "    for j in range(rows):\n",
    "        print('*',end = \" \")\n",
    "    print()"
   ]
  },
  {
   "cell_type": "markdown",
   "metadata": {},
   "source": [
    "# 2- Print a Right Triangle Pattern of Stars"
   ]
  },
  {
   "cell_type": "code",
   "execution_count": null,
   "metadata": {},
   "outputs": [
    {
     "name": "stdout",
     "output_type": "stream",
     "text": [
      "\n",
      "* \n",
      "* * \n",
      "* * * \n",
      "* * * * \n"
     ]
    }
   ],
   "source": [
    "def print_rtp(rows):\n",
    "    for i in range(rows):\n",
    "        print('* '*i)\n",
    "\n",
    "print_rtp(5)"
   ]
  },
  {
   "cell_type": "markdown",
   "metadata": {},
   "source": [
    "# 3- Print a Hollow Square Pattern of stars\n"
   ]
  },
  {
   "cell_type": "code",
   "execution_count": null,
   "metadata": {},
   "outputs": [
    {
     "name": "stdout",
     "output_type": "stream",
     "text": [
      "* * * * * \n",
      "*       * \n",
      "*       * \n",
      "*       * \n",
      "* * * * * \n"
     ]
    }
   ],
   "source": [
    "def print_hsp(size):\n",
    "  for i in range(size):\n",
    "    for j in range(size):\n",
    "        if i == 0 or i == size - 1 or j == 0 or j == size - 1:\n",
    "            print(\"* \", end=\"\")\n",
    "        else:\n",
    "            print(\"  \", end=\"\")\n",
    "    print()\n",
    "\n",
    "\n",
    "print_hsp(5)"
   ]
  },
  {
   "cell_type": "markdown",
   "metadata": {},
   "source": [
    "# 4- Print a Staircase Pattern of stars"
   ]
  },
  {
   "cell_type": "code",
   "execution_count": null,
   "metadata": {},
   "outputs": [
    {
     "name": "stdout",
     "output_type": "stream",
     "text": [
      "*  *  \n",
      "*  *  \n",
      "*  *  *  \n",
      "*  *  *  \n",
      "*  *  *  *  \n",
      "*  *  *  *  \n"
     ]
    }
   ],
   "source": [
    "def print_sp(rows):\n",
    "    for i in range(2,rows):\n",
    "        print('*  '*i)\n",
    "        print('*  '*i)\n",
    "\n",
    "print_sp(int(input(\"Enter number of rows: \")))\n",
    "\n"
   ]
  },
  {
   "cell_type": "markdown",
   "metadata": {},
   "source": [
    "2 * 2  = 4 \n",
    "2 * 0 = 0\n",
    "2 * 10 = 20"
   ]
  },
  {
   "cell_type": "code",
   "execution_count": null,
   "metadata": {},
   "outputs": [
    {
     "name": "stdout",
     "output_type": "stream",
     "text": [
      "5 x 1 = 5\n",
      "5 x 2 = 10\n",
      "5 x 3 = 15\n",
      "5 x 4 = 20\n",
      "5 x 5 = 25\n",
      "5 x 6 = 30\n",
      "5 x 7 = 35\n",
      "5 x 8 = 40\n",
      "5 x 9 = 45\n",
      "5 x 10 = 50\n"
     ]
    }
   ],
   "source": [
    "num = int(input(\"Enter a number to print its multiplication table: \"))\n",
    "m = int(input(\"Enter the number multiples: \"))\n",
    "for i in range(1, m+1):\n",
    "    print(num, \"x\", i, \"=\", num * i)\n"
   ]
  },
  {
   "cell_type": "markdown",
   "metadata": {},
   "source": [
    "# 5- Print a Butterfly Pattern of Stars "
   ]
  },
  {
   "cell_type": "code",
   "execution_count": null,
   "metadata": {},
   "outputs": [
    {
     "name": "stdout",
     "output_type": "stream",
     "text": [
      "*        *\n",
      "**      **\n",
      "***    ***\n",
      "****  ****\n",
      "**********\n",
      "****  ****\n",
      "***    ***\n",
      "**      **\n",
      "*        *\n"
     ]
    }
   ],
   "source": [
    "def print_Bp(r):\n",
    "  for i in range(1, r+1):\n",
    "      print(\"*\"*i, end=\"\")\n",
    "      print(\" \"*(r-i)*2, end=\"\")\n",
    "      print(\"*\"*i)\n",
    "\n",
    "  for i in range(r-1,0,-1):\n",
    "      print(\"*\"*i, end=\"\")\n",
    "      print(\" \"*(r-i)*2, end=\"\")\n",
    "      print(\"*\"*i)    \n",
    "\n",
    "print_Bp(int(input(\"Enter number of rows: \")))"
   ]
  },
  {
   "cell_type": "code",
   "execution_count": null,
   "metadata": {},
   "outputs": [
    {
     "name": "stdout",
     "output_type": "stream",
     "text": [
      "{'p': 2, 'y': 1, 't': 1, 'h': 1, 'o': 2, 'n': 2, ' ': 1, 'r': 2, 'g': 2, 'a': 1, 'm': 2, 'i': 1}\n"
     ]
    }
   ],
   "source": [
    "# Write a Python program that counts the frequency of each character in a given string.\n",
    "# Test Case 1:\n",
    "# Input: \"hello\"\n",
    "# Expected Output: {'h': 1, 'e': 1, 'l': 2, 'o': 1}\n",
    "# Test Case 2:\n",
    "# Input: \"python programming\"\n",
    "# Expected Output: {'p': 2, 'y': 1, 't': 1, 'h': 1, 'o': 1, 'n': 2, ' ': 1, 'r': 2, 'g': 2, 'a': 1, 'm': 2, 'i': 1}\n",
    "\n",
    "\n",
    "txt = input()\n",
    "di = {}\n",
    "\n",
    "for i in txt:\n",
    "    di.update({i: txt.count(i)})\n",
    "\n",
    "print(di)"
   ]
  },
  {
   "cell_type": "code",
   "execution_count": null,
   "metadata": {},
   "outputs": [
    {
     "name": "stdout",
     "output_type": "stream",
     "text": [
      "666666\n",
      "55555\n",
      "4444\n",
      "333\n",
      "22\n",
      "1\n"
     ]
    }
   ],
   "source": [
    "# a- Inverted Pyramid of Descending Numbers\n",
    "# Description:\n",
    "# Write a Python program to generate an inverted pyramid pattern of descending numbers.\n",
    "# The pattern should start with the given number and decrease in each row until reaching 1.\n",
    "# Each row should display the same number, and the next row should have the number\n",
    "# decreased by 1.\n",
    "\n",
    "\n",
    "n = int(input(\" enter the number : \"))\n",
    "\n",
    "for i in range(n,0,-1):\n",
    "    print(str(i)*i)"
   ]
  },
  {
   "cell_type": "code",
   "execution_count": null,
   "metadata": {},
   "outputs": [
    {
     "name": "stdout",
     "output_type": "stream",
     "text": [
      "\n",
      "1\n",
      "21\n",
      "321\n",
      "4321\n",
      "54321\n",
      "654321\n"
     ]
    }
   ],
   "source": [
    "# a- Numeric triangle\n",
    "# Create a numeric pattern in the form of a triangle using Python. Each row should display a\n",
    "# sequence of decreasing numbers, starting from a specified range. The pattern is printed\n",
    "# column-wise, where each column starts with a value based on the row number.\n",
    "\n",
    "\n",
    "num = int(input(\" enter a number : \"))\n",
    "\n",
    "for i in range(num):\n",
    "    while(i>0):\n",
    "        print(i, end ='')\n",
    "        i-=1\n",
    "    print()"
   ]
  },
  {
   "cell_type": "markdown",
   "metadata": {},
   "source": [
    "part c"
   ]
  },
  {
   "cell_type": "code",
   "execution_count": null,
   "metadata": {},
   "outputs": [],
   "source": [
    "# List Operations:\n",
    "# 1- Create a list using the following values\n",
    "# ‘[1,2,3,4,5]’\n",
    "# 2- Add elements to the List:\n",
    "# Value = ‘6’\n",
    "# 3- Add elements at the start of the List:\n",
    "# Value = ‘0’\n",
    "# 4- Remove an element from the list using pop ():\n",
    "# Value = ‘3’\n",
    "# 5- Remove the last element from the list using pop ():\n",
    "# 6- Remove an element from the list using\n",
    "# remove ():\n",
    "# Value = ‘4’\n",
    "# 7- Use slice operation to get a subset of the list\n",
    "# Get a subset of the list from index 1 to 3.\n",
    "# 8- Reverse the list using loops:\n",
    "# 9- Implementing the singly linked list:\n",
    "# Implement a singly linked list and add value ‘7’ at the start\n",
    "# 10-Check if value exists:\n",
    "# Value = ‘4’\n",
    "\n",
    "\n",
    "\n",
    "\n",
    "\n"
   ]
  },
  {
   "cell_type": "code",
   "execution_count": null,
   "metadata": {},
   "outputs": [
    {
     "name": "stdout",
     "output_type": "stream",
     "text": [
      "[1, 2, 3, 4, 5, 6]\n",
      "[0, 1, 2, 3, 4, 5, 6]\n",
      "[0, 1, 2, 4, 5, 6]\n",
      "[0, 1, 2, 4, 5]\n",
      "[0, 1, 2, 5]\n",
      "[0, 1, 2, 5]\n",
      "5 2 1 0 "
     ]
    }
   ],
   "source": [
    "li = [1,2,3,4,5]\n",
    "\n",
    "li.append(6)\n",
    "print(li)\n",
    "li.insert(0,0)\n",
    "print(li)\n",
    "li.pop(3)\n",
    "print(li)\n",
    "li.pop()\n",
    "print(li)\n",
    "li.remove(4)\n",
    "print(li)\n",
    "li[1:4]\n",
    "print(li)\n",
    "for i in range(len(li)-1,-1,-1):  #reverse\n",
    "    print(li[i], end =\" \")\n"
   ]
  },
  {
   "cell_type": "markdown",
   "metadata": {},
   "source": [
    "# 5 MARK QUESTIONS  MIT 2"
   ]
  },
  {
   "cell_type": "markdown",
   "metadata": {},
   "source": [
    "1- Factorial and Fibonacci:\n",
    "\n",
    "Write a function to calculate the factorial of a number.\n",
    "Write a function to generate the nth Fibonacci number."
   ]
  },
  {
   "cell_type": "code",
   "execution_count": null,
   "metadata": {},
   "outputs": [
    {
     "name": "stdout",
     "output_type": "stream",
     "text": [
      "120\n"
     ]
    }
   ],
   "source": [
    "# factorial \n",
    "def factorial(n):\n",
    "    if n<0:\n",
    "        return \"we can't find factorial for negative values\"\n",
    "    elif (n<=1):\n",
    "        return 1\n",
    "    else: \n",
    "        return n*factorial(n-1)\n",
    "    \n",
    "\n",
    "n = int(input(\"enter a value : \"))\n",
    "print(factorial(n))"
   ]
  },
  {
   "cell_type": "code",
   "execution_count": null,
   "metadata": {},
   "outputs": [
    {
     "name": "stdout",
     "output_type": "stream",
     "text": [
      "89\n"
     ]
    }
   ],
   "source": [
    "#fibonacci number\n",
    "def fibonacci(n):\n",
    "    a,b = 0,1\n",
    "\n",
    "    for i in range(n):\n",
    "        a,b = b,a+b\n",
    "    return a\n",
    "\n",
    "\n",
    "n = int(input(\"enter a value : \"))\n",
    "print(fibonacci(n))"
   ]
  },
  {
   "cell_type": "markdown",
   "metadata": {},
   "source": [
    "2-Palindrome and Armstrong:\n",
    "\n",
    "Write a function to check if a string is a palindrome.\n",
    "Can you modify the palindrome function to consider punctuation and spaces (e.g., \"Madam, I'm Adam\" is a palindrome)?"
   ]
  },
  {
   "cell_type": "code",
   "execution_count": null,
   "metadata": {},
   "outputs": [
    {
     "name": "stdout",
     "output_type": "stream",
     "text": [
      "'adam, I'm Adam\" is a palindrome' is a not palindrome. \n"
     ]
    }
   ],
   "source": [
    "def palindrome(txt):\n",
    "    if txt == txt[::-1]:\n",
    "        return True\n",
    "    return False\n",
    "\n",
    "txt = input(\"enter a text value : \")\n",
    "s = palindrome(txt)\n",
    "if s:\n",
    "    print(f\"'{txt}' is a palindrome. \")\n",
    "else:\n",
    "    print(f\"'{txt}' is a not palindrome. \")"
   ]
  },
  {
   "cell_type": "code",
   "execution_count": null,
   "metadata": {},
   "outputs": [
    {
     "name": "stdout",
     "output_type": "stream",
     "text": [
      "153 is armstrong no.\n"
     ]
    }
   ],
   "source": [
    "#armstrong no.\n",
    "\n",
    "n = int(input(\"enter a value : \"))\n",
    "# n = 153\n",
    "r = len(str(n))\n",
    "x=n\n",
    "s=0\n",
    "while(n>0):\n",
    "    s+=(n%10)**r\n",
    "    n//=10\n",
    "\n",
    "if x == s:\n",
    "    print(f\"{x} is armstrong no.\")\n",
    "else:\n",
    "    print(f\"{x} is not armstrong no.\")\n"
   ]
  },
  {
   "cell_type": "markdown",
   "metadata": {},
   "source": [
    "3- Greatest of Three Numbers and Odd or Even:\n",
    "\n",
    "Write a function to find the greatest of three numbers.\n",
    "Create a function that takes three numbers and returns True if exactly one of them is even, False otherwise."
   ]
  },
  {
   "cell_type": "code",
   "execution_count": null,
   "metadata": {},
   "outputs": [
    {
     "name": "stdout",
     "output_type": "stream",
     "text": [
      "55 is greater\n"
     ]
    }
   ],
   "source": [
    "# greatest of three numbers\n",
    "def great3(a,b,c):\n",
    "    if a>b and a>c:\n",
    "        print(f'{a} is greater')\n",
    "    elif b>a and b>c:\n",
    "        print(f'{b} is greater')\n",
    "    else:\n",
    "        print(f'{c} is greater')\n",
    "\n",
    "a,b,c = map(int, input(\"enter 3 values : \").split())\n",
    "\n",
    "great3(a,b,c)\n"
   ]
  },
  {
   "cell_type": "code",
   "execution_count": null,
   "metadata": {},
   "outputs": [
    {
     "data": {
      "text/plain": [
       "True"
      ]
     },
     "metadata": {},
     "output_type": "display_data"
    }
   ],
   "source": [
    "def f(n):\n",
    "    if n%2==0:\n",
    "        return True\n",
    "    return False\n",
    "\n",
    "\n",
    "def odd_even(a,b,c):\n",
    "    lis = [] \n",
    "    for i in [a,b,c]:\n",
    "        if f(i):\n",
    "            lis.append(1)\n",
    "        else:\n",
    "            lis.append(0)\n",
    "\n",
    "    if lis.count(1) == 1:\n",
    "        return True\n",
    "    else:\n",
    "        return False\n",
    "\n",
    "\n",
    "a,b,c = map(int, input(\"enter 3 values : \").split())\n",
    "\n",
    "# a,b,c=1,4,3\n",
    "odd_even(a,b,c)\n",
    "    "
   ]
  },
  {
   "cell_type": "markdown",
   "metadata": {},
   "source": [
    "4- Is Prime and Check for Vowels:\n",
    "\n",
    "Write a function to check if a number is prime.\n",
    "Write a function to count the number of vowels in a string."
   ]
  },
  {
   "cell_type": "code",
   "execution_count": null,
   "metadata": {},
   "outputs": [
    {
     "name": "stdout",
     "output_type": "stream",
     "text": [
      "11 is a prime no.\n"
     ]
    }
   ],
   "source": [
    "def prime(n):\n",
    "    if n==0 or n==1 :\n",
    "        return False\n",
    "    else:\n",
    "        for i in range(2,n//2):\n",
    "            if n%i == 0:\n",
    "                return False\n",
    "        return True\n",
    "\n",
    "\n",
    "n = int(input(\"enter a value : \"))\n",
    "\n",
    "if prime(n):\n",
    "    print(f\"{n} is a prime no.\")\n",
    "else:\n",
    "    print(f\"{n} is not a prime no.\")\n"
   ]
  },
  {
   "cell_type": "code",
   "execution_count": null,
   "metadata": {},
   "outputs": [
    {
     "name": "stdout",
     "output_type": "stream",
     "text": [
      "vowels counr: 2 ['i', 'a']\n"
     ]
    }
   ],
   "source": [
    "txt=\"priya\"\n",
    "V=[\"a\",\"e\",\"i\",\"o\",\"u\",\"A\",\"E\",\"I\",\"O\",\"U\"]\n",
    "vo=0\n",
    "v=[]\n",
    "for i in txt:\n",
    "    if i in V:\n",
    "        vo+=1\n",
    "        v.append(i)\n",
    "print(\"vowels counr:\",vo,v)"
   ]
  },
  {
   "cell_type": "markdown",
   "metadata": {},
   "source": [
    "# 10 MARK QUESTIONS\n"
   ]
  },
  {
   "cell_type": "markdown",
   "metadata": {},
   "source": [
    "\n",
    "1-Selecction Sort\n",
    "Implement the Selection Sort algorithm in Python for sorting a\n",
    "list of strings in alphabetical order. Analyze its time complexity.\n",
    "\n"
   ]
  },
  {
   "cell_type": "markdown",
   "metadata": {},
   "source": [
    "Bubble Sort\n",
    " Implement the Bubble Sort algorithm in Python for sorting a list\n",
    "of numbers in descending order. Analyze its average and worst-case time\n",
    "complexities."
   ]
  },
  {
   "cell_type": "code",
   "execution_count": 9,
   "metadata": {},
   "outputs": [
    {
     "name": "stdout",
     "output_type": "stream",
     "text": [
      "['a', 'e', 'n', 'p', 's', 't']\n",
      "['bye', 'helo', 'hi', 'sd']\n"
     ]
    }
   ],
   "source": [
    "def selection(a):\n",
    "    n = len(a)\n",
    "    for i in range(n-1):\n",
    "        min = i \n",
    "        for j in range(i+1,n):\n",
    "            if a[j]<a[min]:\n",
    "                min=j\n",
    "        a[i],a[min]=a[min],a[i]\n",
    "    return a\n",
    "            \n",
    "\n",
    "a = ['s','e','a','t','n','p']\n",
    "l = ['sd', 'helo','hi', 'bye']\n",
    "\n",
    "print(selection(a))\n",
    "\n",
    "print(selection(l))\n",
    "\n",
    "\n",
    "# best case : O(n^2)\n",
    "# avg case  : O(n^2) \n",
    "# worst case: O(n^2)"
   ]
  },
  {
   "cell_type": "code",
   "execution_count": null,
   "metadata": {},
   "outputs": [
    {
     "name": "stdout",
     "output_type": "stream",
     "text": [
      "[5, 4, 3, 2, 1]\n"
     ]
    }
   ],
   "source": [
    "def bubblesort(a):\n",
    "    n = len(a)\n",
    "    for i in range(n-1):\n",
    "        f = 0\n",
    "        for j in range(n-i-1):\n",
    "            if a[j]<a[j+1]:\n",
    "                a[j],a[j+1]=a[j+1],a[j]\n",
    "                f =1\n",
    "        if f == 0:\n",
    "            break\n",
    "    return a\n",
    "\n",
    "a = [1,5,3,2,4]\n",
    "\n",
    "print(bubblesort(a))\n",
    "\n",
    "\n",
    "\n",
    "\n",
    "# best case : O(n)\n",
    "# avg case  : O(n^2) \n",
    "# worst case: O(n^2)"
   ]
  },
  {
   "cell_type": "markdown",
   "metadata": {},
   "source": [
    "2- You are given a dictionary where the keys represent items and the values represent their respective prices. Your task is to implement a Python function called filter_prices that takes this dictionary and a threshold price as input and returns a new dictionary containing only the key-value pairs where the prices are greater than the given threshold.\n",
    "\n",
    "Write the function filter_prices that takes a dictionary (prices_dict) and a threshold price (threshold) as input and returns a new dictionary containing only the key-value pairs where the prices are greater than the given threshold."
   ]
  },
  {
   "cell_type": "markdown",
   "metadata": {},
   "source": [
    ": Write a Python function that takes a list of numbers and returns\n",
    "a new list containing only the unique elements"
   ]
  },
  {
   "cell_type": "code",
   "execution_count": null,
   "metadata": {},
   "outputs": [
    {
     "name": "stdout",
     "output_type": "stream",
     "text": [
      "{'milk': 22, 'butter': 78, 'oil': 54}\n"
     ]
    }
   ],
   "source": [
    "prices_dict = {'milk':22,'egg':7,'butter':78,'oil':54}\n",
    "\n",
    "threshold = int(input(\" enter a threshold value : \"))\n",
    "\n",
    "# threshold = 7\n",
    "\n",
    "def filter_prices(prices_dict,threshold):\n",
    "    new_dic ={}\n",
    "    for i,x in prices_dict.items():\n",
    "        if x > threshold:\n",
    "            new_dic.update({i:x})\n",
    "\n",
    "    return new_dic\n",
    "\n",
    "\n",
    "print(filter_prices(prices_dict,threshold))\n",
    "\n"
   ]
  },
  {
   "cell_type": "code",
   "execution_count": null,
   "metadata": {},
   "outputs": [
    {
     "name": "stdout",
     "output_type": "stream",
     "text": [
      "[1, 2, 4, 5, 6, 8]\n"
     ]
    }
   ],
   "source": [
    "def uniquelist(a):\n",
    "    s = []\n",
    "    for i in a:\n",
    "        if i not in s:\n",
    "            s.append(i)\n",
    "    return s\n",
    "\n",
    "a=[1,2,1,4,2,4,5,2,1,4,6,8]\n",
    "\n",
    "print(uniquelist(a))"
   ]
  }
 ],
 "metadata": {
  "kernelspec": {
   "display_name": "Python 3",
   "language": "python",
   "name": "python3"
  },
  "language_info": {
   "codemirror_mode": {
    "name": "ipython",
    "version": 3
   },
   "file_extension": ".py",
   "mimetype": "text/x-python",
   "name": "python",
   "nbconvert_exporter": "python",
   "pygments_lexer": "ipython3",
   "version": "3.12.2"
  }
 },
 "nbformat": 4,
 "nbformat_minor": 2
}
