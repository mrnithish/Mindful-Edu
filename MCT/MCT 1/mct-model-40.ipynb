{
 "cells": [
  {
   "cell_type": "code",
   "execution_count": 4,
   "metadata": {},
   "outputs": [
    {
     "name": "stdout",
     "output_type": "stream",
     "text": [
      "[4, 2, 3, 1]\n"
     ]
    }
   ],
   "source": [
    "# 1. Write a Python program to swap the first and last elements of a list, then print\n",
    "# the result.\n",
    "\n",
    "\n",
    "l = [1,2,3,4]\n",
    "l[0],l[-1]=l[-1],l[0] \n",
    "\n",
    "print(l)"
   ]
  },
  {
   "cell_type": "code",
   "execution_count": 3,
   "metadata": {},
   "outputs": [
    {
     "data": {
      "text/plain": [
       "[6, 2, 34, 5, 1, 7]"
      ]
     },
     "execution_count": 3,
     "metadata": {},
     "output_type": "execute_result"
    }
   ],
   "source": [
    "# 2. Create a function in Python that swaps any two elements in a given list and\n",
    "# demonstrates its usage.\n",
    "\n",
    "\n",
    "def f2(l,start,end):\n",
    "    l[start],l[end]=l[end],l[start]\n",
    "    return l \n",
    "\n",
    "\n",
    "l = [1,2,34,5,6,7]\n",
    "\n",
    "f2(l,0,4)"
   ]
  },
  {
   "cell_type": "code",
   "execution_count": 21,
   "metadata": {},
   "outputs": [
    {
     "name": "stdout",
     "output_type": "stream",
     "text": [
      "['csa', 'fdsf', 'sfd']\n"
     ]
    }
   ],
   "source": [
    "# 3. Develop a Python script that takes a list of strings, swaps the first and last\n",
    "# characters of each string, and outputs the modified list.\n",
    "\n",
    "li = ['asc','fdsf','dfs']\n",
    "\n",
    "modified_list = []\n",
    "\n",
    "for i in li:\n",
    "    n = len(l)-1\n",
    "    l = i[-1]+i[1:-1]+i[0]\n",
    "    modified_list.append(l)\n",
    "    \n",
    "\n",
    "print(modified_list)\n"
   ]
  },
  {
   "cell_type": "code",
   "execution_count": 1,
   "metadata": {},
   "outputs": [
    {
     "name": "stdout",
     "output_type": "stream",
     "text": [
      "['csa', 'fdsf', 'sfd']\n"
     ]
    }
   ],
   "source": [
    "li = ['asc','fdsf','dfs']\n",
    "ml=[]\n",
    "for i in li:\n",
    "    l=i[-1]+i[1:-1]+i[0]\n",
    "    ml.append(l)\n",
    "print(ml)"
   ]
  },
  {
   "cell_type": "code",
   "execution_count": 8,
   "metadata": {},
   "outputs": [
    {
     "name": "stdout",
     "output_type": "stream",
     "text": [
      "5\n",
      "5\n"
     ]
    }
   ],
   "source": [
    "# 4. Experiment with different Pythonic approaches to determine the length of a list\n",
    "# and print the results.\n",
    " \n",
    "l = [1,2,3,4,5]\n",
    "print(len(l))\n",
    "\n",
    "\n",
    "count = 0\n",
    "for i in l:\n",
    "    count+=1\n",
    "\n",
    "print(count)\n",
    "\n"
   ]
  },
  {
   "cell_type": "code",
   "execution_count": 22,
   "metadata": {},
   "outputs": [
    {
     "data": {
      "text/plain": [
       "2"
      ]
     },
     "execution_count": 22,
     "metadata": {},
     "output_type": "execute_result"
    }
   ],
   "source": [
    "# 5. Design a Python function that takes two numbers as input and returns the\n",
    "# maximum among them\n",
    "\n",
    "def num(a,b):\n",
    "    if a>b:\n",
    "        return a\n",
    "    return b\n",
    "\n",
    "num(1,2)"
   ]
  },
  {
   "cell_type": "code",
   "execution_count": 24,
   "metadata": {},
   "outputs": [
    {
     "name": "stdout",
     "output_type": "stream",
     "text": [
      "Entered values : 1,2\n",
      "the minimum num is : 1\n"
     ]
    }
   ],
   "source": [
    "# 6. Implement a Python program that prompts the user for two numbers and\n",
    "# displays the minimum value.\n",
    "\n",
    "\n",
    "def min_num(a,b):\n",
    "    if a<b:\n",
    "        return a\n",
    "    return b\n",
    "\n",
    "# a,b = map(int, input(\"enter 2 values : \").split())\n",
    "\n",
    "a,b = 1,2\n",
    "\n",
    "print(f\"Entered values : {a},{b}\")\n",
    "print(f\"the minimum num is : {min_num(a,b)}\")"
   ]
  },
  {
   "cell_type": "code",
   "execution_count": 25,
   "metadata": {},
   "outputs": [
    {
     "name": "stdout",
     "output_type": "stream",
     "text": [
      "4 exists in list \n"
     ]
    }
   ],
   "source": [
    "# 7. Write a Python script to check if a specified element exists in a list and print\n",
    "# the result using a custom message.\n",
    "\n",
    "lis = [1,2,3,4,5,6,7]\n",
    "target = int(input(\"Enter the value to check : \"))\n",
    "if target in lis :\n",
    "    print(f\"{target} exists in list \")\n",
    "\n",
    "else:\n",
    "    print(f\"{target} does not exists in list \")"
   ]
  },
  {
   "cell_type": "code",
   "execution_count": 29,
   "metadata": {},
   "outputs": [],
   "source": [
    "# 8. Explore creative ways to clear a list in Python and provide explanations for\n",
    "# each method used.\n",
    "\n",
    "li = [1,2,3,4,5,6]\n",
    "\n",
    "#1\n",
    "li.clear()\n",
    "\n",
    "#2\n",
    "for i in li:\n",
    "    li.remove(i)\n",
    "\n",
    "#3\n",
    "for i in range(len(li)):\n",
    "    li.pop()\n",
    "\n"
   ]
  },
  {
   "cell_type": "code",
   "execution_count": 31,
   "metadata": {},
   "outputs": [
    {
     "name": "stdout",
     "output_type": "stream",
     "text": [
      "original list : [1, 2, 7, 46, 4, 3]\n",
      "reversed list : [3, 4, 46, 7, 2, 1]\n"
     ]
    }
   ],
   "source": [
    "# 9. Develop a Python function that reverses the order of elements in a list and\n",
    "# prints both the original and reversed lists.\n",
    "\n",
    "def rev(l):\n",
    "    r = l[::-1]\n",
    "    print(f\"original list : {l}\")\n",
    "    print(f\"reversed list : {r}\")\n",
    "\n",
    "l = [1,2,7,46,4,3]\n",
    "rev(l)"
   ]
  },
  {
   "cell_type": "code",
   "execution_count": 3,
   "metadata": {},
   "outputs": [
    {
     "name": "stdout",
     "output_type": "stream",
     "text": [
      "[0, 2, 7, 46, 4, 3] [0, 2, 7, 46, 4, 3]\n",
      "[1, 2, 7, 46, 4, 3] [0, 2, 7, 46, 4, 3]\n",
      "[1, 2, 7, 46, 4, 3] [0, 2, 7, 46, 4, 3]\n"
     ]
    }
   ],
   "source": [
    "# 10. Create a Python program to clone a list using different techniques and\n",
    "# compare their efficiency.\n",
    "\n",
    "#1\n",
    "l = [1,2,7,46,4,3]\n",
    "r = l\n",
    "r[0]=0\n",
    "print(l,r)\n",
    "\n",
    "#2\n",
    "l = [1,2,7,46,4,3]\n",
    "r = l.copy()\n",
    "r[0]=0\n",
    "print(l,r)\n",
    "\n",
    "\n",
    "#3\n",
    "import copy\n",
    "l = [1,2,7,46,4,3]\n",
    "r = copy.deepcopy(l)\n",
    "r[0]=0\n",
    "print(l,r)\n"
   ]
  },
  {
   "cell_type": "code",
   "execution_count": 37,
   "metadata": {},
   "outputs": [
    {
     "name": "stdout",
     "output_type": "stream",
     "text": [
      "target:5\n",
      "list :[1, 2, 3, 4, 5, 5, 6, 5, 7]\n",
      "occurence count :3\n"
     ]
    }
   ],
   "source": [
    "# 11. Write a Python function to count the occurrences of a given element in a list\n",
    "# and print the count along with the element.\n",
    "\n",
    "def count_num(l,target):\n",
    "    count = 0\n",
    "    for i in l:\n",
    "        if target == i:\n",
    "            count+=1\n",
    "\n",
    "    print(f\"target:{target}\")\n",
    "    print(f\"list :{l}\")\n",
    "    print(f\"occurence count :{count}\")\n",
    "    \n",
    "l = [1,2,3,4,5,5,6,5,7]\n",
    "count_num(l,5)"
   ]
  },
  {
   "cell_type": "code",
   "execution_count": 38,
   "metadata": {},
   "outputs": [
    {
     "name": "stdout",
     "output_type": "stream",
     "text": [
      "list :[1, 2, 3, 4, 5, 5, 6, 5, 7]\n",
      "sum :38\n",
      "avg :4.222222222222222\n"
     ]
    }
   ],
   "source": [
    "# 12. Design a Python script that calculates the sum and average of a list of numbers\n",
    "# and displays the results.\n",
    "\n",
    "l = [1,2,3,4,5,5,6,5,7]\n",
    "sum,avg = 0,0\n",
    "for i in l:\n",
    "    sum += i\n",
    "\n",
    "avg = sum/len(l)\n",
    "\n",
    "print(f\"list :{l}\")\n",
    "print(f\"sum :{sum}\")\n",
    "print(f\"avg :{avg}\")"
   ]
  },
  {
   "cell_type": "code",
   "execution_count": 39,
   "metadata": {},
   "outputs": [
    {
     "name": "stdout",
     "output_type": "stream",
     "text": [
      "[12, 32, 23, 46, 85, 87, 67, 55, 7]\n",
      "[3, 5, 5, 10, 13, 15, 13, 10, 7]\n"
     ]
    }
   ],
   "source": [
    "# 13. Implement a Python function to compute the sum of digits of all numbers in\n",
    "# a list and print the results.\n",
    "\n",
    "l = [12,32,23,46,85,87,67,55,7]\n",
    "result = []\n",
    "for i in l:\n",
    "    n = i\n",
    "    s=0\n",
    "    while n>0:\n",
    "        s+=n%10\n",
    "        n//=10\n",
    "    \n",
    "    result.append(s)\n",
    "\n",
    "\n",
    "print(l)\n",
    "print(result)    \n"
   ]
  },
  {
   "cell_type": "code",
   "execution_count": 5,
   "metadata": {},
   "outputs": [
    {
     "name": "stdout",
     "output_type": "stream",
     "text": [
      "6\n"
     ]
    }
   ],
   "source": [
    "n=231\n",
    "rem=0\n",
    "while n>0:\n",
    "    rem+=n%10\n",
    "    n//=10\n",
    "print(rem)"
   ]
  },
  {
   "cell_type": "code",
   "execution_count": 41,
   "metadata": {},
   "outputs": [
    {
     "name": "stdout",
     "output_type": "stream",
     "text": [
      "17664\n",
      "17664\n"
     ]
    }
   ],
   "source": [
    "# 14. Develop a Python program to multiply all even numbers in a list and print the\n",
    "# final product.\n",
    "\n",
    "l = [12,32,23,46,85,87,67,55,7] \n",
    "mul = 1\n",
    "for i in l:\n",
    "    if i%2==0:\n",
    "        mul *= i\n",
    "\n",
    "print(mul)\n",
    "\n",
    "# print(12*32*46)"
   ]
  },
  {
   "cell_type": "code",
   "execution_count": 46,
   "metadata": {},
   "outputs": [
    {
     "name": "stdout",
     "output_type": "stream",
     "text": [
      "maximum element in the list :87\n",
      "minimum element in the list :7\n",
      "maximum element in the list :87\n",
      "minimum element in the list :7\n"
     ]
    }
   ],
   "source": [
    "# 15. Write a Python script to find the smallest and largest numbers in a list and\n",
    "# display them with appropriate messages\n",
    "\n",
    "#1\n",
    "l = [12,32,23,46,85,87,67,55,7] \n",
    "\n",
    "print(f\"maximum element in the list :{max(l)}\")\n",
    "print(f\"minimum element in the list :{min(l)}\")\n",
    "\n",
    "\n",
    "\n",
    "#2\n",
    "\n",
    "l.sort()\n",
    "\n",
    "print(f\"maximum element in the list :{l[-1]}\")\n",
    "print(f\"minimum element in the list :{l[0]}\")"
   ]
  },
  {
   "cell_type": "code",
   "execution_count": 1,
   "metadata": {},
   "outputs": [
    {
     "data": {
      "text/plain": [
       "4"
      ]
     },
     "execution_count": 1,
     "metadata": {},
     "output_type": "execute_result"
    }
   ],
   "source": [
    "# 16. Design a Python function to find the second largest number in a list and print\n",
    "# it along with the list.\n",
    "\n",
    "def sec_large(l):\n",
    "    l.sort()\n",
    "    return l[-2]\n",
    "\n",
    "\n",
    "l = [2,5,3,2,4]\n",
    "sec_large(l)"
   ]
  },
  {
   "cell_type": "code",
   "execution_count": 6,
   "metadata": {},
   "outputs": [
    {
     "name": "stdout",
     "output_type": "stream",
     "text": [
      "entered list : [1, 2, 3, 4, 5, 6]\n",
      "even nos. : [2, 4, 6]\n"
     ]
    }
   ],
   "source": [
    "# 17. Create a Python program to print all even numbers from a given list and\n",
    "# prompt the user for input.\n",
    "\n",
    "n = int(input(\"enter the size of the list: \"))\n",
    "l=[]\n",
    "result = []\n",
    "for i in range(n):\n",
    "    x = int(input(f\"enter value {i+1}: \"))\n",
    "    l.append(x)\n",
    "\n",
    "print(f\"entered list : {l}\")\n",
    "\n",
    "\n",
    "for i in l:\n",
    "    if i%2 == 0:\n",
    "        result.append(i)\n",
    "\n",
    "\n",
    "print(f\"even nos. : {result}\")"
   ]
  },
  {
   "cell_type": "code",
   "execution_count": 7,
   "metadata": {},
   "outputs": [
    {
     "name": "stdout",
     "output_type": "stream",
     "text": [
      "odd nos. : [1, 3, 5]\n"
     ]
    }
   ],
   "source": [
    "# 18. Develop a Python script to print all odd numbers from a list and provide a\n",
    "# brief explanation of the approach used.\n",
    "\n",
    "\n",
    "l = [1, 2, 3, 4, 5, 6]\n",
    "result = []\n",
    "\n",
    "for i in l:\n",
    "    if i%2 != 0:\n",
    "        result.append(i)\n",
    "\n",
    "\n",
    "print(f\"odd nos. : {result}\")"
   ]
  },
  {
   "cell_type": "code",
   "execution_count": 9,
   "metadata": {},
   "outputs": [
    {
     "name": "stdout",
     "output_type": "stream",
     "text": [
      "4\n",
      "6\n",
      "8\n",
      "10\n",
      "12\n",
      "14\n",
      "16\n",
      "18\n",
      "20\n"
     ]
    }
   ],
   "source": [
    "# 19. Write a Python function to print all even numbers within a specified range\n",
    "# and display the result.\n",
    "\n",
    "\n",
    "def printeven(start,end):\n",
    "    for i in range(start,end+1):\n",
    "        if i%2 == 0:\n",
    "            print(i)\n",
    "\n",
    "\n",
    "printeven(4,20)\n"
   ]
  },
  {
   "cell_type": "code",
   "execution_count": 11,
   "metadata": {},
   "outputs": [
    {
     "name": "stdout",
     "output_type": "stream",
     "text": [
      "5\n",
      "7\n",
      "9\n"
     ]
    }
   ],
   "source": [
    "# 20. Design a Python program to print all odd numbers within a given range and\n",
    "# showcase its usage with user input.\n",
    "\n",
    "def printodd(start,end):\n",
    "    for i in range(start,end+1):\n",
    "        if i%2 != 0:\n",
    "            print(i)\n",
    "\n",
    "\n",
    "# a,b = map(int, input(\"enter the range limit values : \"))\n",
    "a = int(input(\"enter the starting value: \"))\n",
    "b = int(input(\"enter the ending value: \"))\n",
    "printodd(a,b)"
   ]
  },
  {
   "cell_type": "code",
   "execution_count": 13,
   "metadata": {},
   "outputs": [
    {
     "name": "stdout",
     "output_type": "stream",
     "text": [
      "odd count : 5\n",
      "even count : 4\n"
     ]
    }
   ],
   "source": [
    "# 21. Implement a Python script to count the occurrences of both even and odd\n",
    "# numbers in a list and print the counts.\n",
    "\n",
    "l = [1,2,3,4,5,6,7,8,9]\n",
    "\n",
    "o,e = 0,0\n",
    "\n",
    "for i in l:\n",
    "    if i!=0 and i%2==0:\n",
    "        e+=1\n",
    "    else:\n",
    "        o+=1\n",
    "\n",
    "print(f\"odd count : {o}\")\n",
    "print(f\"even count : {e}\")\n"
   ]
  },
  {
   "cell_type": "code",
   "execution_count": 15,
   "metadata": {},
   "outputs": [
    {
     "name": "stdout",
     "output_type": "stream",
     "text": [
      "positive numbers in list : [2, 4, 3, 6]\n"
     ]
    }
   ],
   "source": [
    "# 22. Develop a Python function to filter and print all positive numbers from a list,\n",
    "# explaining the filtering criterion.\n",
    "\n",
    "def filter_pos(l):\n",
    "    p=[]\n",
    "    for i in l:\n",
    "        if i>0:\n",
    "            p.append(i)\n",
    "\n",
    "    return p\n",
    "\n",
    "\n",
    "l = [-1,-2,-6,0,2,4,6-3,6]\n",
    "\n",
    "print(f\"positive numbers in list : {filter_pos(l)}\")"
   ]
  },
  {
   "cell_type": "code",
   "execution_count": 19,
   "metadata": {},
   "outputs": [
    {
     "name": "stdout",
     "output_type": "stream",
     "text": [
      "negative numbers in list : [-1, -2, -6]\n"
     ]
    }
   ],
   "source": [
    "# 23. Create a Python program to print all negative numbers from a list and provide\n",
    "# insights into the filtering process.\n",
    "\n",
    "def filter_neg(l):\n",
    "    n=[]\n",
    "    for i in l:\n",
    "        if i<0:\n",
    "            n.append(i)\n",
    "\n",
    "    return n\n",
    "\n",
    "\n",
    "l = [-1,-2,-6,0,2,4,6-3,6]\n",
    "\n",
    "print(f\"negative numbers in list : {filter_neg(l)}\")"
   ]
  },
  {
   "cell_type": "code",
   "execution_count": 29,
   "metadata": {},
   "outputs": [
    {
     "name": "stdout",
     "output_type": "stream",
     "text": [
      "list :  [1, 2, 3, 4, 5, 6, 7, 8, 9, 10]\n"
     ]
    }
   ],
   "source": [
    "# 24. Write a Python script to generate a list of positive numbers within a specified\n",
    "# range and print the list.\n",
    "\n",
    "\n",
    "# a,b = map(int, input(\"enter the range limit values : \"))\n",
    "\n",
    "a = int(input(\"enter the starting value: \"))\n",
    "b = int(input(\"enter the ending value: \"))\n",
    "\n",
    "# a,b = -10,10\n",
    "\n",
    "x = [i for i in range(a,b+1) if i>0]\n",
    "\n",
    "print(\"list : \",x)"
   ]
  },
  {
   "cell_type": "code",
   "execution_count": 8,
   "metadata": {},
   "outputs": [
    {
     "name": "stdout",
     "output_type": "stream",
     "text": [
      "[]\n"
     ]
    }
   ],
   "source": [
    "print([i for i in range(-10,10,-2) if i<0])"
   ]
  },
  {
   "cell_type": "code",
   "execution_count": 9,
   "metadata": {},
   "outputs": [
    {
     "name": "stdout",
     "output_type": "stream",
     "text": [
      "negative_numbers=[]\n"
     ]
    }
   ],
   "source": [
    "# 25. Design a Python function to generate a list of negative numbers within a given\n",
    "# range and demonstrate its application.\n",
    "\n",
    "\n",
    "\n",
    "a = int(input(\"enter the starting value: \"))\n",
    "b = int(input(\"enter the ending value: \"))\n",
    "\n",
    "# a,b = -10,10\n",
    "\n",
    "negative_numbers = [i for i in range(a,b+1) if i<0]\n",
    "\n",
    "print(f\"{negative_numbers=}\")\n",
    "    "
   ]
  },
  {
   "cell_type": "code",
   "execution_count": 31,
   "metadata": {},
   "outputs": [
    {
     "name": "stdout",
     "output_type": "stream",
     "text": [
      "positive count : 4\n",
      "negative count : 3\n"
     ]
    }
   ],
   "source": [
    "# 26. Develop a Python program to count the occurrences of positive and negative\n",
    "# numbers separately in a list and display the counts.\n",
    "\n",
    "l = [-1,-2,-6,0,2,4,6-3,6]\n",
    "\n",
    "p = 0\n",
    "n = 0\n",
    "\n",
    "for i in l:\n",
    "    if i > 0:\n",
    "        p += 1\n",
    "    elif i < 0:\n",
    "        n += 1\n",
    "\n",
    "print(f\"positive count : {p}\")\n",
    "print(f\"negative count : {n}\")"
   ]
  },
  {
   "cell_type": "code",
   "execution_count": 36,
   "metadata": {},
   "outputs": [
    {
     "name": "stdout",
     "output_type": "stream",
     "text": [
      "[-2, 2, 4, 3, 6]\n",
      "[-2, 2, 4, 3, 6]\n",
      "[-2, 2, 4, 3, 6]\n"
     ]
    }
   ],
   "source": [
    "# 27. Experiment with removing multiple elements from a list using various Python\n",
    "# techniques and share observations.\n",
    "\n",
    "#1\n",
    "l = [-1,-2,-6,0,2,4,6-3,6]\n",
    "\n",
    "remove_elements = [-1,-6,0]\n",
    "\n",
    "l = [x for x in l if x not in remove_elements]\n",
    "\n",
    "print(l)\n",
    "\n",
    "\n",
    "#2\n",
    "l = [-1,-2,-6,0,2,4,6-3,6]\n",
    "\n",
    "remove_elements = [-1,-6,0]\n",
    "\n",
    "for i in remove_elements:\n",
    "    n = l.index(i)\n",
    "    del l[n]\n",
    "print(l)\n",
    "\n",
    "\n",
    "\n",
    "#3\n",
    "l = [-1,-2,-6,0,2,4,6-3,6]\n",
    "\n",
    "remove_elements = [-1,-6,0]\n",
    "\n",
    "for i in remove_elements:\n",
    "    l.remove(i)\n",
    "\n",
    "print(l)\n"
   ]
  },
  {
   "cell_type": "code",
   "execution_count": 37,
   "metadata": {},
   "outputs": [
    {
     "data": {
      "text/plain": [
       "[1, [1, 2, 3], 'hello', (1, 2), 'str']"
      ]
     },
     "execution_count": 37,
     "metadata": {},
     "output_type": "execute_result"
    }
   ],
   "source": [
    "# 28. Create a Python script to remove empty tuples from a list and print the updated\n",
    "# list\n",
    "\n",
    "def clear_emp_tuple(l):\n",
    "    for i in l:\n",
    "        if i == ():\n",
    "            l.remove(i)\n",
    "\n",
    "    return l\n",
    "\n",
    "l = [1,[1,2,3],\"hello\",(),(1,2),(),\"str\"]\n",
    "\n",
    "clear_emp_tuple(l)"
   ]
  },
  {
   "cell_type": "code",
   "execution_count": 44,
   "metadata": {},
   "outputs": [
    {
     "name": "stdout",
     "output_type": "stream",
     "text": [
      "duplicates : [1, 2, 3]\n"
     ]
    }
   ],
   "source": [
    "# 29. Write a Python function to identify and print duplicate integers from a list,\n",
    "# providing insights into the duplication process.\n",
    "\n",
    "l = [1,2,3,4,2,3,1]\n",
    "\n",
    "dup = []\n",
    "for i in l:\n",
    "    if (l.count(i)>1) and (i not in dup):\n",
    "        dup.append(i)\n",
    "\n",
    "print(f'duplicates : {dup}')"
   ]
  },
  {
   "cell_type": "code",
   "execution_count": 47,
   "metadata": {},
   "outputs": [
    {
     "name": "stdout",
     "output_type": "stream",
     "text": [
      "Combined list : [1, 2, 3, 6, 8, 9]\n"
     ]
    }
   ],
   "source": [
    "# 30. Design a Python program that combines elements from two lists into a single\n",
    "# list and prints the merged result.\n",
    "\n",
    "def mergelist(l1,l2):\n",
    "    return l1+l2\n",
    "\n",
    "l1 = [1,2,3]\n",
    "l2 = [6,8,9]\n",
    "\n",
    "l = mergelist(l1,l2)\n",
    "print(f\"Combined list : {l}\")"
   ]
  },
  {
   "cell_type": "code",
   "execution_count": 50,
   "metadata": {},
   "outputs": [
    {
     "name": "stdout",
     "output_type": "stream",
     "text": [
      "[2, 3, 4, 5, 8]\n"
     ]
    }
   ],
   "source": [
    "# 30. Bubble Sort:\n",
    "#  Write a Python function to implement the bubble sort algorithm to sort a list of\n",
    "# integers in ascending order.\n",
    "\n",
    "\n",
    "a = [5,3,2,8,4]\n",
    "n = len(l)\n",
    "for i in range(n-1):\n",
    "    f = 0\n",
    "    for j in range(n-i-1):\n",
    "        if a[j]>a[j+1]:\n",
    "            a[j],a[j+1] = a[j+1],a[j]\n",
    "            f = 1\n",
    "    if f == 0:\n",
    "        break\n",
    "\n",
    "print(a)\n"
   ]
  },
  {
   "cell_type": "code",
   "execution_count": 3,
   "metadata": {},
   "outputs": [
    {
     "name": "stdout",
     "output_type": "stream",
     "text": [
      "[2, 3, 4, 5, 8]\n"
     ]
    }
   ],
   "source": [
    "# 31. Selection Sort:\n",
    "#  Implement a Python program to perform selection sort on a list of integers and\n",
    "# print the sorted list.\n",
    "\n",
    "\n",
    "a = [5,3,2,8,4]\n",
    "n = len(a)\n",
    "for i in range(n-1):\n",
    "    min = i\n",
    "    for j in range(i+1,n):\n",
    "        if a[j]<a[min]:\n",
    "            a[j],a[min] = a[min],a[j]\n",
    "\n",
    "print(a)"
   ]
  },
  {
   "cell_type": "code",
   "execution_count": 57,
   "metadata": {},
   "outputs": [
    {
     "name": "stdout",
     "output_type": "stream",
     "text": [
      "[2, 3, 5, 8, 4]\n"
     ]
    }
   ],
   "source": [
    "# 32. Insertion Sort:\n",
    "#  Develop a Python script to sort a list of integers using the insertion sort\n",
    "# algorithm and print the sorted list.\n",
    "\n",
    "\n",
    "a = [5,3,2,8,4]\n",
    "n = len(l)\n",
    "for i in range(n-1):\n",
    "    j = i-1\n",
    "    insert = a[i] \n",
    "    while(j>=0 and a[j]>insert):\n",
    "        a[j+1]=a[j]\n",
    "        j-=1\n",
    "    a[j+1]=insert\n",
    "\n",
    "\n",
    "print(a)"
   ]
  },
  {
   "cell_type": "code",
   "execution_count": 9,
   "metadata": {},
   "outputs": [
    {
     "name": "stdout",
     "output_type": "stream",
     "text": [
      "\n",
      "*\n",
      "**\n",
      "***\n",
      "****\n"
     ]
    }
   ],
   "source": [
    "# 33. Print the following pattern:\n",
    "# *\n",
    "# **\n",
    "# ***\n",
    "# ****\n",
    "# *****\n",
    "\n",
    "n = int(input(\"enter a value : \"))\n",
    "for i in range(n+1):\n",
    "    print('*'*i)"
   ]
  },
  {
   "cell_type": "code",
   "execution_count": 61,
   "metadata": {},
   "outputs": [
    {
     "name": "stdout",
     "output_type": "stream",
     "text": [
      "\n",
      "1\n",
      "22\n",
      "333\n",
      "4444\n",
      "55555\n"
     ]
    }
   ],
   "source": [
    "# 33. Print the following pattern:\n",
    "# 1\n",
    "# 22\n",
    "# 333\n",
    "# 4444\n",
    "# 55555\n",
    "\n",
    "n = int(input(\"enter a value : \"))\n",
    "for i in range(n+1):\n",
    "    print(str(i)*i)"
   ]
  },
  {
   "cell_type": "code",
   "execution_count": 69,
   "metadata": {},
   "outputs": [
    {
     "name": "stdout",
     "output_type": "stream",
     "text": [
      "12345\n",
      "1234\n",
      "123\n",
      "12\n",
      "1\n"
     ]
    }
   ],
   "source": [
    "# 34. Print the following pattern:\n",
    "# 12345\n",
    "# 1234\n",
    "# 123\n",
    "# 12\n",
    "# 1\n",
    "\n",
    "\n",
    "n = int(input(\"enter a value : \"))\n",
    "for i in range(n,0,-1):\n",
    "    for j in range(1,i+1):\n",
    "        print(j, end='')\n",
    "    print()\n"
   ]
  },
  {
   "cell_type": "code",
   "execution_count": 76,
   "metadata": {},
   "outputs": [
    {
     "name": "stdout",
     "output_type": "stream",
     "text": [
      "A\n"
     ]
    }
   ],
   "source": [
    "# con = chr(65)\n",
    "# print(con)"
   ]
  },
  {
   "cell_type": "code",
   "execution_count": 7,
   "metadata": {},
   "outputs": [
    {
     "name": "stdout",
     "output_type": "stream",
     "text": [
      "A\n",
      "BB\n",
      "CCC\n",
      "DDDD\n",
      "EEEEE\n"
     ]
    }
   ],
   "source": [
    "# 35. Print the following pattern:\n",
    "# A\n",
    "# BB\n",
    "# CCC\n",
    "# DDDD\n",
    "# EEEEE\n",
    "\n",
    "n = int(input(\"enter a value : \"))\n",
    "o = ord('A') #65\n",
    "for i in range(n):\n",
    "    for j in range(i+1):\n",
    "        print(chr(o),end='')\n",
    "\n",
    "    print()\n",
    "    o+=1\n",
    "\n"
   ]
  },
  {
   "cell_type": "code",
   "execution_count": 8,
   "metadata": {},
   "outputs": [
    {
     "name": "stdout",
     "output_type": "stream",
     "text": [
      "\n",
      "*\n",
      "**\n",
      "***\n",
      "****\n",
      "*****\n",
      "******\n"
     ]
    }
   ],
   "source": [
    "# 36. Print the following pattern:\n",
    "# *\n",
    "# **\n",
    "# ***\n",
    "# ****\n",
    "# *****\n",
    "\n",
    "n = int(input(\"enter the value : \"))\n",
    "for i in range(n+1):\n",
    "    print('*'*i)"
   ]
  },
  {
   "cell_type": "code",
   "execution_count": 57,
   "metadata": {},
   "outputs": [
    {
     "name": "stdout",
     "output_type": "stream",
     "text": [
      "\n",
      "1\n",
      "121\n",
      "12321\n",
      "1234321\n",
      "123454321\n"
     ]
    }
   ],
   "source": [
    "# 37. Print the following pattern:\n",
    "# 1\n",
    "# 121\n",
    "# 12321\n",
    "# 1234321\n",
    "# 123454321\n",
    "\n",
    "n = int(input(\"enter the value : \"))\n",
    "\n",
    "for i in range(n+1):\n",
    "    for j in range(1,i+1):\n",
    "        print(j,end='')\n",
    "        if i == j:\n",
    "            break\n",
    "    \n",
    "    for j in range(i,1,-1):\n",
    "        print(j-1,end='')\n",
    "\n",
    "    print()\n"
   ]
  },
  {
   "cell_type": "code",
   "execution_count": 19,
   "metadata": {},
   "outputs": [
    {
     "name": "stdout",
     "output_type": "stream",
     "text": [
      "\n",
      "1\n",
      "10\n",
      "101\n",
      "1010\n",
      "10101\n"
     ]
    }
   ],
   "source": [
    "# 38. Print the following pattern:\n",
    "# 1\n",
    "# 10\n",
    "# 101\n",
    "# 1010\n",
    "# 10101\n",
    "\n",
    "n = int(input(\"enter the value : \"))\n",
    "\n",
    "for i in range(n+1):\n",
    "    x=1\n",
    "    for j in range(1,i+1):\n",
    "        if x == 1:\n",
    "            print(1,end='')\n",
    "            x=0\n",
    "        else:\n",
    "            print(0,end='')\n",
    "            x=1\n",
    "    print()\n",
    "\n"
   ]
  },
  {
   "cell_type": "code",
   "execution_count": 50,
   "metadata": {},
   "outputs": [
    {
     "name": "stdout",
     "output_type": "stream",
     "text": [
      "*****\n",
      "****\n",
      "***\n",
      "**\n",
      "*\n"
     ]
    }
   ],
   "source": [
    "# 39. Print the following pattern:\n",
    "# *****\n",
    "# ****\n",
    "# ***\n",
    "# **\n",
    "# *\n",
    "\n",
    "n = int(input(\"enter the value : \"))\n",
    "for i in range(n,0,-1):\n",
    "    print('*'*i)"
   ]
  },
  {
   "cell_type": "code",
   "execution_count": 27,
   "metadata": {},
   "outputs": [
    {
     "name": "stdout",
     "output_type": "stream",
     "text": [
      "A\n",
      "BBB\n",
      "CCCCC\n",
      "DDDDDDD\n",
      "EEEEEEEEE\n"
     ]
    }
   ],
   "source": [
    "# 40. Print the following pattern:\n",
    "# A\n",
    "# BBB\n",
    "# CCCCC\n",
    "# DDDDDDD\n",
    "# EEEEEEEEE\n",
    "\n",
    "\n",
    "n = int(input(\"enter a value : \"))\n",
    "o = ord('A') #65\n",
    "for i in range(1,n*2,2):\n",
    "    print(chr(o)*i)\n",
    "    o+=1\n"
   ]
  },
  {
   "cell_type": "code",
   "execution_count": 49,
   "metadata": {},
   "outputs": [
    {
     "name": "stdout",
     "output_type": "stream",
     "text": [
      "1\n",
      "212\n",
      "32123\n",
      "4321234\n",
      "543212345\n"
     ]
    }
   ],
   "source": [
    "# 41. Print the following pattern:\n",
    "# 1\n",
    "# 212\n",
    "# 32123\n",
    "# 4321234\n",
    "# 543212345\n",
    "\n",
    "\n",
    "n = int(input(\"enter the value : \"))\n",
    "\n",
    "for i in range(1,n+1):\n",
    "    x = i\n",
    "    for j in range(1,(i)*2,2):\n",
    "            if x!=0:\n",
    "                print(x,end='')\n",
    "            x-=1\n",
    "            if x==1:\n",
    "                break\n",
    "\n",
    "    for j in range(1,(i)*2,2):\n",
    "            if x!=0:\n",
    "                print(x,end='')\n",
    "            x+=1\n",
    "         \n",
    "\n",
    "    print()"
   ]
  }
 ],
 "metadata": {
  "kernelspec": {
   "display_name": "Python 3",
   "language": "python",
   "name": "python3"
  },
  "language_info": {
   "codemirror_mode": {
    "name": "ipython",
    "version": 3
   },
   "file_extension": ".py",
   "mimetype": "text/x-python",
   "name": "python",
   "nbconvert_exporter": "python",
   "pygments_lexer": "ipython3",
   "version": "3.12.2"
  }
 },
 "nbformat": 4,
 "nbformat_minor": 2
}
